{
 "cells": [
  {
   "cell_type": "code",
   "execution_count": 26,
   "metadata": {},
   "outputs": [
    {
     "name": "stdout",
     "output_type": "stream",
     "text": [
      "Connection Established\n",
      "Secret key:  0111000110111110111100011111111000010100110010010001010001010001 Length= 64\n",
      "ENTER MSG:qwertyuiop\n",
      "2\n",
      "qwertyuiopxxxxxx\n",
      "Encrypted message:  b'\\xdfs\\xe2\\xeb\\xab\\x05y)\\xf4(\\xc7\\x89\\xa3\\x86m\\x92\\xadj\\x88\\xb4\\xfa7\\x83='\n",
      "Decrypted message:  b'qwertyuiopxxxxxx'\n"
     ]
    }
   ],
   "source": [
    "import random\n",
    "from Crypto.Cipher import DES3\n",
    "from Crypto import Random\n",
    "from des import DesKey\n",
    "\n",
    "rl = [random.randint(0,1) for i in range(0,64)]\n",
    "rr = [random.randint(0,1) for i in range(0,64)]\n",
    "kil = [random.randint(0,1) for i in range(0,64)]\n",
    "kir = [random.randint(0,1) for i in range(0,64)]\n",
    "\n",
    "def a3(rl,rr):\n",
    "    lhs = [rl[i]^kir[i] for i in range(0,len(rl))]\n",
    "    rhs = [rr[i]^kil[i] for i in range(0,len(rr))]\n",
    "    ans = [lhs[i]^rhs[i] for i in range(0,64)]\n",
    "    ansl = ans[:32]\n",
    "    ansr = ans[32:]\n",
    "    res = int(\"\".join([str(ansl[i]^ansr[i]) for i in range(0,32)]))\n",
    "    return res\n",
    "\n",
    "def aca3(rl,rr):\n",
    "    return a3(rl,rr)\n",
    "\n",
    "def sima3(rl,rr):\n",
    "    return a3(rl,rr)\n",
    "\n",
    "def a8():\n",
    "    lhs = [rl[i]^kir[i] for i in range(0,len(rl))]\n",
    "    rhs = [rr[i]^kil[i] for i in range(0,len(rr))]\n",
    "    kc = str(\"\".join([str(lhs[i]^rhs[i]) for i in range(0,64)]))\n",
    "    return kc\n",
    "\n",
    "\n",
    "def msc():\n",
    "    res = aca3(rl,rr)\n",
    "    sres = sima3(rl,rr)\n",
    "    if res == sres:\n",
    "        print(\"Connection Established\")\n",
    "    else:\n",
    "        print(\":(\")\n",
    "        \n",
    "iv = 0\n",
    "        \n",
    "def encrypt(pt,kc):\n",
    "    key1 = \"\".join(list(kc)[:32])\n",
    "    key2 = \"\".join(list(kc)[32:])\n",
    "    key3 = [int(key1[i])^int(key2[i]) for i in range(len(key1))]\n",
    "#     print(key3)\n",
    "    key = str(\"\".join([str(key3[i] ^ key3[i+16]) for i in range(len(key3)//2)]))\n",
    "    key0 = DesKey(key.encode()) \n",
    "    c = key0.encrypt(pt.encode(), padding = True)\n",
    "    return c\n",
    "    \n",
    "\n",
    "def decrypt(ec,kc):\n",
    "    key1 = \"\".join(list(kc)[:32])\n",
    "    key2 = \"\".join(list(kc)[32:])\n",
    "    key3 = [int(key1[i])^int(key2[i]) for i in range(len(key1))]\n",
    "#     print(key3)\n",
    "    key = str(\"\".join([str(key3[i] ^ key3[i+16]) for i in range(len(key3)//2)]))\n",
    "    key0 = DesKey(key.encode())\n",
    "    return key0.decrypt(ec, padding=True)\n",
    "    \n",
    "    \n",
    "\n",
    "msc()\n",
    "kc = a8()\n",
    "print(\"Secret key: \",kc,\"Length=\",len(kc))\n",
    "pt = input(\"ENTER MSG:\")\n",
    "xx = len(pt)%8\n",
    "print(xx)\n",
    "for i in range(8-xx):\n",
    "    pt = pt+'x'\n",
    "print(pt)\n",
    "enc = encrypt(pt,kc)\n",
    "print(\"Encrypted message: \",enc)\n",
    "dcry = decrypt(enc,kc)\n",
    "print(\"Decrypted message: \",dcry)"
   ]
  },
  {
   "cell_type": "code",
   "execution_count": 3,
   "metadata": {},
   "outputs": [],
   "source": [
    ">>> from Crypto.Cipher import DES\n",
    ">>>\n",
    "key = b'-8B key-'\n",
    "cipher = DES.new(key, DES.MODE_OFB)\n",
    "plaintext = b'sona si latine loqueris '\n",
    "msg = cipher.iv + cipher.encrypt(plaintext)"
   ]
  },
  {
   "cell_type": "code",
   "execution_count": 17,
   "metadata": {},
   "outputs": [
    {
     "name": "stdout",
     "output_type": "stream",
     "text": [
      "[0, 1, 1, 1, 1, 1, 0, 1, 1, 0, 1, 0, 0, 1, 0, 1, 0, 0, 0, 0, 1, 1, 0, 1, 0, 0, 1, 1, 1, 1, 0, 1]\n",
      "0111000010011000\n"
     ]
    }
   ],
   "source": [
    "key1 = \"\".join(list(kc)[:32])\n",
    "key2 = \"\".join(list(kc)[32:])\n",
    "key3 = [int(key1[i])^int(key2[i]) for i in range(len(key1))]\n",
    "print(key3)\n",
    "key = str(\"\".join([str(key3[i] ^ key3[i+16]) for i in range(len(key3)//2)]))\n",
    "print(key)"
   ]
  },
  {
   "cell_type": "code",
   "execution_count": 20,
   "metadata": {},
   "outputs": [
    {
     "data": {
      "text/plain": [
       "b'R\\x85>\\xc7\\x1f\\xd1#\\x8fE\\xa1R\\xbf\\x8d\\xd6\\xa9q\\xadj\\x88\\xb4\\xfa7\\x83='"
      ]
     },
     "execution_count": 20,
     "metadata": {},
     "output_type": "execute_result"
    }
   ],
   "source": [
    "from des import DesKey\n",
    "key0 = DesKey(key.encode()) \n",
    "c = key0.encrypt(pt.encode(), padding = True)\n",
    "c\n"
   ]
  },
  {
   "cell_type": "code",
   "execution_count": 22,
   "metadata": {},
   "outputs": [
    {
     "data": {
      "text/plain": [
       "b'hi egstdxxxxxxxx'"
      ]
     },
     "execution_count": 22,
     "metadata": {},
     "output_type": "execute_result"
    }
   ],
   "source": [
    "key0.decrypt(c, padding=True)"
   ]
  },
  {
   "cell_type": "code",
   "execution_count": null,
   "metadata": {},
   "outputs": [],
   "source": []
  }
 ],
 "metadata": {
  "kernelspec": {
   "display_name": "Python 3",
   "language": "python",
   "name": "python3"
  },
  "language_info": {
   "codemirror_mode": {
    "name": "ipython",
    "version": 3
   },
   "file_extension": ".py",
   "mimetype": "text/x-python",
   "name": "python",
   "nbconvert_exporter": "python",
   "pygments_lexer": "ipython3",
   "version": "3.6.5"
  }
 },
 "nbformat": 4,
 "nbformat_minor": 2
}
