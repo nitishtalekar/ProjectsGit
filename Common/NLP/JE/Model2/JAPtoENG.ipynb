{
 "cells": [
  {
   "cell_type": "code",
   "execution_count": 1,
   "metadata": {},
   "outputs": [
    {
     "name": "stderr",
     "output_type": "stream",
     "text": [
      "C:\\Users\\NitishTalekar\\Applictions\\Anaconda3\\lib\\site-packages\\h5py\\__init__.py:36: FutureWarning: Conversion of the second argument of issubdtype from `float` to `np.floating` is deprecated. In future, it will be treated as `np.float64 == np.dtype(float).type`.\n",
      "  from ._conv import register_converters as _register_converters\n",
      "Using TensorFlow backend.\n"
     ]
    }
   ],
   "source": [
    "import string\n",
    "import re\n",
    "from numpy import array, argmax, random, take\n",
    "import pandas as pd\n",
    "from keras.models import Sequential\n",
    "from keras.layers import Dense, LSTM, Embedding, RepeatVector\n",
    "from keras.preprocessing.text import Tokenizer\n",
    "from keras.callbacks import ModelCheckpoint\n",
    "from keras.preprocessing.sequence import pad_sequences\n",
    "from keras.models import load_model\n",
    "from keras import optimizers\n",
    "import matplotlib.pyplot as plt\n",
    "from pickle import dump\n",
    "from unicodedata import normalize\n",
    "import tinysegmenter\n",
    "%matplotlib inline\n",
    "pd.set_option('display.max_colwidth', 200)"
   ]
  },
  {
   "cell_type": "code",
   "execution_count": 2,
   "metadata": {},
   "outputs": [
    {
     "data": {
      "text/plain": [
       "array([['Go.', '行け。'],\n",
       "       ['Go.', '行きなさい。'],\n",
       "       ['Hi.', 'こんにちは。'],\n",
       "       ...,\n",
       "       ['Tom kept his promise.', 'トムは約束を守った。'],\n",
       "       ['Tom kicked Mary hard.', 'トムはメアリーを強く蹴った。'],\n",
       "       ['Tom knocked him down.', 'トムは彼を殴り倒した。']], dtype='<U192')"
      ]
     },
     "execution_count": 2,
     "metadata": {},
     "output_type": "execute_result"
    }
   ],
   "source": [
    "def read_text(filename):\n",
    "    # open the file\n",
    "    file = open(filename, mode='rt', encoding='utf-8')\n",
    "\n",
    "    # read all text\n",
    "    text = file.read()\n",
    "    file.close()\n",
    "    return text\n",
    "\n",
    "def to_lines(text):\n",
    "    sents = text.strip().split('\\n')\n",
    "    sents = [i.split('\\t') for i in sents]\n",
    "    return sents\n",
    "\n",
    "data = read_text(\"jpn.txt\")\n",
    "jpn_eng = to_lines(data)\n",
    "jpn_eng = array(jpn_eng)\n",
    "jpn_eng = jpn_eng[:10000,:]\n",
    "\n",
    "jpn_eng"
   ]
  },
  {
   "cell_type": "code",
   "execution_count": 3,
   "metadata": {},
   "outputs": [
    {
     "data": {
      "text/plain": [
       "array([['go', '行け。'],\n",
       "       ['go', '行きなさい。'],\n",
       "       ['hi', 'こんにちは。'],\n",
       "       ...,\n",
       "       ['tom kept his promise', 'トムは約束を守った。'],\n",
       "       ['tom kicked mary hard', 'トムはメアリーを強く蹴った。'],\n",
       "       ['tom knocked him down', 'トムは彼を殴り倒した。']], dtype='<U192')"
      ]
     },
     "execution_count": 3,
     "metadata": {},
     "output_type": "execute_result"
    }
   ],
   "source": [
    "jpn_eng[:,0] = [s.translate(str.maketrans('', '', string.punctuation)) for s in jpn_eng[:,0]]\n",
    "jpn_eng[:,0] = [jpn_eng[i,0].lower() for i in range(len(jpn_eng[:,0]))] \n",
    "jpn_eng"
   ]
  },
  {
   "cell_type": "code",
   "execution_count": 4,
   "metadata": {},
   "outputs": [
    {
     "data": {
      "text/plain": [
       "array([['go', '行け'],\n",
       "       ['go', '行き なさい'],\n",
       "       ['hi', 'こん にち は'],\n",
       "       ...,\n",
       "       ['tom kept his promise', 'トム は 約束 を 守っ た'],\n",
       "       ['tom kicked mary hard', 'トム は メアリー を 強く 蹴っ た'],\n",
       "       ['tom knocked him down', 'トム は 彼 を 殴り倒し た']], dtype='<U192')"
      ]
     },
     "execution_count": 4,
     "metadata": {},
     "output_type": "execute_result"
    }
   ],
   "source": [
    "jpn_eng[:,1] = [\" \".join(tinysegmenter.tokenize(i)[:-1]) for i in jpn_eng[:,1]]\n",
    "jpn_eng"
   ]
  },
  {
   "cell_type": "code",
   "execution_count": 5,
   "metadata": {},
   "outputs": [
    {
     "data": {
      "image/png": "[encoded data removed]",
      "text/plain": [
       "<Figure size 432x288 with 2 Axes>"
      ]
     },
     "metadata": {},
     "output_type": "display_data"
    }
   ],
   "source": [
    "eng_l = []\n",
    "jpn_l = []\n",
    "\n",
    "# populate the lists with sentence lengths\n",
    "for i in jpn_eng[:,0]:\n",
    "      eng_l.append(len(i.split()))\n",
    "\n",
    "for i in jpn_eng[:,1]:\n",
    "      jpn_l.append(len(i.split()))\n",
    "\n",
    "length_df = pd.DataFrame({'eng':eng_l, 'jpn':jpn_l})\n",
    "# print(length_df)\n",
    "\n",
    "length_df.hist(bins = 30)\n",
    "plt.show()"
   ]
  },
  {
   "cell_type": "code",
   "execution_count": 29,
   "metadata": {},
   "outputs": [],
   "source": [
    "def tokenization(lines):\n",
    "    tokenizer = Tokenizer()\n",
    "    tokenizer.fit_on_texts(lines)\n",
    "    return tokenizer"
   ]
  },
  {
   "cell_type": "code",
   "execution_count": 31,
   "metadata": {},
   "outputs": [
    {
     "name": "stdout",
     "output_type": "stream",
     "text": [
      "English Vocabulary Size: 4525\n"
     ]
    }
   ],
   "source": [
    "eng_tokenizer = tokenization(jpn_eng[:, 0])\n",
    "eng_vocab_size = len(eng_tokenizer.word_index) + 1\n",
    "\n",
    "eng_length = 8\n",
    "print('English Vocabulary Size: %d' % eng_vocab_size)"
   ]
  },
  {
   "cell_type": "code",
   "execution_count": 32,
   "metadata": {},
   "outputs": [
    {
     "name": "stdout",
     "output_type": "stream",
     "text": [
      "Japanese Vocabulary Size: 8304\n"
     ]
    }
   ],
   "source": [
    "jpn_tokenizer = tokenization(jpn_eng[:, 1])\n",
    "jpn_vocab_size = len(jpn_tokenizer.word_index) + 1\n",
    "\n",
    "jpn_length = 8\n",
    "print('Japanese Vocabulary Size: %d' % jpn_vocab_size)"
   ]
  },
  {
   "cell_type": "code",
   "execution_count": 33,
   "metadata": {},
   "outputs": [],
   "source": [
    "def encode_sequences(tokenizer, length, lines):\n",
    "    # integer encode sequences\n",
    "    seq = tokenizer.texts_to_sequences(lines)\n",
    "    # pad sequences with 0 values\n",
    "    seq = pad_sequences(seq, maxlen=length, padding='post')\n",
    "    return seq"
   ]
  },
  {
   "cell_type": "code",
   "execution_count": 34,
   "metadata": {},
   "outputs": [],
   "source": [
    "from sklearn.model_selection import train_test_split\n",
    "\n",
    "# split data into train and test set\n",
    "train, test = train_test_split(jpn_eng, test_size=0.2, random_state = 12)"
   ]
  },
  {
   "cell_type": "code",
   "execution_count": 35,
   "metadata": {},
   "outputs": [],
   "source": [
    "# prepare training data\n",
    "trainX = encode_sequences(jpn_tokenizer, jpn_length, train[:, 1])\n",
    "trainY = encode_sequences(eng_tokenizer, eng_length, train[:, 0])\n",
    "\n",
    "# prepare validation data\n",
    "testX = encode_sequences(jpn_tokenizer, jpn_length, test[:, 1])\n",
    "testY = encode_sequences(eng_tokenizer, eng_length, test[:, 0])"
   ]
  },
  {
   "cell_type": "code",
   "execution_count": 36,
   "metadata": {},
   "outputs": [],
   "source": [
    "def define_model(in_vocab,out_vocab, in_timesteps,out_timesteps,units):\n",
    "    model = Sequential()\n",
    "    model.add(Embedding(in_vocab, units, input_length=in_timesteps, mask_zero=True))\n",
    "    model.add(LSTM(units))\n",
    "    model.add(RepeatVector(out_timesteps))\n",
    "    model.add(LSTM(units, return_sequences=True))\n",
    "    model.add(Dense(out_vocab, activation='softmax'))\n",
    "    return model"
   ]
  },
  {
   "cell_type": "code",
   "execution_count": 38,
   "metadata": {},
   "outputs": [],
   "source": [
    "model = define_model(jpn_vocab_size, eng_vocab_size, jpn_length, eng_length, 512)\n",
    "rms = optimizers.RMSprop(lr=0.001)\n",
    "model.compile(optimizer=rms, loss='sparse_categorical_crossentropy')"
   ]
  },
  {
   "cell_type": "code",
   "execution_count": 39,
   "metadata": {},
   "outputs": [
    {
     "name": "stdout",
     "output_type": "stream",
     "text": [
      "Train on 12800 samples, validate on 3200 samples\n",
      "Epoch 1/20\n",
      "12800/12800 [==============================] - 184s 14ms/step - loss: 4.5515 - val_loss: 3.7610\n",
      "\n",
      "Epoch 00001: val_loss improved from inf to 3.76103, saving model to jpn_model1.h5\n",
      "Epoch 2/20\n",
      "12800/12800 [==============================] - 167s 13ms/step - loss: 3.5251 - val_loss: 3.4448\n",
      "\n",
      "Epoch 00002: val_loss improved from 3.76103 to 3.44484, saving model to jpn_model1.h5\n",
      "Epoch 3/20\n",
      "12800/12800 [==============================] - 164s 13ms/step - loss: 3.3886 - val_loss: 3.4220\n",
      "\n",
      "Epoch 00003: val_loss improved from 3.44484 to 3.42203, saving model to jpn_model1.h5\n",
      "Epoch 4/20\n",
      "12800/12800 [==============================] - 154s 12ms/step - loss: 3.3185 - val_loss: 3.3728\n",
      "\n",
      "Epoch 00004: val_loss improved from 3.42203 to 3.37281, saving model to jpn_model1.h5\n",
      "Epoch 5/20\n",
      "12800/12800 [==============================] - 651s 51ms/step - loss: 3.2696 - val_loss: 3.3602\n",
      "\n",
      "Epoch 00005: val_loss improved from 3.37281 to 3.36024, saving model to jpn_model1.h5\n",
      "Epoch 6/20\n",
      "12800/12800 [==============================] - 167s 13ms/step - loss: 3.2252 - val_loss: 3.3298\n",
      "\n",
      "Epoch 00006: val_loss improved from 3.36024 to 3.32984, saving model to jpn_model1.h5\n",
      "Epoch 7/20\n",
      "12800/12800 [==============================] - 168s 13ms/step - loss: 3.1688 - val_loss: 3.2990\n",
      "\n",
      "Epoch 00007: val_loss improved from 3.32984 to 3.29904, saving model to jpn_model1.h5\n",
      "Epoch 8/20\n",
      "12800/12800 [==============================] - 165s 13ms/step - loss: 3.0921 - val_loss: 3.2696\n",
      "\n",
      "Epoch 00008: val_loss improved from 3.29904 to 3.26955, saving model to jpn_model1.h5\n",
      "Epoch 9/20\n",
      "12800/12800 [==============================] - 154s 12ms/step - loss: 3.0268 - val_loss: 3.2324\n",
      "\n",
      "Epoch 00009: val_loss improved from 3.26955 to 3.23238, saving model to jpn_model1.h5\n",
      "Epoch 10/20\n",
      "12800/12800 [==============================] - 158s 12ms/step - loss: 2.9617 - val_loss: 3.1982\n",
      "\n",
      "Epoch 00010: val_loss improved from 3.23238 to 3.19823, saving model to jpn_model1.h5\n",
      "Epoch 11/20\n",
      "12800/12800 [==============================] - 152s 12ms/step - loss: 2.8960 - val_loss: 3.2041\n",
      "\n",
      "Epoch 00011: val_loss did not improve from 3.19823\n",
      "Epoch 12/20\n",
      "12800/12800 [==============================] - 152s 12ms/step - loss: 2.8330 - val_loss: 3.1163\n",
      "\n",
      "Epoch 00012: val_loss improved from 3.19823 to 3.11628, saving model to jpn_model1.h5\n",
      "Epoch 13/20\n",
      "12800/12800 [==============================] - 156s 12ms/step - loss: 2.7718 - val_loss: 3.0725\n",
      "\n",
      "Epoch 00013: val_loss improved from 3.11628 to 3.07246, saving model to jpn_model1.h5\n",
      "Epoch 14/20\n",
      "12800/12800 [==============================] - 164s 13ms/step - loss: 2.6938 - val_loss: 3.0539\n",
      "\n",
      "Epoch 00014: val_loss improved from 3.07246 to 3.05393, saving model to jpn_model1.h5\n",
      "Epoch 15/20\n",
      "12800/12800 [==============================] - 165s 13ms/step - loss: 2.6359 - val_loss: 3.0089\n",
      "\n",
      "Epoch 00015: val_loss improved from 3.05393 to 3.00895, saving model to jpn_model1.h5\n",
      "Epoch 16/20\n",
      "12800/12800 [==============================] - 176s 14ms/step - loss: 2.5592 - val_loss: 2.9826\n",
      "\n",
      "Epoch 00016: val_loss improved from 3.00895 to 2.98256, saving model to jpn_model1.h5\n",
      "Epoch 17/20\n",
      "12800/12800 [==============================] - 165s 13ms/step - loss: 2.4939 - val_loss: 2.9837\n",
      "\n",
      "Epoch 00017: val_loss did not improve from 2.98256\n",
      "Epoch 18/20\n",
      "12800/12800 [==============================] - 158s 12ms/step - loss: 2.4284 - val_loss: 2.9347\n",
      "\n",
      "Epoch 00018: val_loss improved from 2.98256 to 2.93469, saving model to jpn_model1.h5\n",
      "Epoch 19/20\n",
      "12800/12800 [==============================] - 159s 12ms/step - loss: 2.3634 - val_loss: 2.9125\n",
      "\n",
      "Epoch 00019: val_loss improved from 2.93469 to 2.91252, saving model to jpn_model1.h5\n",
      "Epoch 20/20\n",
      "12800/12800 [==============================] - 164s 13ms/step - loss: 2.2971 - val_loss: 2.8969\n",
      "\n",
      "Epoch 00020: val_loss improved from 2.91252 to 2.89692, saving model to jpn_model1.h5\n"
     ]
    }
   ],
   "source": [
    "filename = 'jpn_model1.h5'\n",
    "checkpoint = ModelCheckpoint(filename, monitor='val_loss', verbose=1, save_best_only=True, mode='min')\n",
    "\n",
    "# train model\n",
    "history = model.fit(trainX, trainY.reshape(trainY.shape[0], trainY.shape[1], 1),\n",
    "                    epochs=20, batch_size=512, validation_split = 0.2,callbacks=[checkpoint], \n",
    "                    verbose=1)"
   ]
  },
  {
   "cell_type": "code",
   "execution_count": 40,
   "metadata": {},
   "outputs": [
    {
     "data": {
      "image/png": "[encoded data removed]",
      "text/plain": [
       "<Figure size 432x288 with 1 Axes>"
      ]
     },
     "metadata": {},
     "output_type": "display_data"
    }
   ],
   "source": [
    "plt.plot(history.history['loss'])\n",
    "plt.plot(history.history['val_loss'])\n",
    "plt.legend(['train','validation'])\n",
    "plt.show()"
   ]
  },
  {
   "cell_type": "code",
   "execution_count": 41,
   "metadata": {},
   "outputs": [],
   "source": [
    "model = load_model('jpn_model1.h5')\n",
    "preds = model.predict_classes(testX.reshape((testX.shape[0],testX.shape[1])))"
   ]
  },
  {
   "cell_type": "code",
   "execution_count": 42,
   "metadata": {},
   "outputs": [],
   "source": [
    "def get_word(n, tokenizer):\n",
    "    for word, index in tokenizer.word_index.items():\n",
    "        if index == n:\n",
    "            return word\n",
    "    return None"
   ]
  },
  {
   "cell_type": "code",
   "execution_count": 44,
   "metadata": {},
   "outputs": [],
   "source": [
    "preds_text = []\n",
    "for i in preds:\n",
    "    temp = []\n",
    "    for j in range(len(i)):\n",
    "        t = get_word(i[j], eng_tokenizer)\n",
    "        if j > 0:\n",
    "            if (t == get_word(i[j-1], eng_tokenizer)) or (t == None):\n",
    "                temp.append('')\n",
    "            else:\n",
    "                temp.append(t)\n",
    "        else:\n",
    "            if(t == None):\n",
    "                temp.append('')\n",
    "            else:\n",
    "                temp.append(t) \n",
    "\n",
    "    preds_text.append(' '.join(temp))"
   ]
  },
  {
   "cell_type": "code",
   "execution_count": 46,
   "metadata": {},
   "outputs": [],
   "source": [
    "pred_df = pd.DataFrame({'jap':test[:,1],'actual' : test[:,0], 'predicted' : preds_text})"
   ]
  },
  {
   "cell_type": "code",
   "execution_count": 47,
   "metadata": {},
   "outputs": [
    {
     "data": {
      "text/html": [
       "<div>\n",
       "<style scoped>\n",
       "    .dataframe tbody tr th:only-of-type {\n",
       "        vertical-align: middle;\n",
       "    }\n",
       "\n",
       "    .dataframe tbody tr th {\n",
       "        vertical-align: top;\n",
       "    }\n",
       "\n",
       "    .dataframe thead th {\n",
       "        text-align: right;\n",
       "    }\n",
       "</style>\n",
       "<table border=\"1\" class=\"dataframe\">\n",
       "  <thead>\n",
       "    <tr style=\"text-align: right;\">\n",
       "      <th></th>\n",
       "      <th>jap</th>\n",
       "      <th>actual</th>\n",
       "      <th>predicted</th>\n",
       "    </tr>\n",
       "  </thead>\n",
       "  <tbody>\n",
       "    <tr>\n",
       "      <th>1877</th>\n",
       "      <td>私 なら できる</td>\n",
       "      <td>i can do it</td>\n",
       "      <td>do you  to</td>\n",
       "    </tr>\n",
       "    <tr>\n",
       "      <th>3372</th>\n",
       "      <td>私 は 音楽 を 習っ て い ます</td>\n",
       "      <td>im learning music</td>\n",
       "      <td>i have a</td>\n",
       "    </tr>\n",
       "    <tr>\n",
       "      <th>50</th>\n",
       "      <td>この 家 は 売り物 で は あり ませ ん</td>\n",
       "      <td>this house isnt for sale</td>\n",
       "      <td>this is</td>\n",
       "    </tr>\n",
       "    <tr>\n",
       "      <th>2055</th>\n",
       "      <td>神 の みぞ が 知る</td>\n",
       "      <td>only god knows</td>\n",
       "      <td>this is</td>\n",
       "    </tr>\n",
       "    <tr>\n",
       "      <th>1111</th>\n",
       "      <td>医者 を 呼ん で 下さい</td>\n",
       "      <td>please call me a doctor</td>\n",
       "      <td>please me  the</td>\n",
       "    </tr>\n",
       "    <tr>\n",
       "      <th>474</th>\n",
       "      <td>本当 に あり が とう</td>\n",
       "      <td>many thanks</td>\n",
       "      <td>its a</td>\n",
       "    </tr>\n",
       "    <tr>\n",
       "      <th>3304</th>\n",
       "      <td>彼 は 海 の 方 を 向い た</td>\n",
       "      <td>he faced toward the sea</td>\n",
       "      <td>he was his the</td>\n",
       "    </tr>\n",
       "    <tr>\n",
       "      <th>457</th>\n",
       "      <td>君 は 行か ない ほう が よい</td>\n",
       "      <td>youd better not go</td>\n",
       "      <td>i like to</td>\n",
       "    </tr>\n",
       "    <tr>\n",
       "      <th>857</th>\n",
       "      <td>何 が 欲しかっ た の</td>\n",
       "      <td>what did you want</td>\n",
       "      <td>what did you</td>\n",
       "    </tr>\n",
       "    <tr>\n",
       "      <th>2671</th>\n",
       "      <td>理 に 適っ てる と 思う</td>\n",
       "      <td>i think it makes sense</td>\n",
       "      <td>i have to  a</td>\n",
       "    </tr>\n",
       "    <tr>\n",
       "      <th>1985</th>\n",
       "      <td>かぜ を 引い て いる ん だ</td>\n",
       "      <td>i have a cold</td>\n",
       "      <td>i have a</td>\n",
       "    </tr>\n",
       "    <tr>\n",
       "      <th>3766</th>\n",
       "      <td>トム は イライラ し て い た</td>\n",
       "      <td>tom got irritated</td>\n",
       "      <td>tom was mary</td>\n",
       "    </tr>\n",
       "    <tr>\n",
       "      <th>3636</th>\n",
       "      <td>彼 は 一 時間 遅れ て 現れ た</td>\n",
       "      <td>he turned up an hour later</td>\n",
       "      <td>he was a the</td>\n",
       "    </tr>\n",
       "    <tr>\n",
       "      <th>2190</th>\n",
       "      <td>帰り なさい</td>\n",
       "      <td>go on home</td>\n",
       "      <td>come me</td>\n",
       "    </tr>\n",
       "    <tr>\n",
       "      <th>403</th>\n",
       "      <td>すぐ 参り ます</td>\n",
       "      <td>ill be there soon</td>\n",
       "      <td>ill be it</td>\n",
       "    </tr>\n",
       "  </tbody>\n",
       "</table>\n",
       "</div>"
      ],
      "text/plain": [
       "                         jap                      actual           predicted\n",
       "1877                私 なら できる                 i can do it      do you  to    \n",
       "3372      私 は 音楽 を 習っ て い ます           im learning music       i have a     \n",
       "50    この 家 は 売り物 で は あり ませ ん    this house isnt for sale       this is      \n",
       "2055             神 の みぞ が 知る              only god knows       this is      \n",
       "1111           医者 を 呼ん で 下さい     please call me a doctor  please me  the    \n",
       "474             本当 に あり が とう                 many thanks         its a      \n",
       "3304        彼 は 海 の 方 を 向い た     he faced toward the sea  he was his the    \n",
       "457        君 は 行か ない ほう が よい          youd better not go      i like to     \n",
       "857             何 が 欲しかっ た の           what did you want   what did you     \n",
       "2671          理 に 適っ てる と 思う      i think it makes sense     i have to  a   \n",
       "1985        かぜ を 引い て いる ん だ               i have a cold       i have a     \n",
       "3766       トム は イライラ し て い た           tom got irritated   tom was mary     \n",
       "3636      彼 は 一 時間 遅れ て 現れ た  he turned up an hour later    he was a the    \n",
       "2190                  帰り なさい                  go on home       come me      \n",
       "403                 すぐ 参り ます           ill be there soon      ill be it     "
      ]
     },
     "execution_count": 47,
     "metadata": {},
     "output_type": "execute_result"
    }
   ],
   "source": [
    "pred_df.sample(15)"
   ]
  },
  {
   "cell_type": "code",
   "execution_count": null,
   "metadata": {},
   "outputs": [],
   "source": [
    "model = load_model('jpn_model1.h5')\n",
    "preds = model.predict_classes(testX.reshape((testX.shape[0],testX.shape[1])))\n",
    "\n",
    "def get_word(n, tokenizer):\n",
    "    for word, index in tokenizer.word_index.items():\n",
    "        if index == n:\n",
    "            return word\n",
    "    return None\n",
    "\n",
    "preds_text = []\n",
    "for i in preds:\n",
    "    temp = []\n",
    "    for j in range(len(i)):\n",
    "        t = get_word(i[j], eng_tokenizer)\n",
    "        if j > 0:\n",
    "            if (t == get_word(i[j-1], eng_tokenizer)) or (t == None):\n",
    "                temp.append('')\n",
    "            else:\n",
    "                temp.append(t)\n",
    "        else:\n",
    "            if(t == None):\n",
    "                temp.append('')\n",
    "            else:\n",
    "                temp.append(t) \n",
    "\n",
    "    preds_text.append(' '.join(temp))\n",
    "    \n",
    "pred_df = pd.DataFrame({'jap':test[:,1],'actual' : test[:,0], 'predicted' : preds_text})\n",
    "pred_df.sample(15)"
   ]
  },
  {
   "cell_type": "code",
   "execution_count": 48,
   "metadata": {},
   "outputs": [
    {
     "data": {
      "text/plain": [
       "array([[1417,    7,  104, ...,   18,    0,    0],\n",
       "       [ 443,    1, 2925, ...,    3,   20,   17],\n",
       "       [  20,  418,    1, ...,   37,   17,   14],\n",
       "       ...,\n",
       "       [3551, 3552,    7, ...,    3,   20,   17],\n",
       "       [2353,    7,  273, ...,    0,    0,    0],\n",
       "       [   8,    1, 2602, ...,    0,    0,    0]])"
      ]
     },
     "execution_count": 48,
     "metadata": {},
     "output_type": "execute_result"
    }
   ],
   "source": [
    "testX"
   ]
  },
  {
   "cell_type": "code",
   "execution_count": null,
   "metadata": {},
   "outputs": [],
   "source": []
  }
 ],
 "metadata": {
  "kernelspec": {
   "display_name": "Python 3",
   "language": "python",
   "name": "python3"
  },
  "language_info": {
   "codemirror_mode": {
    "name": "ipython",
    "version": 3
   },
   "file_extension": ".py",
   "mimetype": "text/x-python",
   "name": "python",
   "nbconvert_exporter": "python",
   "pygments_lexer": "ipython3",
   "version": "3.6.5"
  }
 },
 "nbformat": 4,
 "nbformat_minor": 2
}
