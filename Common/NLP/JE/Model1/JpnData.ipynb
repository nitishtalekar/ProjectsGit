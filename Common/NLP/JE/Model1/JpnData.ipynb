{
 "cells": [
  {
   "cell_type": "code",
   "execution_count": 8,
   "metadata": {},
   "outputs": [
    {
     "name": "stdout",
     "output_type": "stream",
     "text": [
      "Go.\t行け。\n",
      "Go.\t行きなさい。\n",
      "Hi.\tこんにちは。\n",
      "Hi.\tもしもし。\n",
      "Hi.\tやっほー。\n",
      "Hi.\tこんにちは！\n",
      "Run.\t走れ。\n",
      "Run.\t走って！\n",
      "Who?\t誰？\n",
      "Wow!\tすごい！\n"
     ]
    }
   ],
   "source": [
    "wrd = []\n",
    "eng = []\n",
    "\n",
    "with open('jpn1.txt','r', encoding=\"utf8\") as f:\n",
    "    for line in f:\n",
    "        x = line.split(\"CC-BY\")[0].split('\\t')[0]+\"\\t\"+line.split(\"CC-BY\")[0].split('\\t')[1]\n",
    "        y = line.split(\"CC-BY\")[0].split('\\t')[0]\n",
    "        wrd.append(x)\n",
    "        eng.append(y)\n",
    "    \n",
    "\n",
    "eng = list(dict.fromkeys(eng))\n",
    "for i in range(10):\n",
    "#     print(eng[i])\n",
    "    print(wrd[i])\n",
    "\n",
    "with open('jpn.txt', 'w', encoding=\"utf8\") as f:\n",
    "    for item in wrd:\n",
    "        f.write(\"%s\\n\" % item)"
   ]
  },
  {
   "cell_type": "code",
   "execution_count": 27,
   "metadata": {},
   "outputs": [
    {
     "name": "stdout",
     "output_type": "stream",
     "text": [
      "[\"That's something that happens quite often.\\tそれはよくあることだよ。\\n\", 'Fortunately, no passengers were injured.\\t幸い乗客に怪我はありませんでした。\\n', 'Definitely!\\tもちろん！\\n', \"There's something I need to tell you before you leave.\\tあなたが行く前に言っておかなければならないことがあります。\\n\", 'I hurried to the station only to find that the train had already left.\\t駅へ急いで行くと、電車は既に出発した後だった。\\n', 'Think of what you are reading while you are reading it.\\t何か読むときは読んでいる物のことを考えなさい。\\n', 'You must remove your shoes when you enter a Japanese house.\\t日本の家に入るときには靴を脱がなくてはなりません。\\n', 'Many TV programs have a bad influence on children.\\t多くのテレビ番組が子供たちに悪い影響を与えている。\\n', \"Don't leave it up to chance.\\t運まかせにするな。\\n\", 'I ache all over after the exercises.\\t運動の後は体中が痛い。\\n']\n",
      "Written\n"
     ]
    }
   ],
   "source": [
    "import random as r\n",
    "n = []\n",
    "with open('jpn.txt','r', encoding=\"utf8\") as f:\n",
    "    for line in f:\n",
    "        n.append(line)\n",
    "        \n",
    "r.shuffle(n)\n",
    "\n",
    "x = n[:5005]\n",
    "x1 = n[15000:20005]\n",
    "x2 = n[25000:30005]\n",
    "x3 = n[40000:45005]\n",
    "\n",
    "y = x+x1+x2+x3\n",
    "# y[:10]\n",
    "# len(y)\n",
    "print(y[:10])\n",
    "\n",
    "with open('jpn_small.txt', 'w', encoding=\"utf8\") as f:\n",
    "    for item in y:\n",
    "        f.write(\"%s\" % item)\n",
    "print('Written')"
   ]
  },
  {
   "cell_type": "code",
   "execution_count": 6,
   "metadata": {},
   "outputs": [
    {
     "name": "stdout",
     "output_type": "stream",
     "text": [
      "['私', 'は', 'python', '大好き', 'Standing', ' ', 'Engineer', 'です', '．']\n"
     ]
    }
   ],
   "source": [
    "import tinysegmenter\n",
    "statement = '私はpython大好きStanding Engineerです．'\n",
    "tokenized_statement = tinysegmenter.tokenize(statement)\n",
    "# x = len(tokenized_statement.word_index)\n",
    "print(tokenized_statement)\n",
    "# print(x)"
   ]
  },
  {
   "cell_type": "code",
   "execution_count": null,
   "metadata": {},
   "outputs": [],
   "source": []
  }
 ],
 "metadata": {
  "kernelspec": {
   "display_name": "Python 3",
   "language": "python",
   "name": "python3"
  },
  "language_info": {
   "codemirror_mode": {
    "name": "ipython",
    "version": 3
   },
   "file_extension": ".py",
   "mimetype": "text/x-python",
   "name": "python",
   "nbconvert_exporter": "python",
   "pygments_lexer": "ipython3",
   "version": "3.6.5"
  }
 },
 "nbformat": 4,
 "nbformat_minor": 2
}
