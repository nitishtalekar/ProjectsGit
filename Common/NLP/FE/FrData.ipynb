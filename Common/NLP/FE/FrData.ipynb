{
 "cells": [
  {
   "cell_type": "code",
   "execution_count": null,
   "metadata": {},
   "outputs": [],
   "source": []
  },
  {
   "cell_type": "code",
   "execution_count": 2,
   "metadata": {},
   "outputs": [
    {
     "name": "stdout",
     "output_type": "stream",
     "text": [
      "Go.\tVa !\n",
      "Hi.\tSalut !\n",
      "Hi.\tSalut.\n",
      "Run!\tCours !\n",
      "Run!\tCourez !\n",
      "Who?\tQui ?\n",
      "Wow!\tÇa alors !\n",
      "Fire!\tAu feu !\n",
      "Help!\tÀ l'aide !\n",
      "Jump.\tSaute.\n",
      "175623\n"
     ]
    }
   ],
   "source": [
    "wrd = []\n",
    "eng = []\n",
    "\n",
    "with open('data/fra.txt','r', encoding=\"utf8\") as f:\n",
    "    for line in f:\n",
    "        x = line.split(\"CC-BY\")[0].split('\\t')[0]+\"\\t\"+line.split(\"CC-BY\")[0].split('\\t')[1]\n",
    "        y = line.split(\"CC-BY\")[0].split('\\t')[0]\n",
    "        wrd.append(x)\n",
    "        eng.append(y)\n",
    "    \n",
    "\n",
    "eng = list(dict.fromkeys(eng))\n",
    "for i in range(10):\n",
    "    print(wrd[i])\n",
    "\n",
    "with open('data/fra_data.txt', 'w', encoding=\"utf8\") as f:\n",
    "    for item in wrd:\n",
    "        f.write(\"%s\\n\" % item)\n",
    "        \n",
    "print(len(wrd))"
   ]
  },
  {
   "cell_type": "code",
   "execution_count": null,
   "metadata": {},
   "outputs": [],
   "source": []
  }
 ],
 "metadata": {
  "kernelspec": {
   "display_name": "Python 3",
   "language": "python",
   "name": "python3"
  },
  "language_info": {
   "codemirror_mode": {
    "name": "ipython",
    "version": 3
   },
   "file_extension": ".py",
   "mimetype": "text/x-python",
   "name": "python",
   "nbconvert_exporter": "python",
   "pygments_lexer": "ipython3",
   "version": "3.6.5"
  }
 },
 "nbformat": 4,
 "nbformat_minor": 2
}
