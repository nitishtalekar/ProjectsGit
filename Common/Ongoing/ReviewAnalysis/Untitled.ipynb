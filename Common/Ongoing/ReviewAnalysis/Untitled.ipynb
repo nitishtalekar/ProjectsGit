{
 "cells": [
  {
   "cell_type": "code",
   "execution_count": 1,
   "metadata": {},
   "outputs": [],
   "source": [
    "import pandas as pd\n",
    "a_df_review = pd.read_csv('Datafiniti_Amazon_Consumer_Reviews_of_Amazon_Products_May19.csv')\n",
    "x=a_df_review.head()"
   ]
  },
  {
   "cell_type": "code",
   "execution_count": 2,
   "metadata": {},
   "outputs": [
    {
     "name": "stdout",
     "output_type": "stream",
     "text": [
      "0    I order 3 of them and one of the item is bad quality. Is missing backup spring so I have to put a pcs of aluminum to make the battery work.\n",
      "1                                                                            Bulk is always the less expensive way to go for products like these\n",
      "2                                                                                       Well they are not Duracell but for the price i am happy.\n",
      "3                                                                            Seem to work as well as name brand batteries at a much better price\n",
      "4                                                                                      These batteries are very long lasting the price is great.\n",
      "Name: reviews.text, dtype: object\n"
     ]
    }
   ],
   "source": [
    "with pd.option_context('display.max_colwidth', 5000):\n",
    "    print(x['reviews.text'])"
   ]
  },
  {
   "cell_type": "code",
   "execution_count": 3,
   "metadata": {},
   "outputs": [
    {
     "name": "stdout",
     "output_type": "stream",
     "text": [
      "<class 'list'>\n",
      "radicals\n",
      "insufficiency\n",
      "swelling\n",
      "pain\n",
      "itching\n",
      "disorder\n"
     ]
    },
    {
     "data": {
      "text/plain": [
       "1"
      ]
     },
     "execution_count": 3,
     "metadata": {},
     "output_type": "execute_result"
    }
   ],
   "source": [
    "from collections import Counter\n",
    "\n",
    "def readwords( filename ):\n",
    "    f = open(filename)\n",
    "    words = [ line.rstrip() for line in f.readlines()]\n",
    "    return words\n",
    "\n",
    "negative = readwords('negative.txt')\n",
    "print(type(negative))\n",
    "\n",
    "paragraph = \"My personal physician recommended this and I bought at goo.gl/xv1lP ,with $10 off and free samples. Great stuff!!!!!<br /><br />He told that the extract of pine bark has a beneficial effect in treating over 50 diseases associated with the effects of free radicals, and also provides prevention against them:<br />1) Asthma<br />2) Chronic venous insufficiency (a condition that involves leg swelling, 3) varicose veins, pain, itching, and other skin changes)<br />4) High blood pressure (hypertension)<br />5) Retinopathy (an eye condition commonly caused by diabetes)<br />6)\"\n",
    "paragraph = paragraph+\"Attention deficit hyperactivity disorder (ADHD)<br />\"\n",
    "count = Counter(paragraph.split())\n",
    "\n",
    "pos = 0\n",
    "neg = 0\n",
    "pr = 0\n",
    "c = 0\n",
    "wrd = ['I','me','myself','us','our','we','Me','Myself','Us','Our','We']\n",
    "\n",
    "for key, val in count.items():\n",
    "    key = key.rstrip('.,?!\\n') # removing possible punctuation signs\n",
    "#     print(val)\n",
    "    if key in negative:\n",
    "        print(key)\n",
    "        neg += val\n",
    "    if key in wrd:\n",
    "#         print(key)\n",
    "        pr += val\n",
    "neg\n",
    "pr"
   ]
  },
  {
   "cell_type": "code",
   "execution_count": 4,
   "metadata": {},
   "outputs": [],
   "source": [
    "n_cnt = []\n",
    "p_cnt = []\n",
    "for index, row in a_df_review.iterrows():\n",
    "    paragraph = row['reviews.text']\n",
    "    count = Counter(paragraph.split())\n",
    "    neg = 0\n",
    "    pr = 0\n",
    "    for key, val in count.items():\n",
    "        key = key.rstrip('.,?!\\n') # removing possible punctuation signs\n",
    "        if key in negative:\n",
    "            neg += val\n",
    "        if key in wrd:\n",
    "            pr += val\n",
    "    n_cnt.append(neg)\n",
    "    p_cnt.append(pr)\n",
    "#     break\n"
   ]
  },
  {
   "cell_type": "code",
   "execution_count": 5,
   "metadata": {},
   "outputs": [
    {
     "name": "stdout",
     "output_type": "stream",
     "text": [
      "28332\n",
      "28332\n"
     ]
    }
   ],
   "source": [
    "print(len(n_cnt))\n",
    "print(len(p_cnt))"
   ]
  },
  {
   "cell_type": "code",
   "execution_count": 6,
   "metadata": {},
   "outputs": [],
   "source": [
    "neg = {}\n",
    "\n",
    "for i in set(n_cnt):\n",
    "    neg[i] = n_cnt.count(i)\n",
    "    \n",
    "\n",
    "pr = {}\n",
    "for i in set(p_cnt):\n",
    "    pr[i] = p_cnt.count(i)"
   ]
  },
  {
   "cell_type": "code",
   "execution_count": 7,
   "metadata": {},
   "outputs": [
    {
     "data": {
      "text/plain": [
       "{0: 21793,\n",
       " 1: 4462,\n",
       " 2: 1232,\n",
       " 3: 502,\n",
       " 4: 170,\n",
       " 5: 78,\n",
       " 6: 43,\n",
       " 7: 20,\n",
       " 8: 6,\n",
       " 9: 9,\n",
       " 10: 7,\n",
       " 11: 1,\n",
       " 12: 2,\n",
       " 15: 1,\n",
       " 16: 1,\n",
       " 17: 1,\n",
       " 25: 4}"
      ]
     },
     "execution_count": 7,
     "metadata": {},
     "output_type": "execute_result"
    }
   ],
   "source": [
    "neg"
   ]
  },
  {
   "cell_type": "code",
   "execution_count": 8,
   "metadata": {},
   "outputs": [
    {
     "data": {
      "text/plain": [
       "{0: 16911,\n",
       " 1: 6004,\n",
       " 2: 2497,\n",
       " 3: 1264,\n",
       " 4: 665,\n",
       " 5: 366,\n",
       " 6: 215,\n",
       " 7: 132,\n",
       " 8: 103,\n",
       " 9: 52,\n",
       " 10: 25,\n",
       " 11: 23,\n",
       " 12: 16,\n",
       " 13: 12,\n",
       " 14: 7,\n",
       " 15: 5,\n",
       " 16: 5,\n",
       " 17: 10,\n",
       " 18: 1,\n",
       " 19: 4,\n",
       " 20: 1,\n",
       " 21: 3,\n",
       " 24: 1,\n",
       " 26: 1,\n",
       " 29: 1,\n",
       " 35: 1,\n",
       " 36: 4,\n",
       " 43: 3}"
      ]
     },
     "execution_count": 8,
     "metadata": {},
     "output_type": "execute_result"
    }
   ],
   "source": [
    "pr"
   ]
  },
  {
   "cell_type": "code",
   "execution_count": 9,
   "metadata": {},
   "outputs": [
    {
     "data": {
      "text/plain": [
       "28332"
      ]
     },
     "execution_count": 9,
     "metadata": {},
     "output_type": "execute_result"
    }
   ],
   "source": [
    "len(a_df_review)"
   ]
  },
  {
   "cell_type": "code",
   "execution_count": 12,
   "metadata": {},
   "outputs": [
    {
     "data": {
      "text/plain": [
       "Index(['id', 'dateAdded', 'dateUpdated', 'name', 'asins', 'brand',\n",
       "       'categories', 'primaryCategories', 'imageURLs', 'keys', 'manufacturer',\n",
       "       'manufacturerNumber', 'reviews.date', 'reviews.dateSeen',\n",
       "       'reviews.didPurchase', 'reviews.doRecommend', 'reviews.id',\n",
       "       'reviews.numHelpful', 'reviews.rating', 'reviews.sourceURLs',\n",
       "       'reviews.text', 'reviews.title', 'reviews.username', 'sourceURLs'],\n",
       "      dtype='object')"
      ]
     },
     "execution_count": 12,
     "metadata": {},
     "output_type": "execute_result"
    }
   ],
   "source": [
    "a_df_review.columns"
   ]
  },
  {
   "cell_type": "code",
   "execution_count": 14,
   "metadata": {},
   "outputs": [],
   "source": [
    "test = a_df_review.copy()"
   ]
  },
  {
   "cell_type": "code",
   "execution_count": 16,
   "metadata": {},
   "outputs": [
    {
     "data": {
      "text/html": [
       "<div>\n",
       "<style scoped>\n",
       "    .dataframe tbody tr th:only-of-type {\n",
       "        vertical-align: middle;\n",
       "    }\n",
       "\n",
       "    .dataframe tbody tr th {\n",
       "        vertical-align: top;\n",
       "    }\n",
       "\n",
       "    .dataframe thead th {\n",
       "        text-align: right;\n",
       "    }\n",
       "</style>\n",
       "<table border=\"1\" class=\"dataframe\">\n",
       "  <thead>\n",
       "    <tr style=\"text-align: right;\">\n",
       "      <th></th>\n",
       "      <th>id</th>\n",
       "      <th>dateAdded</th>\n",
       "      <th>dateUpdated</th>\n",
       "      <th>name</th>\n",
       "      <th>asins</th>\n",
       "      <th>brand</th>\n",
       "      <th>categories</th>\n",
       "      <th>primaryCategories</th>\n",
       "      <th>imageURLs</th>\n",
       "      <th>keys</th>\n",
       "      <th>...</th>\n",
       "      <th>reviews.didPurchase</th>\n",
       "      <th>reviews.doRecommend</th>\n",
       "      <th>reviews.id</th>\n",
       "      <th>reviews.numHelpful</th>\n",
       "      <th>reviews.rating</th>\n",
       "      <th>reviews.sourceURLs</th>\n",
       "      <th>reviews.text</th>\n",
       "      <th>reviews.title</th>\n",
       "      <th>reviews.username</th>\n",
       "      <th>sourceURLs</th>\n",
       "    </tr>\n",
       "  </thead>\n",
       "  <tbody>\n",
       "  </tbody>\n",
       "</table>\n",
       "<p>0 rows × 24 columns</p>\n",
       "</div>"
      ],
      "text/plain": [
       "Empty DataFrame\n",
       "Columns: [id, dateAdded, dateUpdated, name, asins, brand, categories, primaryCategories, imageURLs, keys, manufacturer, manufacturerNumber, reviews.date, reviews.dateSeen, reviews.didPurchase, reviews.doRecommend, reviews.id, reviews.numHelpful, reviews.rating, reviews.sourceURLs, reviews.text, reviews.title, reviews.username, sourceURLs]\n",
       "Index: []\n",
       "\n",
       "[0 rows x 24 columns]"
      ]
     },
     "execution_count": 16,
     "metadata": {},
     "output_type": "execute_result"
    }
   ],
   "source": [
    "test.dropna()"
   ]
  },
  {
   "cell_type": "code",
   "execution_count": 13,
   "metadata": {},
   "outputs": [
    {
     "name": "stdout",
     "output_type": "stream",
     "text": [
      "0    NaN\n",
      "1    NaN\n",
      "2    NaN\n",
      "3    NaN\n",
      "4    NaN\n",
      "Name: reviews.didPurchase, dtype: object\n",
      "0    NaN\n",
      "1    NaN\n",
      "2    NaN\n",
      "3    NaN\n",
      "4    NaN\n",
      "Name: reviews.doRecommend, dtype: object\n",
      "0   NaN\n",
      "1   NaN\n",
      "2   NaN\n",
      "3   NaN\n",
      "4   NaN\n",
      "Name: reviews.numHelpful, dtype: float64\n",
      "0    https://www.amazon.com/product-reviews/B00QWO9P0O/\n",
      "1    https://www.amazon.com/product-reviews/B00QWO9P0O/\n",
      "2    https://www.amazon.com/product-reviews/B00QWO9P0O/\n",
      "3    https://www.amazon.com/product-reviews/B00QWO9P0O/\n",
      "4    https://www.amazon.com/product-reviews/B00QWO9P0O/\n",
      "Name: reviews.sourceURLs, dtype: object\n",
      "0    https://www.barcodable.com/upc/841710106442,https://www.amazon.com/AmazonBasics-Performance-Alkaline-Batteries-Count/dp/B00LH3DMUO/,https://www.amazon.com/AmazonBasics-Performance-Alkaline-Batteries-Count/dp/B00LH3DMUO,https://www.amazon.com/AmazonBasics-Performance-Alkaline-Batteries-36-Pack/dp/B00LH3DMUO/,http://www.amazon.com/AmazonBasics-Performance-Alkaline-Batteries-36-Pack/dp/B00LH3DMUO\n",
      "1    https://www.barcodable.com/upc/841710106442,https://www.amazon.com/AmazonBasics-Performance-Alkaline-Batteries-Count/dp/B00LH3DMUO/,https://www.amazon.com/AmazonBasics-Performance-Alkaline-Batteries-Count/dp/B00LH3DMUO,https://www.amazon.com/AmazonBasics-Performance-Alkaline-Batteries-36-Pack/dp/B00LH3DMUO/,http://www.amazon.com/AmazonBasics-Performance-Alkaline-Batteries-36-Pack/dp/B00LH3DMUO\n",
      "2    https://www.barcodable.com/upc/841710106442,https://www.amazon.com/AmazonBasics-Performance-Alkaline-Batteries-Count/dp/B00LH3DMUO/,https://www.amazon.com/AmazonBasics-Performance-Alkaline-Batteries-Count/dp/B00LH3DMUO,https://www.amazon.com/AmazonBasics-Performance-Alkaline-Batteries-36-Pack/dp/B00LH3DMUO/,http://www.amazon.com/AmazonBasics-Performance-Alkaline-Batteries-36-Pack/dp/B00LH3DMUO\n",
      "3    https://www.barcodable.com/upc/841710106442,https://www.amazon.com/AmazonBasics-Performance-Alkaline-Batteries-Count/dp/B00LH3DMUO/,https://www.amazon.com/AmazonBasics-Performance-Alkaline-Batteries-Count/dp/B00LH3DMUO,https://www.amazon.com/AmazonBasics-Performance-Alkaline-Batteries-36-Pack/dp/B00LH3DMUO/,http://www.amazon.com/AmazonBasics-Performance-Alkaline-Batteries-36-Pack/dp/B00LH3DMUO\n",
      "4    https://www.barcodable.com/upc/841710106442,https://www.amazon.com/AmazonBasics-Performance-Alkaline-Batteries-Count/dp/B00LH3DMUO/,https://www.amazon.com/AmazonBasics-Performance-Alkaline-Batteries-Count/dp/B00LH3DMUO,https://www.amazon.com/AmazonBasics-Performance-Alkaline-Batteries-36-Pack/dp/B00LH3DMUO/,http://www.amazon.com/AmazonBasics-Performance-Alkaline-Batteries-36-Pack/dp/B00LH3DMUO\n",
      "Name: sourceURLs, dtype: object\n"
     ]
    }
   ],
   "source": [
    "with pd.option_context('display.max_colwidth', 5000):\n",
    "    print(x['reviews.didPurchase'])\n",
    "    print(x['reviews.doRecommend'])\n",
    "    print(x['reviews.numHelpful'])\n",
    "    print(x['reviews.sourceURLs'])\n",
    "    print(x['sourceURLs'])"
   ]
  },
  {
   "cell_type": "code",
   "execution_count": null,
   "metadata": {},
   "outputs": [],
   "source": []
  }
 ],
 "metadata": {
  "kernelspec": {
   "display_name": "Python 3",
   "language": "python",
   "name": "python3"
  },
  "language_info": {
   "codemirror_mode": {
    "name": "ipython",
    "version": 3
   },
   "file_extension": ".py",
   "mimetype": "text/x-python",
   "name": "python",
   "nbconvert_exporter": "python",
   "pygments_lexer": "ipython3",
   "version": "3.6.10"
  }
 },
 "nbformat": 4,
 "nbformat_minor": 4
}
