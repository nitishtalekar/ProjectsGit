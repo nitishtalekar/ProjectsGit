{
 "cells": [
  {
   "cell_type": "code",
   "execution_count": 2,
   "metadata": {},
   "outputs": [],
   "source": [
    "import pandas as pd\n",
    "import os"
   ]
  },
  {
   "cell_type": "code",
   "execution_count": null,
   "metadata": {},
   "outputs": [
    {
     "name": "stdout",
     "output_type": "stream",
     "text": [
      "I mistakenly thought that since my multiple stays at other Marriott locations were excellent and clean that this location would be as well. Man was I wrong. This place is terrible. The room was very dirty and there were dead bugs everywhere. The room smelled horrible. I couldn't get the room windows open enough to help remove the smell. It took a while to find this place with all the construction in the area and the awkward road design in the area. I will never stay here again!\n",
      "\n",
      "Enter:F\n",
      "We got stuck in Orlando Florida and the airline put us up in a Best Western. By the time we got to the hotel it was 2am, we were tired and cranky, and the male receptionist had sharpened his teeth and finger nails into a point -- very creepy. We we got to the room it appeared to not have been cleaned at all. The carpet was wet from the air conditioner to the front of the nearest bed, the lamp shades were bent/faded and there were used test strips on the desk -- looked like it was missed simply because the test strip was the same color of the desk. I took pictures and intended on e-mailing them and a complaint to the corporate office, but never got around to it. To make matters worse, we put the do not disturb sign on the door and the hotel staff knocked on the door at 9am, 10am and 11am wanting to clean the room --- our check out time wasn't until noon. I opened the door and gave a scolding look and said they were too late for cleaning.\n",
      "\n",
      "Enter:F\n",
      "The rooms were small, the size or a jail cell or so. Televisions were small and dated. Outside of the motel was not pleasant, very dirty with garbage everywhere. The microwaves were dirty inside when I made a quick snack at night. Also the owner was quite questionable, as we're the other residents. Very run down motel.. My husband and I also woke up in the middle of the night itching, we pulled up the sheets and found bed bugs. We' then packed our stuff and left. I would NEVER EVER recommend anybody stay at this motel. When we approached the owners about the bugs, all they said was  we know, we are trying to get rid of them. They shoud be reported to the health inspector.\n",
      "\n",
      "Enter:F\n",
      "This Hotel is filthy, bedbugs, dirt, mold, the bedding looked dirty. There is only one person that runs the front desk and he is old and does not speak english. I could not get a refund for my stay and I wanted to get out of this place as soon as I walked into the room. There are obvious drug users and other illegal activity on the premises. I would never stay here again. The front desk operator is rude and the place is not worth what I paid for it. If I wanted to pay for bedbugs and filth I wouldnt have had a problem with the place. They alley would have been cleaner and probably safer. STAY AWAY!!!!\n",
      "\n",
      "Enter:F\n",
      "We stayed at the sandcastle resort/hotel in virginia beach for three days. Our experience was less than enjoyable. To start off when we arrived to check in, they could not find our reservation and the staff that was working there was extremely rude. They were confident that there was no reservation under our name so i went through my emails and showed them the one i received from them almost a month earlier. Finally after about 20 minutes we received our keys and headed to our room. When we got to our floor they were doing construction in our hallway and being very noisy. I went back to the front desk and requested that we be moved to another floor where there was no construction going on. they advised me they had no other rooms available but assured us that the construction would be done before 4pm. After going back to our room we found the room very dirty and run down. Paint was peeling from the ceiling and there were a lot of stains in the carpet. At this pint i decided not to make a big deal out of it until after we came back from dinner. We returned to the hotel just after 7pm and they were still doing construction on our floor. I wouldnt have minded the construction if it wasn't for the fact that they were very loud and drilling and cutting things with saws. I returned to the front desk again and requested to speak to a manager. After waiting for almost 15 minutes the manager finally arrived. We asked to be moved to a different room again and the manager finally agreed to move us to a suite for the same price we paid for our room. When we got to our room we found that is hasn't even been cleaned yet. The bed sheets were on the floor and there was trash everywhere. Apparently house keeping hasn't cleaned the room yet even though by now it was almost 8pm. At this point i was pretty upset and started to call surrounding hotels. we finally found another hotel that had a room available about a mile down the street. We went back to the front desk and spoke to the manager again. We requested a refund and the manager oked it. This was the worst experience ive ever had at any hotel, and to find out they still haven't refunded or 3 days to my credit card. I've been on the phone several times but have yet to hear back from the manager about the refund. I would not recommend this hotel to anyone and am very unhappy with the way we were treated.\n",
      "\n",
      "Enter:F\n",
      "Hotel prices were below others of similar ratings in the area. This should have been my warning. Not knowing the area, I later found that the hotel was situated in the tenerloin district of San Francisco. The rooms were small and poorly designed, the hotel had no amenities, and local calls cost to make. A poor choice all the way around.\n",
      "\n",
      "Enter:F\n",
      "The Super 8 was one of the worst properties that I have ever stayed at, it was dirty, out of dated and the staff was rude.   The carpeting in my room was ripped and stained. In the bathroom the shower was moldy and the fixtures were chipped. The wifi was operating at just above phone dial-up speed. My TV didn't work at all.  This room was not worth the rack rate, or even 50% of the rack rate.\n",
      "\n",
      "Enter:F\n",
      "Went to this hotel when visiting nearby national parks with family. Front desk staff was courteous and quickly resolved any questions we had. Our 2-queen bed room was clean and spacious. Room has nice LCD TV, coffee maker, fridge, microwave, massaging shower heads, and good mattresses. We stayed for 2 nights and room was well cleaned and put together after first night with coffee packs refilled. Overall very satisfied.\n",
      "\n",
      "Enter:T\n",
      "The rooms were very old and dated. It looks like nothing has been replaced since the 70's or something. Our room had moldy patches on the carpet near the jacuzzi, and areas where the paint/wallpaper were rubbed off or peeling on the corners of the room. The room had a really weird smell to it as well. There was even trash in the garbage can when we checked into the room, so that was gross. And the housekeepers were loud in the morning and were swearing in the hallway. Definitely not worth our time or money. We won't be going back.\n",
      "\n",
      "Enter:F\n",
      "Over the holidays, we stayed at the Westin in St. Louis,MO. The hotel is stunning! It's located right across from the Cardinals Stadium. The hotel staff was very accommodating. We requested more towels at midnight and they were up there within minutes! The rooms were absolutely gorgeous. The beds were extremely comfortable. My daughter loved that there was a phone in the bathroom! Great experience overall.\n",
      "\n",
      "Enter:T\n",
      "Beautiful resort with excellent views of the ocean. The large pool with pool bar was an excellent place to chill and unwind with my wife while we glanced over the kids playing in the various parts of the pool. Extremely close to the beach, which had the right amount of people that you didn't feel alone, but certainly didn't feel cramped for space. Very nice, friendly staff that gave off the calm, Caribbean vibe. Couldn't of asked for a better resort.\n",
      "\n",
      "Enter:T\n",
      "This is a fantastic botique hotel in Portland, Oregon. All the rooms are suites and include a kitchenette. This hotel is great for small families because it allows you ample space and you have the kitchen included where you can prepare some meals in order to save on some food costs while on vacation. The best part is that there are piles of Starbursts candies throughout the hotel available for the taking!\n",
      "\n",
      "Enter:T\n",
      "This hotel is located at a busy traffic circle near the interstate. It isn't walking distance to downtown. The hotel restaurant was average. My wife complained about the quality of the sheets; they were pretty rough.\n",
      "\n"
     ]
    },
    {
     "name": "stdout",
     "output_type": "stream",
     "text": [
      "Enter:F\n",
      "Headed up to Massachusetts for the New England Folk Festival in Mansfield. We booked in at the North Attleboro Super 8, since it was the closest place that had really reasonable rates. What a pleasant surprise to find an inn so clean, comfortable and well-appointed at this price level. The beds were firm, the room was roomy and the in-room fridge was a welcome convenience. In the mornings, we picked up bagels, butter, peanut butter, preserves, cereal, juice, milk and coffee from the free breakfast buffet in the lobby and took them back to the dining area in our room where we supplemented them with cheese, cucumbers and hardboiled eggs that we kept in the fridge. We were able to start each day with a hearty breakfast with no real expense of either time or money. You can be sure we’ll be back there again next year.\n",
      "\n",
      "Enter:T\n",
      "Do not stay at the Days Inn. First, when we got to the front counter and rang the bell, it took TEN minutes for someone to finally approach us. The young woman who did was more interested in her phone than in talking to us. Once we got our keycard we found our room and expected to at least have something average there. Wrong! The bedsheets and everything were everywhere. Also, there was trash in the cans and on the counter. The room also smelled like cigarette smoke. We will never be staying here again.\n",
      "\n",
      "Enter:F\n",
      "I was very displeased with my two-night stay at Doubletree in Savannah. It must have been off-season, because the hotel was nearly empty, and that apparently meant there wasn't enough staff to do anything. On Day Two of my stay, my room was still not cleaned by 12:30 p.m., which I found out after stopping back at the hotel to change clothes after spending the morning in town. I made a call to housekeeping at that time, then left the hotel to meet folks for lunch. When I returned about 3:00 p.m., my room was still not cleaned, and I had to call housekeeping again. I again left to walk through the historic district nearby. When I returned at 5:30, I again had to call housekeeping - this time I told them I would wait right there until someone finally came to time how long it took. About 15 minutes later, someone finally came to clean the room. Later that night - that maid had the audacity to knock at the door to ask for a bigger tip. When I checked out the next day, I tipped the valet - who came back a few minutes later on foot. She couldn't move my car because it's a standard transmission, she said, so I'd have to get it myself. She then gave me the keys and walked away - my original tip still in her hand.\n",
      "\n",
      "Enter:F\n",
      "Super 8 was a hotel I recently stayed at due to lack of other options. As far as hotels go, they were untidy, service was slow and the overall experience was horrible. The room I got has bed sheets strewn all over the place, and no room keeping person had bothered to clean the room after the previous person had left. The service was slow and it took an unreasonable amount of time to get a simple makeshift bed brought to our room. Overall, a horrible experience that was a waste of money.\n",
      "\n",
      "Enter:F\n",
      "I think I overpaid for a room at this hotel. Compared to the other hotels I have stayed at, which have only been a handful, for the price of the room I expected the quality of the room to be much better. $40 or so would have been acceptable for the state of the room. It was pretty bare and looked, well, cheap really. The sheets were thin and the tv was small, so paying almost $100 for the room seemed like too much. The continental breakfast items were also bland and it seemed like there wasn't much thought put into the food, just quickly made and delivered.\n",
      "\n",
      "Enter:F\n",
      "The Beachcomber Resort & Villas is what makes South Florida, South Florida. The moment I walked in I was taken back by the beautiful décor, and greeted by friendly staff. I was able to check in quickly, and with no hassle. The room was more amazing then expected! It had a BEAUTIFUL view! I looked out and saw ALL of Ft. Lauderdale on a crystal clear day. At this point, I decided I’d rather be on the beach then look at it, and no sooner then that I walked out the back door of the hotel, and was right on the beach. Beachcomber is amazing, the rooms, the service, the amenities all exceeded my very high expectations.\n",
      "\n",
      "Enter:T\n",
      "I stayed at this hotel when I was trekking across Pennsylvania to get to New York City the next day. I was extremely disappointed by my stay here! The staff ignored most of my questions and brushed those questions off of their shoulders like eh, it can wait. I was even more baffled with disgust when I entered my extremely stuffy room to find a TV that did not work, and a very low internet connection that I PAID to connect to! The meal was great though, room service was mediocre at best, and the bed was surprisingly very comfortable. This hotel was by far the worst I've ever stayed at, you can tell that these people were just in it for the money and had no people skills.\n",
      "\n"
     ]
    }
   ],
   "source": [
    "x = os.path.abspath(\"true_data.txt\")\n",
    "f = open(x, \"rt\",encoding=\"utf8\")\n",
    "r = f.readlines()\n",
    "\n",
    "xf = os.path.abspath(\"false_data.txt\")\n",
    "ff = open(x, \"rt\",encoding=\"utf8\")\n",
    "rf = ff.readlines()\n",
    "\n",
    "r_data = []"
   ]
  },
  {
   "cell_type": "code",
   "execution_count": null,
   "metadata": {},
   "outputs": [],
   "source": [
    "for i in rf:\n",
    "    a = \"\".join(list(i)[8:])\n",
    "    print(a)\n",
    "    ip = input(\"Enter:\")\n",
    "    r_data.append([a,ip])\n",
    "\n",
    "df = pd.DataFrame(r_data, columns=[\"Review\",\"Sentiment\"])\n",
    "df_final.to_csv(\"fake_review_train1.csv\")"
   ]
  },
  {
   "cell_type": "code",
   "execution_count": null,
   "metadata": {},
   "outputs": [],
   "source": [
    "for i in r:\n",
    "    a = \"\".join(list(i)[8:])\n",
    "    print(a)\n",
    "    ip = input(\"Enter:\")\n",
    "    r_data.append([a,ip])\n",
    "\n",
    "df = pd.DataFrame(r_data, columns=[\"Review\",\"Sentiment\"])\n",
    "df_final.to_csv(\"fake_review_train2.csv\")"
   ]
  }
 ],
 "metadata": {
  "kernelspec": {
   "display_name": "Python 3",
   "language": "python",
   "name": "python3"
  },
  "language_info": {
   "codemirror_mode": {
    "name": "ipython",
    "version": 3
   },
   "file_extension": ".py",
   "mimetype": "text/x-python",
   "name": "python",
   "nbconvert_exporter": "python",
   "pygments_lexer": "ipython3",
   "version": "3.6.5"
  }
 },
 "nbformat": 4,
 "nbformat_minor": 2
}
