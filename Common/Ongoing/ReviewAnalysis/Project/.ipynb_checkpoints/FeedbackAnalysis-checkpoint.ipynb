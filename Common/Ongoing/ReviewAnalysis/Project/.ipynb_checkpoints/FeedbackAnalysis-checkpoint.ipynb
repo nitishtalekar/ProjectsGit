{
 "cells": [
  {
   "cell_type": "markdown",
   "metadata": {},
   "source": [
    "# IMPORTS"
   ]
  },
  {
   "cell_type": "code",
   "execution_count": 16,
   "metadata": {},
   "outputs": [],
   "source": [
    "import re\n",
    "from nltk.tokenize import word_tokenize\n",
    "from string import punctuation \n",
    "import nltk\n",
    "# nltk.download('stopwords')\n",
    "# nltk.download('punkt')\n",
    "from nltk.corpus import stopwords\n",
    "from nltk import punkt\n",
    "import random as r\n",
    "import pymysql"
   ]
  },
  {
   "cell_type": "markdown",
   "metadata": {},
   "source": [
    "# DATA"
   ]
  },
  {
   "cell_type": "code",
   "execution_count": 18,
   "metadata": {},
   "outputs": [],
   "source": [
    "import csv\n",
    "\n",
    "input_file = csv.DictReader(open(\"ReviewData.csv\",encoding='cp850'))\n",
    "data = []\n",
    "k = 0\n",
    "for i in input_file:\n",
    "    del i['']\n",
    "    data.append(dict(i))\n",
    "\n",
    "x = round(0.8*(len(data)))\n",
    "data2 = data[:]\n",
    "\n",
    "train_data = r.sample(data, x)\n",
    "for i in train_data:\n",
    "    data2.remove(i)\n",
    "test_data = data2[:]\n",
    "\n",
    "# print(\"TRAIN DATA\")\n",
    "# print(train_data,len(train_data))\n",
    "# print(\"TEST DATA\")\n",
    "# print(test_data,len(test_data))"
   ]
  },
  {
   "cell_type": "markdown",
   "metadata": {},
   "source": [
    "# MODEL"
   ]
  },
  {
   "cell_type": "code",
   "execution_count": 21,
   "metadata": {},
   "outputs": [],
   "source": [
    "class PreProcessReviews:\n",
    "    def __init__(self):\n",
    "        self._stopwords = set(stopwords.words('english') + list(punctuation) + ['AT_USER','URL'])\n",
    "        \n",
    "    def processReviews(self, list_of_reviews):\n",
    "        processedReviews=[]\n",
    "            \n",
    "        for review in list_of_reviews:\n",
    "            processedReviews.append((self._processReview(review[\"Review\"]),review[\"Sentiment\"]))\n",
    "        return processedReviews\n",
    "    \n",
    "    def _processReview(self, review):\n",
    "        review = review.lower() # convert text to lower-case\n",
    "        review = re.sub('((www\\.[^\\s]+)|(https?://[^\\s]+))', 'URL', review) # remove URLs\n",
    "        review = re.sub('@[^\\s]+', 'AT_USER', review) # remove usernames\n",
    "        review = re.sub(r'#([^\\s]+)', r'\\1', review) # remove the # in #hashtag\n",
    "        review = word_tokenize(review) # remove repeated characters (helloooooooo into hello)\n",
    "        return [word for word in review if word not in self._stopwords]\n",
    "    \n",
    "reviewProcessor = PreProcessReviews()\n",
    "preprocessedTrainingSet = reviewProcessor.processReviews(train_data)\n",
    "# print(preprocessedTrainingSet[0])\n",
    "def buildVocabulary(preprocessedTrainingData):\n",
    "    all_words = []\n",
    "    \n",
    "    for (words, sentiment) in preprocessedTrainingData:\n",
    "        all_words.extend(words)\n",
    "\n",
    "    wordlist = nltk.FreqDist(all_words)\n",
    "    word_features = wordlist.keys()\n",
    "    \n",
    "    return word_features\n",
    "def extract_features(review):\n",
    "    review_words = set(review)\n",
    "    features = {}\n",
    "    for word in word_features:\n",
    "        features['contains(%s)' % word] = (word in review_words)\n",
    "    return features\n",
    "\n",
    "word_features = buildVocabulary(preprocessedTrainingSet)\n",
    "trainingFeatures = nltk.classify.apply_features(extract_features, preprocessedTrainingSet)\n",
    "# print(trainingFeatures)\n",
    "# print(word_features)"
   ]
  },
  {
   "cell_type": "markdown",
   "metadata": {},
   "source": [
    "# TRAINING"
   ]
  },
  {
   "cell_type": "code",
   "execution_count": 4,
   "metadata": {},
   "outputs": [
    {
     "name": "stdout",
     "output_type": "stream",
     "text": [
      "<nltk.classify.naivebayes.NaiveBayesClassifier object at 0x000002ED281E94A8>\n"
     ]
    }
   ],
   "source": [
    "NBayesClassifier = nltk.NaiveBayesClassifier.train(trainingFeatures)\n",
    "print(NBayesClassifier)"
   ]
  },
  {
   "cell_type": "markdown",
   "metadata": {},
   "source": [
    "# TESTING"
   ]
  },
  {
   "cell_type": "code",
   "execution_count": 23,
   "metadata": {},
   "outputs": [
    {
     "name": "stdout",
     "output_type": "stream",
     "text": [
      "(['wonderful', 'relaxed', 'stay', 'huntley', 'hotel', \"n't\", 'staying', 'priciest', 'room', 'staff', 'treated', 'like', 'reserved', 'penthouse', 'desk', 'clerk', 'even', 'helped', 'locate', 'wallet', 'left', 'hotel', 'restaurant', 'addition', 'beautiful', 'rooms', 'kind', 'staff', 'huntley', 'boasts', 'location', 'barely', 'two', 'blocks', 'santa', 'monica', 'beach', \"n't\", 'enjoying', 'amenities', 'hotel', 'lounging', 'sun'], 'T')\n",
      "(['hotels', 'area', 'either', 'fully', 'booked', 'offering', 'sky-high', 'rates', 'extended', 'stay', 'america', 'burbank', 'great', 'option', 'ample', 'parking', 'easy', 'access', 'local', 'freeways', 'room', 'clean', 'comfortable', 'best', 'part', 'kitchen', 'carried', 'pans', 'dishes', 'utensils', 'needed', 'right', 'huge', 'shopping', 'center', 'convenient'], 'T')\n",
      "(['stayed', 'two', 'nights', 'recently', 'found', 'place', 'great', 'location', 'yes', 'room', 'small', 'bother', 'us', 'hardly', 'room', 'king', 'suite', 'called', 'mini', 'sauna', 'room', 'room', 'clean', 'simple', 'decor', 'ask', 'room', 'back', 'motel', 'quieter', 'front', 'hear', 'traffic', 'lombard', 'wifi', 'strong', 'signal', 'problems', 'connecting', 'right', 'parking', 'first', 'come', 'first', 'serve', 'much', 'size', 'place', 'came', 'late', 'friday', 'found', 'last', 'spot', 'available', 'decided', 'ride', 'muni', 'entire', 'visit', 'convenient', 'catch', 'buses', 'ran', 'lombard', 'chestnut', 'union', 'street', 'checked', 'friday', 'clerk', 'nice', 'checking', 'another', 'guy', 'rude', 'asked', 'leave', 'car', 'would', 'moved', 'others', 'would', 'checking', 'parking', 'lot', 'empty', 'aside', 'interaction', 'front', 'desk', 'staff', 'would', 'definitely', 'stay', 'found', 'rooms', 'clean', 'loved', 'proximity', 'everything', 'plus', 'reasonable', 'price', 'compared', 'places', 'area'], 'T')\n",
      "(['one', 'best', 'hotel', 'experiences', 'establishment', 'hotel', 'located', 'right', 'beach', 'plenty', 'amenities', 'people', 'guests', 'employees', 'full', 'energy', 'really', 'made', 'feel', 'welcome', 'happy'], 'T')\n",
      "(['stayed', 'oread', 'fall', 'work', 'conference', 'wonderful', 'time', 'staff', 'greeted', 'us', 'entered', 'directed', 'us', 'rooms', 'architecture', 'beautiful', 'rock', 'walls', 'lining', 'inside', 'outside', 'establishment', 'almost', 'felt', 'like', 'castle', 'room', 'nice', 'clean', 'well-appointed', 'granite', 'counters', 'comfortable', 'bed', 'pillows', 'great', 'actually', 'asked', 'purchase', 'one', 'left', 'said', 'since', 'get', 'request', 'often', 'could', 'order', 'one', 'shipped', 'house', 'overall', 'great', 'stay', 'stay', 'area'], 'T')\n",
      "(['well', 'start', 'mice', 'laundry', 'room', 'side', 'balconies', 'weak', 'made', 'debilitated', 'wood', 'almost', '50', 'years', 'old', 'rooms', 'drafty', 'rooms', 'come', 'television', 'choson', 'office', 'time', 'change', 'programming', 'right', 'middle', 'show', 'rooms', 'badly', 'painted', 'extremely', 'little', 'took', 'wifi', 'extenders', 'makes', 'internet', 'hard', 'get', 'location', 'honest', 'use', 'ramadas', 'internet', 'get', 'internet', 'connection', 'whole', 'back', 'building', 'full', 'sex', 'offenders', 'sex', 'offenders', 'made', 'work', 'rest', 'property', 'throughout', 'day', 'makes', 'conditions', 'safety', 'kids', 'poor'], 'F')\n",
      "(['children', 'stayed', 'hotel', 'new', 'orleans', 'january', '2012.', 'arrived', 'hotel', 'wait', '15', 'minutes', 'someone', 'acknowledge', 'us', 'front', 'desk', 'finally', 'got', 'key', 'made', 'room', 'room', 'dirty', 'even', 'dirty', 'town', 'floor', 'previous', 'guest', 'called', 'front', 'desk', 'complain', 'however', 'one', 'showed', 'clean', 'next', 'day', 'supposed', 'perk', 'hotel', 'free', 'hot', 'snacks', 'evening', 'anything', 'hot', 'basically', 'room', 'temp', 'chicken', 'nuggets', 'hot', 'dogs', 'find', 'another', 'hotel', 'expect', 'enjoyable', 'stay', 'one', 'total', 'disappointment'], 'F')\n",
      "(['recommended', 'elevators', 'slow', 'rooms', 'small', 'staff', 'rude', 'wife', 'called', 'front', 'desk', 'asked', 'fresh', 'towels', 'brought', 'room', 'clerk', 'told', 'busy', 'could', 'go', 'downstairs', 'get', 'asked', 'speak', 'manager', 'told', \"n't\", 'one', 'terrible', 'customer', 'service'], 'F')\n",
      "(['holiday', 'inn', 'express', 'pueblo', 'co', 'great', 'experience', 'staff', 'friendly', 'accomadating', 'served', 'breakfast', 'longer', 'usually', 'due', 'large', 'amount', 'people', 'hotel', 'weekend', 'breakfast', 'free', 'delicious', 'hot', 'staff', 'never', 'allowed', 'food', 'run', 'also', '24', 'hour', 'gym', 'warm', 'indoor', 'pool', 'hot', 'tub', 'beds', 'like', 'heaven', 'pillows', 'amazing', 'never', 'good', 'nights', 'rest', 'hotel', 'never', 'able', 'find', 'better', 'staff', 'thean', 'staff', 'holiday', 'inn', 'express'], 'T')\n",
      "(['like', 'motel', '6', 'affordable', \"n't\", 'bad', 'odor', 'like', 'motels', 'pretty', 'clean', 'rooms.they', 'pet', 'friendly', \"n't\", 'pay', 'extra', 'dog', 'money', 'saver', 'like', 'pool', 'middle', 'property', 'see', 'rooms', 'pool'], 'T')\n",
      "(['hotel', 'one', 'worst', 'ever', 'stayed', 'arrived', 'sheets', 'stained', 'smelled', 'unclean', 'bathroom', 'touched', 'toilet', 'paper', 'complimentary', 'shampoos', 'television', 'even', 'work', 'called', 'front', 'took', 'two', 'hours', 'someone', 'come', 'turn', 'room', 'would', 'recommend', 'hotel', 'anyone'], 'F')\n",
      "(['got', 'stuck', 'orlando', 'florida', 'airline', 'put', 'us', 'best', 'western', 'time', 'got', 'hotel', '2am', 'tired', 'cranky', 'male', 'receptionist', 'sharpened', 'teeth', 'finger', 'nails', 'point', '--', 'creepy', 'got', 'room', 'appeared', 'cleaned', 'carpet', 'wet', 'air', 'conditioner', 'front', 'nearest', 'bed', 'lamp', 'shades', 'bent/faded', 'used', 'test', 'strips', 'desk', '--', 'looked', 'like', 'missed', 'simply', 'test', 'strip', 'color', 'desk', 'took', 'pictures', 'intended', 'e-mailing', 'complaint', 'corporate', 'office', 'never', 'got', 'around', 'make', 'matters', 'worse', 'put', 'disturb', 'sign', 'door', 'hotel', 'staff', 'knocked', 'door', '9am', '10am', '11am', 'wanting', 'clean', 'room', '--', 'check', 'time', \"n't\", 'noon', 'opened', 'door', 'gave', 'scolding', 'look', 'said', 'late', 'cleaning'], 'F')\n",
      "(['love', 'san', 'francisco', 'chance', 'get', 'love', 'take', 'trip', 'last', 'time', 'chose', 'stay', 'argonaut', 'always', 'heard', 'good', 'things', 'hotel', 'sadly', 'good', 'reviews', 'either', 'grossly', 'exaggerated', 'major', 'changes', 'way', 'hotel', 'runs', 'things', 'lately', 'hotel', 'staff', 'rude', 'snobbish', 'always', 'seemed', 'busy', 'thing', 'whenever', 'needed', 'help', 'given', 'price', 'hotel', 'expected', 'five', 'star', 'service', 'treated', 'like', 'duty', 'obligation', 'quickly', 'wanted', 'get', 'rid', 'overall', 'experience', 'hotel', 'sub-par', \"'ll\", 'probably', 'never', 'return', 'hotel', 'matter', 'great', 'location', 'fisherman', \"'s\", 'wharf'], 'F')\n",
      "(['red', 'roof', 'inn', 'excellent', 'place', 'stay', 'needing', 'stay', 'within', 'budget', 'rooms', 'clean', 'bathrooms', 'enough', 'towels', 'reservations', 'clerk', 'professional', 'hotel', 'pool', 'clean', 'well', 'kept', 'continental', 'breakfast', 'good', 'fresh', 'plenty', 'parking', 'felt', 'safe', 'staying', 'night', 'felt', 'enough', 'privacy'], 'T')\n",
      "(['one', 'worst', 'places', 'stay', 'hotel', 'next', 'railroad', 'tracks', 'trains', 'running', 'blowing', 'horn', 'day', 'night', 'train', \"n't\", 'loud', 'traffic', 'busy', 'street', 'nearby', 'rooms', 'dirty', 'empty', 'soda', 'bottles', 'room', 'still', 'ready', 'two', 'hours', 'told', 'would', 'ready', 'desperate', 'get', 'room', 'change', 'clothes', 'family', 'reunion', 'helped', 'maid', 'make', 'bed', 'stay'], 'F')\n",
      "(['stayed', 'super', '8', 'location', 'east', 'lansing', 'michigan', 'cheap', \"'s\", 'good', 'reason', 'that-', 'entire', 'place', 'wreck', 'staircases', 'motel', 'rooms', 'filthy', 'glass', 'attached', 'railing', 'broken', 'got', 'room', 'carpets', 'discolored', 'room', 'strange', 'pungent', 'smell', 'would', \"n't\", 'stay'], 'F')\n",
      "(['stayed', 'days', '39th', 'brooklyn', '5', 'days', 'december', 'daughter', 'needed', 'find', 'place', 'live', 'register', 'school', 'cheapest', 'hotel', 'could', 'find', 'brooklyn', 'thought', 'would', 'really', 'bad', 'actually', 'worse', 'bed', 'bugs', 'brought', 'home', 'us', 'eeeeeek', 'staff', 'helpful', 'needed', 'get', 'cab', 'free', 'buffet', 'breakfast', 'edible', 'coffee', 'great', 'money', 'would', 'fine', 'getting', 'rid', 'bed', 'bugs', 'nightmare'], 'F')\n",
      "(['family-oriented', 'motel', 'well', 'beaten', 'path', 'guest', 'rooms', 'family', 'units', 'separated', 'two', 'sleeping', 'areas', 'one', 'queen', 'bed', 'two', 'twins', 'tacky', 'folding', 'vinyl', 'wall', 'third', 'floor', 'accommodations', 'feature', 'wood-burning', 'fireplaces', 'gas', 'starters', 'ocean', 'views', 'equipped', 'direct-dial', 'phones', 'mini-refrigerators', 'coffee', 'makers', 'rooms', 'clean', 'decor', 'minimal', 'desperately', 'need', 'refurbishing'], 'T')\n",
      "(['went', 'syracuse', 'last', 'winter', 'watch', 'team', 'play', 'carrier', 'dome', 'chose', 'econo', 'lodge', 'prices', 'cheaper', 'found', 'later', \"'s\", 'pretty', 'run-down', 'part', 'town', 'mainly', 'cause', 'better', 'hotels', 'already', 'booked', 'drove', 'arrived', 'pretty', 'late', 'tired', 'ready', 'get', 'sleep', 'game', 'next', 'day', 'pulling', 'small', 'parking', 'lot', 'realized', 'driving', 'around', 'free', 'parking', 'spaces', 'gone', 'drive', 'street', 'paid', 'parking', 'lot', 'carrying', 'luggage', 'way', 'hotel', 'checked', 'sleepy', 'haze', 'threw', 'stuff', 'room', 'went', 'sleep', 'two', 'hours', 'later', 'woke', 'incredible', 'itching', 'arms', 'legs', 'quickly', 'turned', 'light', 'realized', 'awfully', 'dirty', 'room', 'looked', 'closer', 'bed', 'near', 'sheets', 'literally', 'could', 'see', 'many', 'hundreds', 'tiny', 'bedbugs', 'crawling', 'everywhere', 'immediately', 'ran', 'desk', 'one', 'course', 'waiting', '30', 'minutes', 'someone', 'show', 'demanded', 'another', 'room', 'got', 'new', 'room', 'key', 'went', 'opening', 'door', 'saw', 'new', 'room', 'clean', 'last', 'yes', 'many', 'bedbugs', 'bed', 'grabbed', 'stuff', 'walked', 'back', 'car', 'slept', 'rest', 'night', 'needless', 'say', 'never', 'visit', 'econo', 'lodge', 'doubt', 'ever', 'even', 'visit', 'syracuse'], 'F')\n",
      "(['like', 'service', 'provided', 'entered', 'hotel', 'also', 'like', 'area', 'hotel', 'located', 'much', 'noise', 'events', 'going', 'feel', 'relax', 'away', 'city', 'life'], 'F')\n",
      "(['hotel', 'prices', 'others', 'similar', 'ratings', 'area', 'warning', 'knowing', 'area', 'later', 'found', 'hotel', 'situated', 'tenerloin', 'district', 'san', 'francisco', 'rooms', 'small', 'poorly', 'designed', 'hotel', 'amenities', 'local', 'calls', 'cost', 'make', 'poor', 'choice', 'way', 'around'], 'F')\n",
      "(['recently', 'fianc├®', 'stayed', 'oceana', 'santa', 'barbara', 'hotel', 'room', 'small', 'priced', 'offered', 'precious', 'amenities', 'troubling', 'however', 'decor', 'furnishing', 'old', 'dated', 'fianc├®', 'complained', 'furniture', 'old', 'tha', 'convinced', 'dirty', 'believes', 'wicker', 'furniture', 'belongs', 'outdoors', 'acts', 'strong', 'dust', 'magnet', 'return', 'hotel'], 'F')\n",
      "(['decided', 'stay', 'japan', 'house', 'suites', 'thinking', 'would', 'like', 'motel', 'amazing', 'rate', 'figured', 'rooms', 'would', \"n't\", 'great', 'boy', 'wrong', 'owners', 'nice', 'helpful', 'amazing', 'customer', 'service', 'rooms', 'spacious', 'clean', 'comfortable', 'morning', 'make', 'made', 'order', 'breakfast', 'steak', 'eggs', 'one', 'items', 'menu', 'could', \"n't\", 'believe', 'great', 'hotel', 'found', 'especially', 'bargain'], 'T')\n",
      "(['inclusion', 'insects', 'hotel', 'room', \"n't\", 'anything', 'thrilled', 'motel', '6', 'hotelier', 'establishments', 'typically', 'permissable', 'conditions', 'however', 'particular', 'experience', 'mind', 'quite', 'atrocious', 'room', 'faint', 'odor', 'must', 'denoted', 'mold', 'mildew', 'bathroom', 'area', 'also', 'maids', 'cleaning', 'staff', 'enter', 'room', 'without', 'knocking', 'first', 'promptly', 'apologizing', 'however', 'damage', 'already', 'done', 'appreciate', 'people', 'unlocking', 'door', 'whim', \"'s\", 'notice', 'complete', 'unhindered', 'access', 'valuables', 'extremely', 'important', 'documents', 'passport', 'wallet', 'placed', 'electrical', 'safe', 'find', 'safe', 'lock', 'opened', 'universal', 'key', 'code', '00000.', 'returning', 'hotel', 'help'], 'F')\n",
      "(['holiday', 'inn', 'near', 'stadium', 'philly', 'one', 'highlights', 'trip', 'last', 'summer', 'weekend', 'take', 'sights', 'watch', 'playoff', 'game', 'ballpark', 'customer', 'staff', 'professional', 'even', 'told', 'discount', 'eligible', 'idea', 'saved', 'almost', '20', 'per', 'night', 'room', 'perfectly', 'clean', 'beds', 'comfortable', 'mine', 'home', 'slept', 'soundly', 'entire', 'time', 'wifi', 'great', 'restaurant', 'even', 'better', 'couple', 'times', 'ate', 'pleasent', 'experience', 'ca', \"n't\", 'wait', 'team', 'play', 'philly', 'revisit', 'holiday', 'inn'], 'T')\n",
      "(['dillon', 'inn', 'nice', 'hotel', 'couple', 'complaints', 'rooms', 'pretty', 'nice', 'water', 'showers', \"n't\", 'get', 'hot', 'would', 'like', 'also', 'staff', 'friendly', 'called', 'front', 'desk', 'asking', 'extra', 'pillows', 'front', 'desk', 'person', 'nice', 'walk', 'get', 'lack', 'hot', 'water', 'somewhat', 'unfriendly', 'staff', 'hotel', 'pretty', 'nice'], 'F')\n",
      "(['westin', 'virginia', 'beach', 'far', 'favorite', 'hotel', 'keep', 'going', 'back', 'fluffy', 'white', 'bedspreads', 'crisp', 'white', 'sheets', 'make', 'feel', 'like', 'royalty', 'staff', 'courteous', 'respectful', 'room', 'service', 'prompt', 'delicious', 'take', 'pictures', 'eggs', 'benedict', 'plated', 'elegantly', 'offer', 'lobby', 'bar', 'restaurant', 'starbucks', 'fitness', 'center', 'bedrooms', 'fitness', 'equipment', 'tons', 'restaurants', 'shops', 'block', 'away', 'hotel', 'rooms', 'spacious', 'bathrooms', 'attention', 'detail', 'apparent-', 'folded', 'toilet', 'paper', 'elegant', 'leaf-shaped', 'soap', 'everything', 'fresh', 'bright', 'shiny', 'wish', 'could', 'live', 'westin', 'get', 'royal', 'treatment'], 'T')\n",
      "(['husband', 'recently', 'business', 'trip', 'seattle', 'coincided', 'birthday', 'working', 'one', 'day', 'made', 'spur-of-the-moment', 'decision', 'celebrate', 'whisking', 'away', 'victoria', 'british', 'columbia', 'weekend', 'booked', 'package', 'deal', 'included', 'ferry', 'tickets', 'champagne', 'brunch', 'two', 'nights', 'famed', 'fairmont', 'empress', 'hotel', 'kept', 'hotel', 'location', 'secret', 'husband', 'arrived', \"'m\", 'glad', 'docked', 'cleared', 'customs', 'emerged', 'brisk', 'air', 'rounded', 'corner', 'got', 'first', 'look', 'majestic', 'old', 'building', 'honestly', 'looked', 'like', 'storybook', 'castle', 'pitched', 'gables', 'gothic', 'victorian', 'architecture', 'fresh', 'dusting', 'snow', 'audibly', 'gasped', 'inside', 'front', 'desk', 'busy', 'guests', 'ferry', 'husband', 'stood', 'line', 'took', 'turns', 'slipping', 'away', 'poke', 'around', 'warm', 'elegant', 'lobby', 'fascinating', 'objects', 'like', 'model', 'steamships', 'faded', 'photographs', 'royal', 'celebrity', 'guests', 'enjoying', 'hotel', \"'s\", 'various', 'amenities', 'years', 'therefore', 'good', 'mood', 'customer', 'front', 'us', 'threw', 'might', 'politely', 'termed', 'tantrum', 'young', 'clerk', 'handled', 'matter', 'professionally', 'quickly', 'time', 'got', 'us', 'incredibly', 'apologetic', 'time', 'walked', 'away', 'desk', 'seriously', 'upgraded', 'room', 'harbor', 'view', 'free', 'wi-fi', 'lovely', 'written', 'invitation', 'enjoy', 'complimentary', 'birthday', 'dessert', 'bengal', 'lounge', 'amazing', 'hotel', 'wildly', 'romantic', 'snow', 'stayed', 'largely', 'inside', 'snuggled', 'impossibly', 'comfortable', 'sheets', 'pillows', 'luxuriously', 'appointed', 'suite', 'sampling', 'abundance', 'delicious', 'teas', 'empress', 'famous', 'afternoon', 'tea', 'service', 'room', 'offered', 'breakfast', 'front', 'roaring', 'fire', 'empress', 'room', 'featured', 'heavy', 'dark', 'wood', 'intricate', 'carvings', 'ornate', 'candelabra', 'hung', 'amongst', 'tapestries', 'paintings', 'delicious', 'champagne', 'curry', 'night', 'bengal', 'room', 'overseen', 'full-sized', 'tiger', 'skin', 'anyway', 'hotel', 'one', \"'ve\", 'ever', 'stayed', 'actually', 'say', 'content', 'spend', 'time', 'wandering', 'various', 'floors', 'exploring', 'fascinating', 'history', 'relaxing', 'refined', 'yet', 'comfortable', 'ambiance', 'lifetime', 'stay'], 'T')\n",
      "(['stayed', 'hotel', 'vacation', 'amazing', 'hotel', 'lobby', 'huge', 'kids', 'really', 'enjoyed', 'time', 'spent', 'tv', 'big', 'size', 'crystal', 'clear', 'bed', 'clean', 'everything', 'organized', 'staff', 'quick', 'responding', 'phone', 'calls', 'went', 'checkout', 'bar', 'night', 'surprise', 'also', 'big', 'lot', 'options', 'beer', 'overall', 'great', 'experience'], 'T')\n",
      "(['prices', 'hotel', 'reasonably', 'cheap', \"n't\", 'make', 'inconsistency', 'service', 'atmosphere', 'hotel', 'exactly', 'would', 'call', 'ambiance', 'rather', 'drab', 'dull', 'maybe', 'even', 'disheartening', 'addition', 'get', 'noisy', 'even', 'night', 'might', 'able', 'sleep', 'despite', 'inside', 'room', 'decently', 'priced', 'hotel', 'also', 'charge', 'shockingly', 'high', 'prices', 'food', 'restaurant', \"n't\", 'book', 'hotel', 'better'], 'F')\n",
      "(['hotel', 'resort', 'wonderful', 'family', 'events', 'three', 'pools', 'added', 'bonus', 'many', 'activities', 'enjoy', 'year', 'round'], 'T')\n",
      "(['stay', 'great', 'wolf', 'lodge', 'least', '3', 'times', 'year', 'great', 'place', 'fun', 'family', 'friends', 'place', 'amazing', 'giant', 'indoor', 'water', 'park', 'water', 'slides', 'lazy', 'river', 'best', 'part', 'go', 'year', 'round', 'indoor', 'water', 'park', 'climate', 'controlled', 'several', 'activities', 'children', 'year', 'round', 'wizard', 'quest', 'holidays', 'christmas', 'play', 'hotels', 'great', 'way', 'get', 'way', 'everyday', 'life', 'weekend', 'access', 'water', 'park', 'included', 'stay', 'get', 'tired', 'swimming', 'head', 'arcade', 'enjoy', 'arcade', 'games', 'air', 'hockey', 'vacation', \"n't\", 'ever', 'leave', 'hotel', 'adults', 'enjoy', 'many', 'restaurants', 'fine', 'eating', 'establishments'], 'T')\n",
      "(['first', 'stay', 'ambassador', 'hotel', 'new', 'orleans', 'arriving', 'wait', 'five', 'minutes', 'anyone', 'even', 'asked', 'us', 'checking', 'paid', 'deluxe', 'room', 'find', 'room', 'window', 'looking', 'outside', 'must', 'point', 'said', 'window', 'looking', 'outside', 'fact', 'window', 'looking', 'hallway', 'also', 'flimsy', 'blinds', 'covering', 'window', 'hardly', 'blocking', 'anyone', 'looking', 'right', 'bed', 'mid-may', 'new', 'orleans', 'means', 'already', 'hotter', 'firecracker', 'fourth', 'july', 'air', 'conditioning', 'would', 'barely', 'work', 'even', 'left', 'full', 'blast', '6', 'hours', 'way', 'tell', 'even', 'beside', 'rumbling', 'motor', 'lay', 'face', 'vent', 'feel', 'semi', 'cool', 'air', 'complaining', 'hotel', 'staff', 'brushed', 'never', 'able', 'get', 'hold', 'would', 'highly', 'recommend', 'hotel', 'anyone', 'even', 'worst', 'enemy', 'room', 'may', 'bake', 'alive', 'heat', 'staff', 'care'], 'F')\n",
      "(['travels', 'aston', 'waikiki', 'circle', 'one', 'worst', 'hotels', 'ever', 'stayed', 'amidst', 'busy', 'waikiki', 'beach', 'atmosphere', 'far', 'relaxing', 'although', 'minutes', 'away', 'abc', 'stores', 'every', 'corner', 'parking', 'spaces', 'miniscule', 'hotel', 'needed', 'major', 'remodel', 'website', 'photos', 'deceiving', 'room', 'small', 'disrepair', 'booked', 'penthouse', 'got', 'cheap', 'motel', 'dated', 'furnitures', 'beddings', 'positive', 'would', 'view', 'balcony', 'overlooking', 'waikiki', 'beach', 'amazing', 'time', 'husband'], 'F')\n",
      "(['sheraton', 'divine', 'trendy', 'decor', 'great', 'staff', 'pleasant', 'atmosphere', 'bit', 'pricey', 'also', 'worth', \"n't\", 'issues', 'staff', 'helpful', 'well', 'trained', 'room', 'like', 'gateway', 'heaven', 'beds', 'soft', 'like', 'sleeping', 'air', 'bathroom', 'built', 'relaxation', 'mind', 'dining', 'impeccable', 'pool', 'another', 'get', 'away', 'even', 'spa', 'place', 'exceeded', 'expectations', 'could', \"n't\", 'asked', 'better', 'stay'], 'T')\n",
      "(['san', 'francisco', 'marriot', 'union', 'square', 'amazing', 'hotel', 'stayed', 'three', 'days', 'summer', '2011.', 'first', 'location', 'hotel', 'union', 'square', 'great', 'shops', 'restaurants', 'nearby', 'proximity', 'many', 'interesting', 'san', 'francisco', 'hot', 'spots', 'entered', 'hotel', 'greeted', 'receptionist', 'reservation', 'ready', 'offered', 'many', 'ideas', 'city', 'whenever', 'left', 'hotel', 'room', 'spectacular', 'nice', 'big', 'window', 'could', 'see', 'union', 'square', 'commotion', 'going', 'street', 'nice', \"'re\", 'big', 'city', 'see', 'city', 'lights', 'beds', 'nice', 'clean', 'always', 'big', 'concern', 'mine', 'bathroom', 'equipped', 'many', 'towels', 'toiletries', 'also', 'really', 'nice', 'absolutely', 'nothing', 'complain', 'seeing', 'location', 'hotel', 'amenities', 'room', 'wonderful', 'would', 'definitely', 'stay'], 'T')\n",
      "(['prices', 'hotel', 'reasonably', 'cheap', \"n't\", 'make', 'inconsistency', 'service', 'atmosphere', 'hotel', 'exactly', 'would', 'call', 'ambiance', 'rather', 'drab', 'dull', 'maybe', 'even', 'disheartening', 'addition', 'get', 'noisy', 'even', 'night', 'might', 'able', 'sleep', 'despite', 'inside', 'room', 'decently', 'priced', 'hotel', 'also', 'charge', 'shockingly', 'high', 'prices', 'food', 'restaurant', \"n't\", 'book', 'hotel', 'better'], 'F')\n",
      "(['decided', 'late', 'evening', 'cocktails', 'dessert', 'living', 'room', 'peninsula', 'nice', 'evening', 'service', 'always', 'excellent', 'ambience'], 'T')\n",
      "(['family', 'college', 'visiting', 'trips', 'one', 'hotels', 'unfortunately', 'stayed', 'first', 'hotel', 'near', 'university', 'campus', 'even', 'though', 'construed', 'website', 'within', 'walking', 'distance', 'note', 'contacted', 'corporate', 'offices', 'since', 'taken', 'fact', 'hotels', 'description', 'room', 'terribly', 'spacious', 'decor', 'ambiance', 'room', 'dated', 'think', 'old', 'floral', 'paintings', 'outdated', 'lead-screen', 'tv', 'smelled', 'oh', 'dear', 'god', 'smell', 'bad', 'room', 'one', 'point', 'family', 'actually', 'switch', 'rooms', 'entirely', 'avoid', 'odor', 'emanating', 'bowels', 'hell', 'would', 'ever', 'go', 'back', 'hotel', 'absolutely'], 'F')\n",
      "(['stayed', 'holiday', 'inn', 'rosslyn', 'gross', 'room', 'smelled', 'bad', 'dark', 'wallpaper', 'peeling', 'bathroom', 'dirty', 'trouble', 'sleeping', 'bed', 'uncomfortable', 'elevators', 'take', 'forever', 'place', 'needs', 'modernized', 'hotel', 'staff', 'particularly', 'friendly'], 'F')\n",
      "(['love', 'staying', 'la', 'quinta', 'inn', 'everytime', 'travel', 'rooms', 'always', 'clean', 'many', 'awesome', 'pools', 'always', 'able', 'get', 'generous', 'military', 'discount', 'husband', 'army', 'first', 'time', 'stayed', 'unaware', 'military', 'discount', 'husband', \"n't\", 'clerk', 'started', 'ring', 'noticed', 'husband', \"'s\", 'dog', 'tags', 'around', 'neck', 'offered', 'discount', '...', 'stuck', \"n't\", 'went', 'beyond', 'us', 'also', 'la', 'quinta', 'almost', 'always', 'rooms', 'large', 'families', 'available', 'hard', 'find', 'family', '6', 'would', 'recomend', 'anyone'], 'T')\n",
      "([\"'ve\", 'stayed', 'hotel', 'several', 'times', 'always', 'positive', 'experience', 'rooms', 'nicely', 'furnished', 'good', 'condition', 'always', 'kept', 'clean', 'likewise', 'linens', 'always', 'clean', 'bathroom', 'towels', 'plentiful', 'water', 'shower', 'actually', 'gets', 'hot', 'stays', 'way', \"'ve\", 'stayed', 'places', 'taking', 'shower', 'risky', 'experience', 'recent', 'visit', 'ordered', 'cot', 'daughter', 'pleasantly', 'surprised', 'receive', 'twin-sized', 'roll-away', 'bed', 'comfortable', 'regular', 'beds', '--', 'without', 'extra', 'cost'], 'T')\n",
      "(['stayed', 'super', '8', 'location', 'east', 'lansing', 'michigan', 'cheap', \"'s\", 'good', 'reason', 'that-', 'entire', 'place', 'wreck', 'staircases', 'motel', 'rooms', 'filthy', 'glass', 'attached', 'railing', 'broken', 'got', 'room', 'carpets', 'discolored', 'room', 'strange', 'pungent', 'smell', 'would', \"n't\", 'stay'], 'F')\n",
      "(['reading', 'many', 'negative', 'reviews', 'lafayette', 'hotel', 'san', 'diego', 'felt', 'like', 'people', 'must', 'spoiled', 'modern', 'hotel', 'amenities', 'appreciate', 'accommodations', 'steeped', 'history', 'wrong', 'optimist', 'positive', 'thinking', 'lasted', 'way', 'stairs', '15', 'minutes', 'got', 'room', 'first', 'hotel', 'lobby', 'seemed', 'dated', 'plain', 'felt', 'could', 'appreciate', 'character', 'went', 'staircase', 'little', 'spooky', 'finally', 'got', 'room', 'carpet', 'looked', 'soiled', 'bedspread', 'seemed', 'itchy', 'bathroom', 'dated', 'air', 'conditioning', 'set', 'window', 'gap', 'unit', 'window', 'child', 'us', 'windows', 'came', 'low', 'security', 'gate', 'bars', 'worst', 'part', 'probably', 'lack', 'ventilation', 'summertime', 'air', 'stuffy', 'room', 'crisp', 'cool', 'feel', 'look', 'summer', 'getaway', 'left', 'day', 'found', 'room', 'laquinta', 'much', 'better', 'room', 'even', 'better', 'rate'], 'F')\n",
      "(['really', 'great', 'hotel', 'stay', 'great', 'location', 'close', 'lansing', 'attractions', 'including', 'lansing', 'center', 'breslin', 'downtown', 'addition', 'convenient', 'location', 'also', 'modern', 'updated', 'hotel', 'clean', 'throughout', 'room', 'comfortable', 'cleanliness', 'issue', 'staff', 'friendly', 'helpful', 'continental', 'breakfast', 'great', 'bonus'], 'T')\n",
      "(['booked', 'weekend', 'terranea', 'birthday', 'arrived', 'room', 'ready', 'check-in', 'time', 'told', 'would', 'wait', 'front', 'desk', 'provide', 'exact', 'time', 'said', 'could', 'walk', 'around', 'hour', 'later', 'still', 'ready', 'took', '5', 'hours', 'actually', 'next', 'day', 'pool', 'server', 'came', 'around', 'took', 'order', 'laid', 'never', 'returned', 'approached', 'pool', 'bar', 'mess', 'sink', 'clogged', 'cups', 'everywhere', 'price', 'paid', 'made', 'really', 'expect', '2', 'star', '4.5.', 'wo', \"n't\", 'returning'], 'F')\n",
      "(['overall', 'hotel', 'greatest', 'room', 'decent', 'quality', 'nearly', 'clean', 'room', 'service', 'terrible', 'properly', 'stock', 'bathroom', 'every', 'day', 'creating', 'shortage', 'soap', 'clean', 'towels', 'complementary', 'breakfast', 'good', 'basic', 'free', 'wifi', 'slow', 'unacceptable', 'casino', 'shuttle', 'service', 'nice', 'however', 'time', 'gym', 'crowded', 'disorganized', 'furthermore', 'jacuzzi', 'suites', 'left', 'much', 'desired'], 'F')\n",
      "(['first', 'stay', 'ambassador', 'hotel', 'new', 'orleans', 'arriving', 'wait', 'five', 'minutes', 'anyone', 'even', 'asked', 'us', 'checking', 'paid', 'deluxe', 'room', 'find', 'room', 'window', 'looking', 'outside', 'must', 'point', 'said', 'window', 'looking', 'outside', 'fact', 'window', 'looking', 'hallway', 'also', 'flimsy', 'blinds', 'covering', 'window', 'hardly', 'blocking', 'anyone', 'looking', 'right', 'bed', 'mid-may', 'new', 'orleans', 'means', 'already', 'hotter', 'firecracker', 'fourth', 'july', 'air', 'conditioning', 'would', 'barely', 'work', 'even', 'left', 'full', 'blast', '6', 'hours', 'way', 'tell', 'even', 'beside', 'rumbling', 'motor', 'lay', 'face', 'vent', 'feel', 'semi', 'cool', 'air', 'complaining', 'hotel', 'staff', 'brushed', 'never', 'able', 'get', 'hold', 'would', 'highly', 'recommend', 'hotel', 'anyone', 'even', 'worst', 'enemy', 'room', 'may', 'bake', 'alive', 'heat', 'staff', 'care'], 'F')\n",
      "(['recently', 'visited', 'w', 'hotel', 'new', 'orleans', 'downtown', 'first', 'time', 'best', 'hotel', 'ive', 'ever', 'first', 'hotel', 'beautiful', 'valet', 'prompt', 'courteous', 'even', 'given', 'bottle', 'voss', 'water', 'upon', 'entrance', '...', 'free', 'check-in', 'girl', 'polite', 'gave', 'free', 'room', 'upgrade', 'room', 'immaculate', 'beautifully', 'decorated', 'later', 'night', 'ordered', 'room', 'service', 'food', 'hot', 'fresh', 'requested', 'wake', 'call', 'next', 'morning', 'receive', 'dot', 'checkout', 'breeze', 'retrieval', 'vehicle', 'overall', 'give', 'hotel', 'two', 'thumbs'], 'T')\n",
      "(['husband', 'moving', 'colorado', 'georgia', 'using', 'super', '8', 'motels', 'almost', 'exclusively', 'policy', 'allowing', 'dogs', 'rooms', 'reserved', 'room', 'st.', 'louis', 'super', '8', 'dismayed', 'hear', 'manager', 'tell', 'us', 'allow', 'dogs', 'rooms', 'violation', 'super', '8', 'policy', 'told', 'manager', 'said', 'could', 'give', 'us', 'room', 'special', 'area', 'motel', 'room', 'put', 'us', 'dirty', 'stains', 'carpet', 'walls', 'exhausted', 'travelling', 'cross', 'country', 'took', 'substandard', 'room', 'could', 'sure', 'dogs', 'would', 'safe', 'far', 'worst', 'super', '8', 'ever', 'stayed', 'manager', 'lied', 'us', 'violated', 'super', '8', 'policy', 'computer', 'clearly', 'indicated', 'dogs', 'welcome', 'motel'], 'F')\n",
      "(['went', 'syracuse', 'last', 'winter', 'watch', 'team', 'play', 'carrier', 'dome', 'chose', 'econo', 'lodge', 'prices', 'cheaper', 'found', 'later', \"'s\", 'pretty', 'run-down', 'part', 'town', 'mainly', 'cause', 'better', 'hotels', 'already', 'booked', 'drove', 'arrived', 'pretty', 'late', 'tired', 'ready', 'get', 'sleep', 'game', 'next', 'day', 'pulling', 'small', 'parking', 'lot', 'realized', 'driving', 'around', 'free', 'parking', 'spaces', 'gone', 'drive', 'street', 'paid', 'parking', 'lot', 'carrying', 'luggage', 'way', 'hotel', 'checked', 'sleepy', 'haze', 'threw', 'stuff', 'room', 'went', 'sleep', 'two', 'hours', 'later', 'woke', 'incredible', 'itching', 'arms', 'legs', 'quickly', 'turned', 'light', 'realized', 'awfully', 'dirty', 'room', 'looked', 'closer', 'bed', 'near', 'sheets', 'literally', 'could', 'see', 'many', 'hundreds', 'tiny', 'bedbugs', 'crawling', 'everywhere', 'immediately', 'ran', 'desk', 'one', 'course', 'waiting', '30', 'minutes', 'someone', 'show', 'demanded', 'another', 'room', 'got', 'new', 'room', 'key', 'went', 'opening', 'door', 'saw', 'new', 'room', 'clean', 'last', 'yes', 'many', 'bedbugs', 'bed', 'grabbed', 'stuff', 'walked', 'back', 'car', 'slept', 'rest', 'night', 'needless', 'say', 'never', 'visit', 'econo', 'lodge', 'doubt', 'ever', 'even', 'visit', 'syracuse'], 'F')\n",
      "(['far', 'one', 'overpriced', 'day', \"'s\", 'inn', 'hotels', \"'ve\", 'ever', 'stayed', 'rooms', 'dark', 'dingy', 'old', 'smell', 'whole', 'place', 'pool', 'tiny', \"n't\", 'come', 'really', 'look', 'forward', 'good', 'swim', 'stayed', 'days', 'move', 'happy', 'leave', 'time'], 'T')\n",
      "(['got', 'stuck', 'orlando', 'florida', 'airline', 'put', 'us', 'best', 'western', 'time', 'got', 'hotel', '2am', 'tired', 'cranky', 'male', 'receptionist', 'sharpened', 'teeth', 'finger', 'nails', 'point', '--', 'creepy', 'got', 'room', 'appeared', 'cleaned', 'carpet', 'wet', 'air', 'conditioner', 'front', 'nearest', 'bed', 'lamp', 'shades', 'bent/faded', 'used', 'test', 'strips', 'desk', '--', 'looked', 'like', 'missed', 'simply', 'test', 'strip', 'color', 'desk', 'took', 'pictures', 'intended', 'e-mailing', 'complaint', 'corporate', 'office', 'never', 'got', 'around', 'make', 'matters', 'worse', 'put', 'disturb', 'sign', 'door', 'hotel', 'staff', 'knocked', 'door', '9am', '10am', '11am', 'wanting', 'clean', 'room', '--', 'check', 'time', \"n't\", 'noon', 'opened', 'door', 'gave', 'scolding', 'look', 'said', 'late', 'cleaning'], 'F')\n",
      "(['booked', 'hotel', 'last', 'week', 'visiting', 'philly', 'generally', 'fan', 'hilton', 'properties', 'called', 'hilton', 'offered', 'hotel', 'stated', '15', 'minutes', 'downtown', 'philly', 'boy', 'wrong', 'hotel', 'actually', '40', 'minute', 'drive', 'downtown', 'area', 'girlfriend', 'checked', 'realize', 'renovating', 'lobby', 'certain', 'rooms', 'telephone', 'representative', 'would', 'stated', 'also', 'gave', 'us', 'corner', 'room', '2nd', 'floor', 'way', 'rear', 'building', 'door', 'room', 'ajar', 'entered', 'thought', 'something', 'suspicious', '30', 'minute', 'delay', 'order', 'switch', 'us', 'different', 'room', 'good', 'experience', 'stay', 'renovations', 'done'], 'F')\n",
      "(['went', 'hotel', 'visiting', 'nearby', 'national', 'parks', 'family', 'front', 'desk', 'staff', 'courteous', 'quickly', 'resolved', 'questions', '2-queen', 'bed', 'room', 'clean', 'spacious', 'room', 'nice', 'lcd', 'tv', 'coffee', 'maker', 'fridge', 'microwave', 'massaging', 'shower', 'heads', 'good', 'mattresses', 'stayed', '2', 'nights', 'room', 'well', 'cleaned', 'put', 'together', 'first', 'night', 'coffee', 'packs', 'refilled', 'overall', 'satisfied'], 'T')\n",
      "(['super', '8', 'hotel', 'recently', 'stayed', 'due', 'lack', 'options', 'far', 'hotels', 'go', 'untidy', 'service', 'slow', 'overall', 'experience', 'horrible', 'room', 'got', 'bed', 'sheets', 'strewn', 'place', 'room', 'keeping', 'person', 'bothered', 'clean', 'room', 'previous', 'person', 'left', 'service', 'slow', 'took', 'unreasonable', 'amount', 'time', 'get', 'simple', 'makeshift', 'bed', 'brought', 'room', 'overall', 'horrible', 'experience', 'waste', 'money'], 'F')\n",
      "([\"n't\", 'feel', 'home', 'crowne', 'plaza', 'near', 'pittsburgh', 'pa', 'airport', 'moment', 'got', 'room', 'clean', 'scrub', 'bathtub', 'even', 'thought', 'using', 'airplanes', 'continually', 'roared', 'room', 'must', 'right', 'major', 'landing', 'path', 'nearby', 'airport', 'expected', 'higher', 'level', 'service', 'room', 'amenities', 'received', 'outdoor', 'pool', 'heated', 'frigid', 'late-august', 'pool', 'area', 'also', 'clean', 'glad', 'morning', 'come', 'could', 'leave', 'way'], 'F')\n",
      "(['super', '8', 'one', 'worst', 'properties', 'ever', 'stayed', 'dirty', 'dated', 'staff', 'rude', 'carpeting', 'room', 'ripped', 'stained', 'bathroom', 'shower', 'moldy', 'fixtures', 'chipped', 'wifi', 'operating', 'phone', 'dial-up', 'speed', 'tv', \"n't\", 'work', 'room', 'worth', 'rack', 'rate', 'even', '50', 'rack', 'rate'], 'F')\n",
      "(['hotel', 'mediocre', 'live', 'hilton', 'hype', 'priced', 'correctly', 'service', 'got', 'nothing', 'particular', 'caught', 'eye', 'lobby', 'looked', 'like', 'hg', 't.v', 'magazine', 'threw', 'indoor', 'pool', 'might', 'well', 'outside', 'due', 'fact', 'random', 'pigeon', 'flying', 'freely', 'food', 'well', 'prepared', 'expected', 'menu', 'drab', 'small', 'selection', 'really', 'thought', 'ordering', 'kids', 'menu', 'room', 'filthy', 'carpet', 'like', 'people', 'threw', 'party', 'checked', 'checked', 'bed', 'ok', '123', 'dollars', 'nite', 'stellar', 'bathroom', 'also', 'little', 'let', 'tub', 'could', 'barely', 'fit', 'husband', 'would', 'ask', 'anyone', 'pay', 'stay', 'paid', 'hilton', 'price', 'motel', 'six', 'stay'], 'F')\n",
      "(['took', 'trip', 'new', 'york', 'couple', 'days', 'two', 'daughters', 'decided', 'splurge', 'stay', 'doubletree', 'times', 'square', 'booked', 'small', 'suite', 'mid', 'level', 'floor', 'excited', 'room', 'decor', 'exciting', 'bright', 'colored', 'contemporary', 'everything', 'comfortable', 'bathroom', 'somewhat', 'luxorious', 'tried', 'exercize', 'room', 'quite', 'nice', 'people', 'reception', 'area', 'stylish', 'appealing', 'hotel', 'staff', 'helpful', 'freindly', 'one', 'snobby', 'even', 'though', 'paying', '400', 'per', 'night', 'great', 'time', 'doubletree', 'felt', 'welcome', 'comfortable'], 'T')\n",
      "(['impressed', 'hotel', 'exterior', 'hotel', 'one', 'thing', 'simply', 'marvelous', 'probably', 'roomiest', 'hotel', 'concord', 'nh', 'area', 'close', 'brother', \"'s\", 'school', 'excellent', 'service', 'pretty', 'nifty', 'free', 'toiletry', 'nice', 'bathrooms', 'free', 'internet', 'connection', 'attendants', 'attentive', 'would', 'love', 'stay', 'price'], 'T')\n",
      "(['kalahari', 'great', 'place', 'take', 'kids', 'quick', 'vacation', 'went', 'kalahari', 'months', 'ago', 'blast', 'whole', 'hotel', 'rainforest', 'themed', 'creates', 'vacation', 'feel', 'almost', 'like', 'disney', 'world', 'indoor', 'water', 'park', 'phenomenal', 'kids', 'adults', 'alike', 'enjoy', 'entertainment', 'kalahari'], 'T')\n",
      "(['children', 'stayed', 'hotel', 'new', 'orleans', 'january', '2012.', 'arrived', 'hotel', 'wait', '15', 'minutes', 'someone', 'acknowledge', 'us', 'front', 'desk', 'finally', 'got', 'key', 'made', 'room', 'room', 'dirty', 'even', 'dirty', 'town', 'floor', 'previous', 'guest', 'called', 'front', 'desk', 'complain', 'however', 'one', 'showed', 'clean', 'next', 'day', 'supposed', 'perk', 'hotel', 'free', 'hot', 'snacks', 'evening', 'anything', 'hot', 'basically', 'room', 'temp', 'chicken', 'nuggets', 'hot', 'dogs', 'find', 'another', 'hotel', 'expect', 'enjoyable', 'stay', 'one', 'total', 'disappointment'], 'F')\n",
      "(['stayed', 'days', 'inn', 'hotel', '5', 'days', 'bill', '250.00', 'way', 'much', 'uncomfortable', 'stay', 'located', 'near', 'main', 'street', 'highway', 'lot', 'noise', 'day', 'night', 'reminded', 'old', 'motel', 'smelled', 'musty', 'molded', 'swimming', 'pool'], 'F')\n",
      "(['hotel', 'amazing', 'rooms', 'big', 'comfy', 'brought', 'dog', 'us', 'welcomed', 'huge', 'plus', 'us', 'also', 'forgot', 'playpen', 'son', 'called', 'front', 'desk', 'brought', 'one', 'right', 'everything', 'perfect'], 'T')\n",
      "(['family', '4', 'recently', 'stayed', 'international', 'palms', 'resort', 'cocoa', 'beach', 'florida', 'excellent', 'resort', 'families', 'young', 'children', 'rooms', 'accommodating', 'large', 'bed', 'pullout', 'couch', 'kitchenette', 'also', 'convenient', 'could', 'eat', 'breakfast', 'lunch', 'room', 'buy', 'one', 'meal', 'per', 'day', 'also', 'really', 'liked', 'site', 'restaurant', 'beach', 'close', 'food', 'good', 'also', 'upper', 'deck', 'full', 'view', 'beach', 'pool', 'area', 'absolutely', 'wonderful', 'large', 'pool', 'adults', 'children', \"'s\", 'pool', 'pirate', 'ship', 'complete', 'water', 'cannons', 'slides', 'stay', 'enjoyable', 'visiting'], 'T')\n",
      "(['hotel', 'horrible', 'mean', 'stank', 'ordered', 'room', 'niagara', 'falls', 'view', 'barely', 'saw', 'guess', 'room', 'fine', \"n't\", 'even', 'get', 'started', 'food', 'sick', 'vegetarian', 'prefer', 'eat', 'plate', 'meat', 'served', 'completely', 'disrespected', 'beliefs', 'make', 'obvious', 'hint', 'bacon', 'served'], 'F')\n",
      "([\"'m\", 'frequent', 'traveler', 'japan', 'hotels', \"'ve\", 'stayed', 'favorite', 'far', 'park', 'hotel', 'tokyo', 'hotel', 'located', 'skyscraper', 'district', 'shiodome', 'lies', 'within', 'walking', 'distance', 'ginza', 'shopping', 'district', 'famous', 'tsukiji', 'fish', 'auction', 'popular', 'tourist', 'attraction', 'park', 'hotel', 'tokyo', \"'s\", 'service', 'excellent', 'english-speaking', 'staff', 'helpful', 'friendly', 'rooms', 'though', 'bit', 'small', 'common', 'japanese', 'hotels', 'clean', 'stylish', 'modern', 'appeal', 'lobby', '25th', 'floor', 'shiodome', 'media', 'tower', 'beautiful', 'view', 'tokyo', 'tower', 'often', 'soft', 'jazz', 'concerts', 'evenings', 'giving', 'hotel', 'quiet', 'calm', 'elegance', 'mornings', 'lobby', 'bustling', 'patrons', 'enjoying', 'excellent', 'breakfast', 'buffet', 'buffet', 'included', 'room', 'price', 'fortunate', 'enough', 'receive', 'coupons', 'couple', 'visits', 'food', 'excellent', \"'re\", 'relaxing', 'lobby', 'enjoying', 'quiet', 'room', 'park', 'hotel', 'tokyo', 'also', 'within', 'walking', 'distance', 'several', 'excellent', 'restaurants', 'starbucks', 'coffee', 'located', 'basement', 'adjacent', 'building', 'along', 'convenience', 'store', 'late-night', 'snacks', 'drinks', 'shiodome', 'area', 'primarily', 'business', 'district', 'unlike', 'popular', 'tokyo', 'hotels', 'park', 'hotel', 'tokyo', \"'s\", 'surrounding', 'areas', 'quiet', 'weekends', 'evenings', 'though', 'hustle', 'bustle', 'morning', 'work', 'rush', 'daunting', \"'s\", 'also', 'business', 'district', 'however', 'means', \"'s\", 'great', 'hub', 'traveling', 'many', 'tokyo', 'metro', 'subway', 'lines', 'running', 'area', 'well', 'jr', 'shimbashi', 'train', 'station', 'leaving', 'travelers', 'lot', 'options', 'get', 'around', 'also', 'shimbashi', 'station', 'centrally', 'located', 'station', 'stops', 'main', 'tokyo', 'station', 'akihabara', 'electronics', 'district', 'popular', 'tourist', 'destinations', 'like', 'harajuku', 'shinjuku', 'ueno', 'taking', 'convenience', 'location', 'atmosphere', 'location', 'park', 'hotel', 'tokyo', 'likely', 'remain', 'favorite', 'hotel', 'visiting', 'tokyo'], 'T')\n",
      "(['fantastic', 'botique', 'hotel', 'portland', 'oregon', 'rooms', 'suites', 'include', 'kitchenette', 'hotel', 'great', 'small', 'families', 'allows', 'ample', 'space', 'kitchen', 'included', 'prepare', 'meals', 'order', 'save', 'food', 'costs', 'vacation', 'best', 'part', 'piles', 'starbursts', 'candies', 'throughout', 'hotel', 'available', 'taking'], 'T')\n",
      "(['cross-country', 'trip', 'hubby', 'decided', 'stop', 'overnight', 'hotel', 'upon', 'entering', 'warmly', 'greeted', 'front', 'desk', 'check-in', 'prompt', 'quick', 'went', 'economy', 'room', 'quickly', 'found', 'bathroom', 'facilities', 'working', 'order', 'front', 'desk', 'promptly', 'upgraded', 'room', 'charge', 'although', 'many', 'economy', 'rooms', 'still', 'available', 'quick', 'room', 'change', 'went', 'check', 'pool', 'hot', 'tub', 'area', 'area', 'clean', 'well', 'stocked', 'chairs', 'towels', 'bonus', 'ones', 'pool', 'cool', 'clear', 'hot', 'tup', 'warm', 'quick', 'dip', 'headed', 'back', 'room', 'enjoy', 'king', 'size', 'bed', 'huge', 'flat', 'screen', 'tv', 'premium', 'cable', 'stay', 'comfortable', 'complaints', 'bed', 'bedding', 'showering', 'facilities', 'continental', 'breakfast', 'superb', 'fresh', 'fruit', 'cereal', 'eggs', 'make-your-own', 'waffles', 'left', 'filling', 'full', 'refreshed', 'ready', 'last', 'leg', 'trip', 'would', 'recommended', 'hotel', 'anyone', 'looking', 'nicer', 'hotel', 'weekend', 'trip'], 'T')\n",
      "(['booked', 'hotel', 'last', 'week', 'visiting', 'philly', 'generally', 'fan', 'hilton', 'properties', 'called', 'hilton', 'offered', 'hotel', 'stated', '15', 'minutes', 'downtown', 'philly', 'boy', 'wrong', 'hotel', 'actually', '40', 'minute', 'drive', 'downtown', 'area', 'girlfriend', 'checked', 'realize', 'renovating', 'lobby', 'certain', 'rooms', 'telephone', 'representative', 'would', 'stated', 'also', 'gave', 'us', 'corner', 'room', '2nd', 'floor', 'way', 'rear', 'building', 'door', 'room', 'ajar', 'entered', 'thought', 'something', 'suspicious', '30', 'minute', 'delay', 'order', 'switch', 'us', 'different', 'room', 'good', 'experience', 'stay', 'renovations', 'done'], 'F')\n",
      "(['thsi', 'mose', 'beautiful', 'place', 'ever', 'stayed', 'small', '40', 'room', 'french', 'style', 'hotel', 'staff', 'exceptional', 'beach', 'best', 'jamaica', 'clean', 'rooms', 'great', 'clive', 'beach', 'security', 'best', 'ever', 'keeping', 'venodors', 'away', 'relax'], 'T')\n",
      "(['hotel', 'dirty', 'clean', 'roaches'], 'F')\n",
      "(['displeased', 'two-night', 'stay', 'doubletree', 'savannah', 'must', 'off-season', 'hotel', 'nearly', 'empty', 'apparently', 'meant', \"n't\", 'enough', 'staff', 'anything', 'day', 'two', 'stay', 'room', 'still', 'cleaned', '12:30', 'p.m.', 'found', 'stopping', 'back', 'hotel', 'change', 'clothes', 'spending', 'morning', 'town', 'made', 'call', 'housekeeping', 'time', 'left', 'hotel', 'meet', 'folks', 'lunch', 'returned', '3:00', 'p.m.', 'room', 'still', 'cleaned', 'call', 'housekeeping', 'left', 'walk', 'historic', 'district', 'nearby', 'returned', '5:30', 'call', 'housekeeping', 'time', 'told', 'would', 'wait', 'right', 'someone', 'finally', 'came', 'time', 'long', 'took', '15', 'minutes', 'later', 'someone', 'finally', 'came', 'clean', 'room', 'later', 'night', 'maid', 'audacity', 'knock', 'door', 'ask', 'bigger', 'tip', 'checked', 'next', 'day', 'tipped', 'valet', 'came', 'back', 'minutes', 'later', 'foot', 'could', \"n't\", 'move', 'car', \"'s\", 'standard', 'transmission', 'said', \"'d\", 'get', 'gave', 'keys', 'walked', 'away', 'original', 'tip', 'still', 'hand'], 'F')\n",
      "(['hotel', 'penn', 'great', 'location', 'cheap', 'price', 'less', 'hotels', 'ny', 'get', 'stay', 'heart', 'city', 'write', 'across', 'penn', 'station/msg', 'blocks', 'away', 'times', 'square', 'macy', \"'s\", 'many', 'subway', 'stops', 'rooms', \"n't\", 'small', 'room', 'even', 'view', 'empire', 'state', 'building', 'hotel', 'also', 'surrounded', 'tons', 'cheap', 'restaurants', 'perfect', 'tourist'], 'T')\n",
      "(['hotel', 'enjoyable', 'price', 'reasonable', 'service', 'quick'], 'T')\n",
      "(['circus', 'circus', 'hotel', 'reno', 'nevada', 'even', 'hotel', 'would', 'send', 'worst', 'enemy', 'place', 'middle', 'armpit', 'america', 'reno', 'hotel', 'mess', 'everything', 'mean', 'everything', 'smells', 'like', 'smoke', 'smoking', 'supposed', 'casino', 'area', 'hardly', 'case', 'multiple', 'restaurants', 'usually', 'closed', 'food', 'horrible', 'anyway', 'terribly', 'old', 'definitely', 'shows', 'rooms', 'casino', 'serious', 'need', 'renovation', 'asap'], 'F')\n",
      "(['stayed', 'way', 'miami', 'key', 'west', 'spend', 'night', 'found', 'first', 'hotel', 'available', 'hotel', 'highway', '1', 'first', 'one', 'tried', 'paid', '60', 'room', 'thought', 'bit', 'expensive', 'hotel', 'neighborhood', 'tired', 'hunt', 'bargain', 'hotel', 'rated', '2', 'stars', 'stayed', 'two', 'star', 'hotels', 'rooms', 'looked', 'comparable', 'first', 'sight', 'however', 'first', 'room', 'given', 'us', 'terrible', 'smell', 'bleach', 'could', \"n't\", 'stand', 'minute', 'went', 'back', 'reception', 'got', 'another', 'room', 'smell', 'room', 'settled', 'unpacked', 'started', 'noticing', 'small', 'problems', 'refridgerator', 'loud', 'night', 'woke', 'unplugged', 'bed', 'fragile', 'everytime', 'turned', 'sleep', 'squeeked', 'wife', 'woke', 'flush', 'bathroom', 'leaking', 'flushed', 'regularly', 'every', '5', 'minutes', 'made', 'noice', 'hair', 'dryer', 'working', 'hot', 'cold', 'indicators', 'bathroom', 'interchanged', 'complained', 'receptionist', 'checking', 'looked', 'fuzzy', 'wonder', 'none', 'problems', 'fixed', 'yet', 'would', 'recommend', 'everyone', 'stay', 'away', 'hotel'], 'F')\n",
      "(['town', 'friendôçös', 'wedding', 'stayed', 'weekend', 'days', 'inn', 'stayed', 'many', 'days', 'inn', 'past', 'one', 'horrible', 'room', 'smelled', 'like', 'stale', 'cigarettes', 'mildew', 'buy', 'lysol', 'spray', 'every', 'cover', 'room', 'bed', 'think', 'something', 'biting', 'bed', 'pulled', 'sheet', 'back', 'saw', 'dead', 'insects', 'underneath', 'sheets', 'laying', 'water', 'ran', 'slowly', 'hard', 'take', 'quick', 'bath', 'brush', 'teeth', 'kinds', 'huge', 'spot', 'carpet', 'old', 'spills', 'leaks', 'complained', 'front', 'desk', 'helpful', 'hotel', 'full', 'hotels', 'vacancies', 'ôç£bike', 'weekendôçø', 'never', 'stay', 'days', 'inn', 'recommend', 'friends', 'lost', 'customer', 'life'], 'F')\n",
      "(['loved', 'experience', 'hotel/resort', 'hotel', 'clean', 'organized', 'heated', 'pool', 'nice', 'late', 'little', 'windy', 'restaurant', 'food', 'delicious', 'fresh', 'variety', 'food', 'restaurant', 'amazing', 'many', 'typical', 'mexican', 'dishes', 'amazing', 'beach', 'crystal', 'clear', 'sand', 'clean', 'fear', 'getting', 'cut', 'hurting', 'feet'], 'T')\n",
      "(['red', 'roof', 'inn', 'north', 'charleston', 'south', 'carolina', 'pretty', 'inexpensive', 'definitely', 'get', 'pay', 'location', 'terrible', 'itôçös', 'right', 'interstate', 'busy', 'loud', 'commercial', 'area', 'also', 'noted', 'itôçös', 'close', 'historic', 'downtown', 'beach', 'areas', 'charleston', 'might', 'lead', 'believe', 'got', 'little', 'early', 'room', 'wasnôçöt', 'ready', 'went', 'nearby', 'starbucks', 'hour', 'came', 'back', 'check-in', 'time', 'room', 'still', 'wasnôçöt', 'ready', 'lady', 'desk', 'nice', 'incompetent', 'finally', 'got', 'room', 'youôçöd', 'expect', 'cheap', 'hotel', 'smelled', 'cigarettes', 'cheap', 'cleaning', 'products', 'think', 'worst', 'part', 'clientele', 'room', 'second', 'floor', 'required', 'climbing', 'two', 'flights', 'stairs', 'unsavory', 'individuals', 'always', 'hanging', 'stairs', 'landing', 'made', 'really', 'uncomfortable', 'walk', 'car', 'next', 'time', 'iôçöll', 'pay', 'extra', 'stay', 'somewhere', 'else'], 'F')\n",
      "(['ste', 'marie', 'marie', 'antoinette', 'hotel', 'renamed', 'hotel', 'le', 'marais', 'located', 'heart', 'popular', 'french', 'quarter', 'new', 'orleans', 'location', 'convenient', 'sights', 'quarter', 'unfortunately', 'one', 'positive', 'aspect', 'tired', 'hotel', 'property', 'need', 'renovation', 'rooms', 'common', 'space', 'stay', 'pool', 'operational', 'restaurant/bar', 'open', 'rooms', 'average', 'similarly', 'priced', 'hotels', 'french', 'quarter', 'hotel', \"'s\", 'brochure', 'featured', 'photographs', 'either', 'heavily', 'retouched', 'taken', 'property', 'seen', 'much', 'better', 'times'], 'F')\n",
      "(['displeased', 'two-night', 'stay', 'doubletree', 'savannah', 'must', 'off-season', 'hotel', 'nearly', 'empty', 'apparently', 'meant', \"n't\", 'enough', 'staff', 'anything', 'day', 'two', 'stay', 'room', 'still', 'cleaned', '12:30', 'p.m.', 'found', 'stopping', 'back', 'hotel', 'change', 'clothes', 'spending', 'morning', 'town', 'made', 'call', 'housekeeping', 'time', 'left', 'hotel', 'meet', 'folks', 'lunch', 'returned', '3:00', 'p.m.', 'room', 'still', 'cleaned', 'call', 'housekeeping', 'left', 'walk', 'historic', 'district', 'nearby', 'returned', '5:30', 'call', 'housekeeping', 'time', 'told', 'would', 'wait', 'right', 'someone', 'finally', 'came', 'time', 'long', 'took', '15', 'minutes', 'later', 'someone', 'finally', 'came', 'clean', 'room', 'later', 'night', 'maid', 'audacity', 'knock', 'door', 'ask', 'bigger', 'tip', 'checked', 'next', 'day', 'tipped', 'valet', 'came', 'back', 'minutes', 'later', 'foot', 'could', \"n't\", 'move', 'car', \"'s\", 'standard', 'transmission', 'said', \"'d\", 'get', 'gave', 'keys', 'walked', 'away', 'original', 'tip', 'still', 'hand'], 'F')\n",
      "(['booked', 'weekend', 'terranea', 'birthday', 'arrived', 'room', 'ready', 'check-in', 'time', 'told', 'would', 'wait', 'front', 'desk', 'provide', 'exact', 'time', 'said', 'could', 'walk', 'around', 'hour', 'later', 'still', 'ready', 'took', '5', 'hours', 'actually', 'next', 'day', 'pool', 'server', 'came', 'around', 'took', 'order', 'laid', 'never', 'returned', 'approached', 'pool', 'bar', 'mess', 'sink', 'clogged', 'cups', 'everywhere', 'price', 'paid', 'made', 'really', 'expect', '2', 'star', '4.5.', 'wo', \"n't\", 'returning'], 'F')\n",
      "(['super', '8', 'hotel', 'recently', 'stayed', 'due', 'lack', 'options', 'far', 'hotels', 'go', 'untidy', 'service', 'slow', 'overall', 'experience', 'horrible', 'room', 'got', 'bed', 'sheets', 'strewn', 'place', 'room', 'keeping', 'person', 'bothered', 'clean', 'room', 'previous', 'person', 'left', 'service', 'slow', 'took', 'unreasonable', 'amount', 'time', 'get', 'simple', 'makeshift', 'bed', 'brought', 'room', 'overall', 'horrible', 'experience', 'waste', 'money'], 'F')\n",
      "([\"'ve\", 'stayed', '16th', 'street', 'mall', 'westin', '60', 'nights', 'past', 'four', 'years', 'combined', 'business/personal', 'trips', 'staff', 'management', 'hotel', 'always', 'friendly', 'guest', 'driven', 'service', 'love', 'hotel', \"'s\", 'location', 'fact', 'reason', 'first', 'stayed', 'hotel', 'fact', \"'s\", '16th', 'street', 'mall', 'within', 'walking', 'distance', 'corporate', 'office', 'fact', 'first', 'trip', 'stopped', 'renting', 'car', 'need', 'one', 'view', 'mountains', 'upper', 'floors', 'breathtaking', 'king', 'sized', 'bed', 'always', 'world', 'class', 'every', 'westin', \"'ve\", 'stayed', 'room', 'comfort', 'staff', 'friendliness', 'reason', 'stay', 'hotel', 'every', 'trip', 'denver'], 'T')\n"
     ]
    },
    {
     "name": "stdout",
     "output_type": "stream",
     "text": [
      "ACCURACY =\n",
      "97.67441860465117\n"
     ]
    }
   ],
   "source": [
    "preprocessedTestingSet = reviewProcessor.processReviews(test_data)\n",
    "test = []\n",
    "result = []\n",
    "for i in range(len(data)-x):\n",
    "    t = r.choice(preprocessedTestingSet)\n",
    "    preprocessedTestingSet.remove(t)\n",
    "    test.append(t[0])\n",
    "    result.append(t[1])\n",
    "# print(test)\n",
    "# print(result)\n",
    "k = 0\n",
    "p = 0\n",
    "for i in test:\n",
    "    NB = NBayesClassifier.classify(extract_features(i))\n",
    "#     print(NB,\" \",result[k])\n",
    "    if NB == result[k]:\n",
    "        p = p + 1\n",
    "    k = k + 1\n",
    "accuracy = p*100/k\n",
    "print(\"ACCURACY =\")\n",
    "print(accuracy)"
   ]
  },
  {
   "cell_type": "markdown",
   "metadata": {},
   "source": [
    "# DATABASE"
   ]
  },
  {
   "cell_type": "code",
   "execution_count": 7,
   "metadata": {
    "scrolled": true
   },
   "outputs": [
    {
     "name": "stdout",
     "output_type": "stream",
     "text": [
      "Database Connected\n"
     ]
    }
   ],
   "source": [
    "import pymysql\n",
    "conn = pymysql.connect(host=\"localhost\",user=\"root\",passwd=\"\",db=\"fake_feedback\")\n",
    "cur = conn.cursor()\n",
    "print(\"Database Connected\")\n",
    "\n",
    "try:\n",
    "    d = \"select * from reviews\"\n",
    "    cur.execute(d)\n",
    "    review_data = cur.fetchall()\n",
    "#     print(data)\n",
    "    neg = \"select * from negative_words\"\n",
    "    cur.execute(neg)\n",
    "    neg_words = cur.fetchall()\n",
    "#     print(neg_words)\n",
    "except Exception as e:\n",
    "    print(\"ERROR=\",e)\n",
    "    \n",
    "review = []\n",
    "ip_addr = []\n",
    "negatives = []\n",
    "\n",
    "for i in review_data:\n",
    "    review.append(i[2])\n",
    "    ip_addr.append(i[1])\n",
    "\n",
    "for i in neg_words:\n",
    "    negatives.append(i[1])\n",
    "\n",
    "me_list = ['i','me','myself']\n",
    "\n",
    "ln = ['.com','.org','.net','.gov']\n",
    "\n",
    "# print(ip_addr)\n",
    "# print(negatives)"
   ]
  },
  {
   "cell_type": "markdown",
   "metadata": {},
   "source": [
    "# VERIFICATION"
   ]
  },
  {
   "cell_type": "code",
   "execution_count": 8,
   "metadata": {},
   "outputs": [],
   "source": [
    "def verify_fake(ip,r):\n",
    "    v = [0 for i in range(5)]\n",
    "    rev1 = r.split(\" \")\n",
    "    rev = [i.lower() for i in rev1]\n",
    "    nc = 0\n",
    "    myc = 0\n",
    "    linkc = 0\n",
    "    \n",
    "    ipc = ip_addr.count(ip)\n",
    "    for i in negatives:\n",
    "        nc = nc + rev.count(i)\n",
    "    myc = 0\n",
    "    for i in me_list:\n",
    "        myc = myc + rev.count(i)\n",
    "    for i in rev:\n",
    "        for j in ln:\n",
    "            if j in i:\n",
    "                linkc = linkc + 1\n",
    "    if ipc > 1:\n",
    "        v[0] = 1\n",
    "    if nc > 3:\n",
    "        v[1] = 1\n",
    "    if myc > 5:\n",
    "        v[2] = 1\n",
    "    if linkc > 0:\n",
    "        v[3] = 1\n",
    "    if r in review:\n",
    "        v[4] = 1\n",
    "#     print(nc,myc,linkc,ipc)\n",
    "#     print(v)\n",
    "    return v   "
   ]
  },
  {
   "cell_type": "code",
   "execution_count": 9,
   "metadata": {},
   "outputs": [],
   "source": [
    "verify = ['Multiple reviews from same IP','Too many Negative Words','Self Promotion','Promotions via Links','Duplicate Review']"
   ]
  },
  {
   "cell_type": "markdown",
   "metadata": {},
   "source": [
    "# IP GENERATION (FOR OFFLINE PURPOSES)"
   ]
  },
  {
   "cell_type": "code",
   "execution_count": 10,
   "metadata": {},
   "outputs": [],
   "source": [
    "import random as r\n",
    "def ip_generator():\n",
    "    num = [i for i in range(255)]\n",
    "    ip = str(r.choice(num))+\".\"+str(r.choice(num))+\".\"+str(r.choice(num))+\".\"+str(r.choice(num))\n",
    "    return ip"
   ]
  },
  {
   "cell_type": "markdown",
   "metadata": {},
   "source": [
    "# FAKE REVIEW DETECTION WITH ANALYSIS"
   ]
  },
  {
   "cell_type": "code",
   "execution_count": 12,
   "metadata": {},
   "outputs": [],
   "source": [
    "import random as r\n",
    "def review_detection(r_ip,ipr):\n",
    "    result = ['','']\n",
    "    fake_reasons = []\n",
    "    \n",
    "    if ipr == -1:\n",
    "        return -1\n",
    "\n",
    "    v = verify_fake(ipr,r_ip)\n",
    "    if v.count(1)>=3:\n",
    "        result[0] = 'FAKE'\n",
    "    else:\n",
    "        result[0] = 'NOT FAKE'\n",
    "    for i in range(5):\n",
    "        if v[i] == 1:\n",
    "            fake_reasons.append(verify[i])\n",
    "    \n",
    "    preprocessedReview = reviewProcessor._processReview(r_ip)\n",
    "    NB = NBayesClassifier.classify(extract_features(preprocessedReview))\n",
    "    \n",
    "    if NB == 'T':\n",
    "        result[1] = 'POSITIVE'\n",
    "    elif NB == 'F':\n",
    "        result[1] = 'NEGATIVE'\n",
    "    else:\n",
    "        result[1] = 'UNDEFINED'\n",
    "    \n",
    "    result.append(fake_reasons)\n",
    "    \n",
    "    return result"
   ]
  },
  {
   "cell_type": "markdown",
   "metadata": {},
   "source": [
    "# EXAMPLE"
   ]
  },
  {
   "cell_type": "code",
   "execution_count": 15,
   "metadata": {},
   "outputs": [
    {
     "name": "stdout",
     "output_type": "stream",
     "text": [
      "Enter Review:-sgkahjsgjhdsgjhsdaf\n",
      "0 for repeat ip; 1 for new ip:-0\n",
      "\n",
      "\n",
      "REVIEW CLASSIFICATION:\n",
      "NEGATIVE\n",
      "NOT FAKE\n",
      "\n",
      "RAISED RED FLAGS:\n",
      "Multiple reviews from same IP\n"
     ]
    }
   ],
   "source": [
    "r_ip = input('Enter Review:-')\n",
    "ip_ip = int(input('0 for repeat ip; 1 for new ip:-'))\n",
    "\n",
    "if ip_ip == 0:\n",
    "    ipr = r.choice(ip_addr)\n",
    "elif ip_ip == 1:\n",
    "    ipr = ip_generator()\n",
    "else: \n",
    "    print(\"Invalid option\")\n",
    "    ipr = -1\n",
    "\n",
    "# print(ipr)\n",
    "\n",
    "answer = review_detection(r_ip,ipr)\n",
    "\n",
    "if answer == -1:\n",
    "    print(\"ERROR\")\n",
    "else:\n",
    "    print()\n",
    "    print()\n",
    "    print(\"REVIEW CLASSIFICATION:\")\n",
    "    print(answer[1])\n",
    "    print(answer[0])\n",
    "    print()\n",
    "    if answer[0] == 'FAKE':\n",
    "        print(\"REASONS:\")\n",
    "        for i in answer[2]:\n",
    "            print(i)\n",
    "    if answer[0] == 'NOT FAKE':\n",
    "        print(\"RAISED RED FLAGS:\")\n",
    "        for i in answer[2]:\n",
    "            print(i)\n",
    "#     print(answer)"
   ]
  },
  {
   "cell_type": "code",
   "execution_count": null,
   "metadata": {},
   "outputs": [],
   "source": [
    "# pathetic service, unhygenic and disgusting. We did not have a good time. never visit. Very Bad. visit xyz.com"
   ]
  },
  {
   "cell_type": "markdown",
   "metadata": {},
   "source": [
    "# ADDITION OF NEW DATA TO DB"
   ]
  },
  {
   "cell_type": "code",
   "execution_count": null,
   "metadata": {},
   "outputs": [],
   "source": [
    "#Add review and IP to database"
   ]
  }
 ],
 "metadata": {
  "kernelspec": {
   "display_name": "Python 3",
   "language": "python",
   "name": "python3"
  },
  "language_info": {
   "codemirror_mode": {
    "name": "ipython",
    "version": 3
   },
   "file_extension": ".py",
   "mimetype": "text/x-python",
   "name": "python",
   "nbconvert_exporter": "python",
   "pygments_lexer": "ipython3",
   "version": "3.6.5"
  }
 },
 "nbformat": 4,
 "nbformat_minor": 2
}
