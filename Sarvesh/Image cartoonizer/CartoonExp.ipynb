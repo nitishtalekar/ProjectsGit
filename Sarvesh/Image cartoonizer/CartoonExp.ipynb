{
 "cells": [
  {
   "cell_type": "code",
   "execution_count": 2,
   "metadata": {},
   "outputs": [],
   "source": [
    "import cv2\n",
    "import numpy as np"
   ]
  },
  {
   "cell_type": "code",
   "execution_count": 29,
   "metadata": {},
   "outputs": [
    {
     "data": {
      "text/plain": [
       "-1"
      ]
     },
     "execution_count": 29,
     "metadata": {},
     "output_type": "execute_result"
    }
   ],
   "source": [
    "img = cv2.imread(\"input\\River.jpg\")\n",
    "imS = cv2.resize(img, (250, 250)) \n",
    "cv2.imshow(\"image\",imS)\n",
    "cv2.waitKey(0)"
   ]
  },
  {
   "cell_type": "code",
   "execution_count": 45,
   "metadata": {},
   "outputs": [
    {
     "data": {
      "text/plain": [
       "-1"
      ]
     },
     "execution_count": 45,
     "metadata": {},
     "output_type": "execute_result"
    }
   ],
   "source": [
    "ma = np.ones((3,3),np.float32)/9\n",
    "smooth = cv2.filter2D(img,-1,ma)\n",
    "smooth1 = cv2.filter2D(smooth,-1,ma)\n",
    "sm = cv2.resize(smooth1, (250, 250)) \n",
    "cv2.imshow(\"image111\",sm)\n",
    "\n",
    "m1 = np.matmul(ma,ma)\n",
    "smooth2 = cv2.filter2D(img,-1,m1)\n",
    "sm2 = cv2.resize(smooth2, (250, 250)) \n",
    "cv2.imshow(\"image222\",sm2)\n",
    "\n",
    "m2 = np.dot(ma,ma)/(ma+ma)\n",
    "smooth3 = cv2.filter2D(img,-1,m2)\n",
    "sm3 = cv2.resize(smooth3, (250, 250)) \n",
    "cv2.imshow(\"image333\",sm3)\n",
    "cv2.waitKey(0)"
   ]
  },
  {
   "cell_type": "code",
   "execution_count": 42,
   "metadata": {},
   "outputs": [
    {
     "name": "stdout",
     "output_type": "stream",
     "text": [
      "[1 0 4]\n",
      "[142 142 145]\n",
      "[122 123 126]\n",
      "[47 47 48]\n",
      "[255 255 255]\n"
     ]
    }
   ],
   "source": [
    "print(img[0][0])\n",
    "\n",
    "print(smooth[0][0])\n",
    "\n",
    "print(smooth1[0][0])\n",
    "\n",
    "print(smooth2[0][0])\n",
    "\n",
    "print(smooth3[0][0])"
   ]
  },
  {
   "cell_type": "code",
   "execution_count": null,
   "metadata": {},
   "outputs": [],
   "source": []
  },
  {
   "cell_type": "code",
   "execution_count": null,
   "metadata": {},
   "outputs": [],
   "source": []
  }
 ],
 "metadata": {
  "kernelspec": {
   "display_name": "Python 3",
   "language": "python",
   "name": "python3"
  },
  "language_info": {
   "codemirror_mode": {
    "name": "ipython",
    "version": 3
   },
   "file_extension": ".py",
   "mimetype": "text/x-python",
   "name": "python",
   "nbconvert_exporter": "python",
   "pygments_lexer": "ipython3",
   "version": "3.6.5"
  }
 },
 "nbformat": 4,
 "nbformat_minor": 2
}
