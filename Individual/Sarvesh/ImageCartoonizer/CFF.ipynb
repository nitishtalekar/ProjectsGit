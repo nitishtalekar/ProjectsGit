{
 "cells": [
  {
   "cell_type": "code",
   "execution_count": 1,
   "metadata": {},
   "outputs": [
    {
     "data": {
      "text/plain": [
       "-1"
      ]
     },
     "execution_count": 1,
     "metadata": {},
     "output_type": "execute_result"
    }
   ],
   "source": [
    "import cv2\n",
    "import numpy as np\n",
    "\n",
    "img = cv2.imread(\"input\\River.jpg\")\n",
    "cv2.imshow(\"image\",img)\n",
    "\n",
    "# masklpf = np.array([[1/9,1/9,1/9],[1/9,1/9,1/9],[1/9,1/9,1/9]], dtype = int)\n",
    "\n",
    "def bw(img,t):\n",
    "    for i in range(img.shape[0]):\n",
    "        for j in range(img.shape[1]):\n",
    "            if img[i][j] >= t :\n",
    "                img[i][j] = 255\n",
    "            else:\n",
    "                img[i][j] = 0\n",
    "    return img\n",
    "\n",
    "def neg(img):\n",
    "    for i in range(img.shape[0]):\n",
    "        for j in range(img.shape[1]):\n",
    "            if img[i][j] == 255:\n",
    "                img[i][j] = 0\n",
    "            else:\n",
    "                img[i][j] = 255\n",
    "    return img\n",
    "\n",
    "#MASK--1\n",
    "maskavg = np.ones((5,5),np.float32)/25\n",
    "smooth = cv2.filter2D(img,-1,maskavg)\n",
    "# cv2.imshow(\"smooth\",smooth)\n",
    "\n",
    "#MASK--1 AGAIN\n",
    "smooth1 = cv2.filter2D(smooth,-1,maskavg)\n",
    "cv2.imshow(\"smooth1\",smooth1)\n",
    "\n",
    "#GRAYSCALING\n",
    "gray = cv2.cvtColor(img, cv2.COLOR_BGR2GRAY)\n",
    "cv2.imshow(\"gray\",gray)\n",
    "\n",
    "#LPF\n",
    "masklpf = np.ones((3,3),np.float32)/9\n",
    "gray = cv2.filter2D(gray,-1,masklpf)\n",
    "cv2.imshow(\"grayblur\",gray)\n",
    "\n",
    "#EDGE DETECTION\n",
    "masksuv = np.array([[-1,-1,-1],[0,0,0],[1,1,1]], dtype = 'float32')\n",
    "edge1 = cv2.filter2D(gray,-1,masksuv)\n",
    "# cv2.imshow(\"edge1\",edge1)\n",
    "\n",
    "masksuh = np.array([[-1,0,1],[-2,0,2],[-1,0,1]], dtype = 'float32')\n",
    "edge3 = cv2.filter2D(gray,-1,masksuv)\n",
    "# cv2.imshow(\"edge3\",edge3)\n",
    "\n",
    "#LAPLACIAN FINAL\n",
    "masksuh = np.array([[-1/9,-1/9,-1/9],[-1/9,8.1/9,-1/9],[-1/9,-1/9,-1/9]], dtype = 'float32')\n",
    "edge2 = cv2.filter2D(gray,-1,masksuh)\n",
    "cv2.imshow(\"edge2\",edge2)\n",
    "\n",
    "# cv2.imshow(\"edge4\",edge1+edge3)\n",
    "\n",
    "sedge = cv2.filter2D(edge2,-1,maskavg)\n",
    "# cv2.imshow(\"edgesmooth\",sedge)\n",
    "\n",
    "sedge = cv2.filter2D(sedge,-1,maskavg)\n",
    "# cv2.imshow(\"edgesmooth1\",sedge)\n",
    "\n",
    "sedge = cv2.filter2D(sedge,-1,maskavg)\n",
    "# cv2.imshow(\"edgesmooth2\",sedge)\n",
    "\n",
    "\n",
    "\n",
    "# thresh = 5\n",
    "# im_bw = cv2.threshold(edge2, thresh, 255, cv2.THRESH_BINARY)[1]\n",
    "# cv2.imshow(\"bw\",im_bw)\n",
    "\n",
    "im_bw1 = bw(edge2,5)\n",
    "cv2.imshow(\"bw\",im_bw1)\n",
    "\n",
    "\n",
    "# print(im_bw)\n",
    "# print(im_bw1)\n",
    "\n",
    "\n",
    "sbw = cv2.filter2D(im_bw1,-1,masklpf)\n",
    "cv2.imshow(\"sbw\",sbw)\n",
    "\n",
    "# thresh = 40\n",
    "# im_bw = cv2.threshold(sbw, thresh, 255, cv2.THRESH_BINARY)[1]\n",
    "# cv2.imshow(\"sbwbw\",im_bw)\n",
    "\n",
    "im_bw1 = bw(sbw,40)\n",
    "cv2.imshow(\"sbwbw\",im_bw1)\n",
    "\n",
    "# print(im_bw)\n",
    "\n",
    "# imgm = cv2.bitwise_not(im_bw1)\n",
    "\n",
    "imgm = neg(im_bw1)\n",
    "\n",
    "# print(imgm)\n",
    "# imgm = np.array(imgm,dtype=np.uint8)\n",
    "cv2.imshow(\"-ve\",imgm)\n",
    "\n",
    "# edge2 = cv2.filter2D(edge1,-1,masksuh)\n",
    "# cv2.imshow(\"edge3\",edge2)\n",
    "#\n",
    "# edge2 = cv2.filter2D(edge2,-1,masksuh)\n",
    "# cv2.imshow(\"edge4\",edge2)\n",
    "\n",
    "# cv2.imshow(\"edge3\",edge1+edge2)\n",
    "\n",
    "cartoon = cv2.bitwise_and(smooth1, smooth1, mask=imgm)\n",
    "cv2.imshow(\"cartoon\",cartoon)\n",
    "\n",
    "cv2.waitKey(0)\n"
   ]
  },
  {
   "cell_type": "code",
   "execution_count": 4,
   "metadata": {},
   "outputs": [
    {
     "name": "stdout",
     "output_type": "stream",
     "text": [
      "[[0.04 0.04 0.04 0.04 0.04]\n",
      " [0.04 0.04 0.04 0.04 0.04]\n",
      " [0.04 0.04 0.04 0.04 0.04]\n",
      " [0.04 0.04 0.04 0.04 0.04]\n",
      " [0.04 0.04 0.04 0.04 0.04]]\n"
     ]
    }
   ],
   "source": [
    "print(maskavg)"
   ]
  },
  {
   "cell_type": "code",
   "execution_count": null,
   "metadata": {},
   "outputs": [],
   "source": []
  }
 ],
 "metadata": {
  "kernelspec": {
   "display_name": "Python 3",
   "language": "python",
   "name": "python3"
  },
  "language_info": {
   "codemirror_mode": {
    "name": "ipython",
    "version": 3
   },
   "file_extension": ".py",
   "mimetype": "text/x-python",
   "name": "python",
   "nbconvert_exporter": "python",
   "pygments_lexer": "ipython3",
   "version": "3.6.5"
  }
 },
 "nbformat": 4,
 "nbformat_minor": 2
}
