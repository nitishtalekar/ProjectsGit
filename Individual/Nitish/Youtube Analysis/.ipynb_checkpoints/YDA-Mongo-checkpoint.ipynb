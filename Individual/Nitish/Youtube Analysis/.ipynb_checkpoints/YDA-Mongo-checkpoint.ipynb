{
 "cells": [
  {
   "cell_type": "code",
   "execution_count": 1,
   "metadata": {},
   "outputs": [],
   "source": [
    "import pymongo\n",
    "import pandas as pd"
   ]
  },
  {
   "cell_type": "code",
   "execution_count": 2,
   "metadata": {},
   "outputs": [],
   "source": [
    "myclient = pymongo.MongoClient(\"mongodb://localhost:27017/\")\n",
    "mydb = myclient[\"mydatabase\"]"
   ]
  },
  {
   "cell_type": "code",
   "execution_count": 3,
   "metadata": {},
   "outputs": [
    {
     "name": "stdout",
     "output_type": "stream",
     "text": [
      "['admin', 'config', 'local']\n"
     ]
    }
   ],
   "source": [
    "print(myclient.list_database_names())"
   ]
  },
  {
   "cell_type": "code",
   "execution_count": 4,
   "metadata": {},
   "outputs": [],
   "source": [
    "csv_path = 'YoutubeNewData.csv'\n",
    "data = pd.read_csv(csv_path).iloc[:, 1:]\n",
    "data.index = data.index.astype('str')"
   ]
  },
  {
   "cell_type": "code",
   "execution_count": 5,
   "metadata": {},
   "outputs": [
    {
     "name": "stderr",
     "output_type": "stream",
     "text": [
      "C:\\Users\\NitishTalekar\\Applictions\\Anaconda3\\lib\\site-packages\\ipykernel_launcher.py:1: DeprecationWarning: insert is deprecated. Use insert_one or insert_many instead.\n",
      "  \"\"\"Entry point for launching an IPython kernel.\n"
     ]
    },
    {
     "data": {
      "text/plain": [
       "ObjectId('5d9e82c06a6a621b1f15ecf1')"
      ]
     },
     "execution_count": 5,
     "metadata": {},
     "output_type": "execute_result"
    }
   ],
   "source": [
    "mydb.myCollection.insert(data.to_dict())"
   ]
  },
  {
   "cell_type": "code",
   "execution_count": null,
   "metadata": {},
   "outputs": [],
   "source": [
    "# https://stackoverflow.com/questions/10209863/build-mongodb-queries-based-on-json-from-a-user-using-python\n",
    "# Refer for Queries"
   ]
  },
  {
   "cell_type": "code",
   "execution_count": 6,
   "metadata": {},
   "outputs": [
    {
     "name": "stdout",
     "output_type": "stream",
     "text": [
      "['admin', 'config', 'local', 'mydatabase']\n"
     ]
    }
   ],
   "source": [
    "print(myclient.list_database_names())"
   ]
  },
  {
   "cell_type": "code",
   "execution_count": 13,
   "metadata": {},
   "outputs": [],
   "source": [
    "cur = mydb.myCollection.find()\n",
    "curs = [i for i in cur]\n",
    "ids = curs[0]['ID']\n",
    "up = curs[0]['Uploader']\n",
    "intr = curs[0]['Interval']\n",
    "cat = curs[0]['Category']\n",
    "leng = curs[0]['Length']\n",
    "view = curs[0]['Views']\n",
    "rat = curs[0]['Rating']\n",
    "nrat = curs[0]['Num_Rating']\n",
    "com = curs[0]['Comments']\n",
    "relid = curs[0]['RelativeID']"
   ]
  },
  {
   "cell_type": "code",
   "execution_count": 30,
   "metadata": {},
   "outputs": [
    {
     "name": "stdout",
     "output_type": "stream",
     "text": [
      "32800\n"
     ]
    }
   ],
   "source": [
    "col =['ID','Uploader','Interval','Category','Length','Views','Rating','Num_Rating','Comments','RelativeID']\n",
    "\n",
    "x = 0\n",
    "for i in range(len(col)):\n",
    "    data[i] = curs[0][col[i]]\n",
    "#     x=x+1\n",
    "\n",
    "print(len(data[0]))\n"
   ]
  },
  {
   "cell_type": "code",
   "execution_count": 42,
   "metadata": {},
   "outputs": [
    {
     "name": "stdout",
     "output_type": "stream",
     "text": [
      "ID :- QuRYeRnAuXM\n",
      "Uploader :- EvilSquirrelPictures\n",
      "Interval :- 1135.0\n",
      "Category :- Pets & Animals\n",
      "Length :- 252.0\n",
      "Views :- 1075.0\n",
      "Rating :- 4.96\n",
      "Num_Rating :- 46.0\n",
      "Comments :- 86.0\n",
      "RelativeID :- gFa1YMEJFag\n"
     ]
    }
   ],
   "source": [
    "# print(ids['0'])\n",
    "# print(type(data))\n",
    "# print(data[col[0]])\n",
    "for i in range(len(col)):\n",
    "    print(col[i],\":-\",data[col[i]][0])"
   ]
  },
  {
   "cell_type": "code",
   "execution_count": 62,
   "metadata": {},
   "outputs": [
    {
     "data": {
      "text/plain": [
       "[nan,\n",
       " 'Music',\n",
       " 'Howto & Style',\n",
       " 'News & Politics',\n",
       " 'Comedy',\n",
       " ' UNA ',\n",
       " 'Nonprofits & Activism',\n",
       " 'People & Blogs',\n",
       " 'Education',\n",
       " 'Pets & Animals',\n",
       " 'Autos & Vehicles',\n",
       " 'Science & Technology',\n",
       " 'Entertainment',\n",
       " 'Sports',\n",
       " 'Film & Animation',\n",
       " 'Travel & Events']"
      ]
     },
     "execution_count": 62,
     "metadata": {},
     "output_type": "execute_result"
    }
   ],
   "source": [
    "x = [i for i in data['Category']]\n",
    "cat = list(set(x))\n",
    "cat"
   ]
  },
  {
   "cell_type": "code",
   "execution_count": 79,
   "metadata": {},
   "outputs": [
    {
     "name": "stdout",
     "output_type": "stream",
     "text": [
      "[{nan: 272}, {'Music': 6896}, {'Howto & Style': 1096}, {'News & Politics': 2664}, {'Comedy': 3312}, {' UNA ': 256}, {'Nonprofits & Activism': 336}, {'People & Blogs': 3184}, {'Education': 520}, {'Pets & Animals': 760}, {'Autos & Vehicles': 616}, {'Science & Technology': 640}, {'Entertainment': 7264}, {'Sports': 2008}, {'Film & Animation': 2080}, {'Travel & Events': 896}]\n"
     ]
    }
   ],
   "source": [
    "catgraph = []\n",
    "catgraph_num = []\n",
    "catgraph_lab = []\n",
    "for j in range(len(cat)):\n",
    "#     print(cat[j],\":\",list(data['Category']).count(cat[j]))\n",
    "    catgraph.append({cat[j]:list(data['Category']).count(cat[j])})\n",
    "    catgraph_num.append(list(data['Category']).count(cat[j]))\n",
    "    catgraph_lab.append(cat[j])\n",
    "\n",
    "\n",
    "print(catgraph)\n"
   ]
  },
  {
   "cell_type": "code",
   "execution_count": 81,
   "metadata": {},
   "outputs": [
    {
     "data": {
      "text/plain": [
       "<function matplotlib.pyplot.show(*args, **kw)>"
      ]
     },
     "execution_count": 81,
     "metadata": {},
     "output_type": "execute_result"
    },
    {
     "data": {
      "image/png": "[encoded data removed]",
      "text/plain": [
       "<Figure size 432x288 with 1 Axes>"
      ]
     },
     "metadata": {},
     "output_type": "display_data"
    }
   ],
   "source": [
    "import matplotlib.pyplot as plt\n",
    "\n",
    "plt.bar([i for i in range(len(catgraph_num))],catgraph_num)\n",
    "plt.show"
   ]
  },
  {
   "cell_type": "code",
   "execution_count": 97,
   "metadata": {},
   "outputs": [
    {
     "data": {
      "text/plain": [
       "<function matplotlib.pyplot.show(*args, **kw)>"
      ]
     },
     "execution_count": 97,
     "metadata": {},
     "output_type": "execute_result"
    },
    {
     "data": {
      "image/png": "[encoded data removed]",
      "text/plain": [
       "<Figure size 432x288 with 1 Axes>"
      ]
     },
     "metadata": {},
     "output_type": "display_data"
    },
    {
     "data": {
      "text/plain": [
       "<Figure size 36000x14400 with 0 Axes>"
      ]
     },
     "metadata": {},
     "output_type": "display_data"
    }
   ],
   "source": [
    "plt.pie(catgraph_num)\n",
    "plt.figure(figsize=(500,200))\n",
    "plt.show"
   ]
  },
  {
   "cell_type": "code",
   "execution_count": 87,
   "metadata": {},
   "outputs": [
    {
     "data": {
      "text/plain": [
       "2927"
      ]
     },
     "execution_count": 87,
     "metadata": {},
     "output_type": "execute_result"
    }
   ],
   "source": [
    "x = [i for i in data['Uploader']]\n",
    "up = list(set(x))\n",
    "len(up)"
   ]
  },
  {
   "cell_type": "code",
   "execution_count": 89,
   "metadata": {},
   "outputs": [
    {
     "name": "stdout",
     "output_type": "stream",
     "text": [
      "11.206012982576016\n"
     ]
    }
   ],
   "source": [
    "upgraph = []\n",
    "upgraph_num = []\n",
    "upgraph_lab = []\n",
    "for j in range(len(up)):\n",
    "#     print(up[j],\":\",list(data['Uploader']).count(up[j]))\n",
    "    upgraph.append({up[j]:list(data['Uploader']).count(up[j])})\n",
    "    upgraph_num.append(list(data['Uploader']).count(up[j]))\n",
    "    upgraph_lab.append(up[j])\n",
    "\n",
    "\n",
    "print(sum(upgraph_num)/len(upgraph_num))"
   ]
  },
  {
   "cell_type": "code",
   "execution_count": null,
   "metadata": {},
   "outputs": [],
   "source": []
  }
 ],
 "metadata": {
  "kernelspec": {
   "display_name": "Python 3",
   "language": "python",
   "name": "python3"
  },
  "language_info": {
   "codemirror_mode": {
    "name": "ipython",
    "version": 3
   },
   "file_extension": ".py",
   "mimetype": "text/x-python",
   "name": "python",
   "nbconvert_exporter": "python",
   "pygments_lexer": "ipython3",
   "version": "3.6.5"
  }
 },
 "nbformat": 4,
 "nbformat_minor": 2
}
