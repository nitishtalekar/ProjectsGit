{
 "cells": [
  {
   "cell_type": "code",
   "execution_count": 1,
   "metadata": {},
   "outputs": [],
   "source": [
    "import pymysql"
   ]
  },
  {
   "cell_type": "code",
   "execution_count": 4,
   "metadata": {},
   "outputs": [],
   "source": [
    "conn = pymysql.connect(host=\"localhost\",user=\"root\",passwd=\"nitish503\",db=\"Bexp\")\n",
    "cur = conn.cursor()"
   ]
  },
  {
   "cell_type": "code",
   "execution_count": 5,
   "metadata": {},
   "outputs": [],
   "source": [
    "import tkinter \n",
    "tk=tkinter.Tk()\n",
    "tk.title(\"SIGN IN\")\n",
    "tk.geometry('300x300+80+80')\n",
    "tk.configure(background='lightskyblue')\n",
    "\n",
    "from tkinter import *\n",
    "\n",
    "n=StringVar()\n",
    "p=StringVar()\n",
    "rp=StringVar()\n",
    "\n",
    "def funct1():\n",
    "    name = n.get()\n",
    "    passw = p.get()\n",
    "    rpass = rp.get()\n",
    "    if passw == rpass and passw!=\"\":\n",
    "        try:\n",
    "            s = \"insert into users(id,un,pass) values (NULL,%s,%s);\"\n",
    "            cur.execute(s,(name,passw))\n",
    "            conn.commit()\n",
    "            lf2=Label(tk,text=\"SUBMITTED\")\n",
    "            lf2.place(x=80,y=250)\n",
    "            print(\"DONE\")  \n",
    "        except Exception as e:\n",
    "            print(\"ERROR=\",e)\n",
    "\n",
    "        \n",
    "            \n",
    "lf=Label(tk,text=\"NAME\")\n",
    "lf.place(x=50,y=100)\n",
    "\n",
    "textbox=Entry(tk,textvariable=n)\n",
    "textbox.place(x=120,y=100)\n",
    "\n",
    "lf1=Label(tk,text=\"PASSWORD\")\n",
    "lf1.place(x=50,y=130)\n",
    "\n",
    "textbox1=Entry(tk,textvariable=p)\n",
    "textbox1.place(x=150,y=130)\n",
    "\n",
    "lf2=Label(tk,text=\"REPASSWORD\")\n",
    "lf2.place(x=50,y=160)\n",
    "\n",
    "textbox2=Entry(tk,textvariable=rp)\n",
    "textbox2.place(x=150,y=160)\n",
    "\n",
    "SubmitButton=Button(tk,text=\"SUBMIT\",fg=\"Red\",font=16)\n",
    "SubmitButton.place(x=50,y=200)\n",
    "SubmitButton.config(command=funct1)\n",
    "\n",
    "\n",
    "tk.mainloop()"
   ]
  },
  {
   "cell_type": "code",
   "execution_count": 4,
   "metadata": {},
   "outputs": [
    {
     "name": "stdout",
     "output_type": "stream",
     "text": [
      "abc123\n",
      "OKAY\n",
      "DONE\n"
     ]
    }
   ],
   "source": [
    "import tkinter \n",
    "tk=tkinter.Tk()\n",
    "tk.title(\"SIGN IN\")\n",
    "tk.geometry('300x300+80+80')\n",
    "tk.configure(background='lightskyblue')\n",
    "\n",
    "from tkinter import *\n",
    "\n",
    "n=StringVar()\n",
    "p=StringVar()\n",
    "\n",
    "def funct1():\n",
    "    name = n.get()\n",
    "    passw = p.get()\n",
    "    \n",
    "    try:\n",
    "        d = \"select pass from users where un = %s\"\n",
    "        cur.execute(d,(name))\n",
    "        data = cur.fetchone()\n",
    "        print(data[0])\n",
    "        if data[0] == passw:\n",
    "            lf2=Label(tk,text=\"WELCOME\")\n",
    "            lf2.place(x=50,y=250)\n",
    "            print(\"OKAY\")\n",
    "            print(\"DONE\")\n",
    "    except Exception as e:\n",
    "        print(\"ERROR=\",e)\n",
    "    \n",
    "lf=Label(tk,text=\"NAME\")\n",
    "lf.place(x=50,y=100)\n",
    "\n",
    "textbox=Entry(tk,textvariable=n)\n",
    "textbox.place(x=120,y=100)\n",
    "\n",
    "lf1=Label(tk,text=\"PASSWORD\")\n",
    "lf1.place(x=50,y=130)\n",
    "\n",
    "textbox1=Entry(tk,textvariable=p)\n",
    "textbox1.place(x=150,y=130)\n",
    "\n",
    "\n",
    "SubmitButton=Button(tk,text=\"LOGIN\",fg=\"Red\",font=16)\n",
    "SubmitButton.place(x=50,y=200)\n",
    "SubmitButton.config(command=funct1)\n",
    "\n",
    "\n",
    "tk.mainloop()"
   ]
  },
  {
   "cell_type": "code",
   "execution_count": 6,
   "metadata": {},
   "outputs": [
    {
     "ename": "FileNotFoundError",
     "evalue": "[Errno 2] No such file or directory: 'C:\\\\Users\\\\NitishTalekar\\\\Desktop\\\\DBMS BLOG\\\\BG.gif'",
     "output_type": "error",
     "traceback": [
      "\u001b[1;31m---------------------------------------------------------------------------\u001b[0m",
      "\u001b[1;31mFileNotFoundError\u001b[0m                         Traceback (most recent call last)",
      "\u001b[1;32m<ipython-input-6-26b78ec90b03>\u001b[0m in \u001b[0;36m<module>\u001b[1;34m()\u001b[0m\n\u001b[0;32m     12\u001b[0m \u001b[1;31m#img = PhotoImage(file=r\"C:\\Users\\NitishTalekar\\Desktop\\DBMS BLOG\\BG.gif\")\u001b[0m\u001b[1;33m\u001b[0m\u001b[1;33m\u001b[0m\u001b[0m\n\u001b[0;32m     13\u001b[0m \u001b[1;33m\u001b[0m\u001b[0m\n\u001b[1;32m---> 14\u001b[1;33m \u001b[0mimg1\u001b[0m \u001b[1;33m=\u001b[0m \u001b[0mImageTk\u001b[0m\u001b[1;33m.\u001b[0m\u001b[0mPhotoImage\u001b[0m\u001b[1;33m(\u001b[0m\u001b[0mII\u001b[0m\u001b[1;33m.\u001b[0m\u001b[0mopen\u001b[0m\u001b[1;33m(\u001b[0m\u001b[1;34mr\"C:\\Users\\NitishTalekar\\Desktop\\DBMS BLOG\\BG.gif\"\u001b[0m\u001b[1;33m)\u001b[0m\u001b[1;33m)\u001b[0m\u001b[1;33m\u001b[0m\u001b[0m\n\u001b[0m\u001b[0;32m     15\u001b[0m \u001b[1;33m\u001b[0m\u001b[0m\n\u001b[0;32m     16\u001b[0m \u001b[0mlf\u001b[0m\u001b[1;33m=\u001b[0m\u001b[0mLabel\u001b[0m\u001b[1;33m(\u001b[0m\u001b[0mtk\u001b[0m\u001b[1;33m,\u001b[0m\u001b[0mtext\u001b[0m\u001b[1;33m=\u001b[0m\u001b[1;34m\"NAME\"\u001b[0m\u001b[1;33m,\u001b[0m\u001b[0mimage\u001b[0m\u001b[1;33m=\u001b[0m\u001b[0mimg\u001b[0m\u001b[1;33m)\u001b[0m\u001b[1;33m\u001b[0m\u001b[0m\n",
      "\u001b[1;32m~\\Applictions\\Anaconda3\\lib\\site-packages\\PIL\\Image.py\u001b[0m in \u001b[0;36mopen\u001b[1;34m(fp, mode)\u001b[0m\n\u001b[0;32m   2546\u001b[0m \u001b[1;33m\u001b[0m\u001b[0m\n\u001b[0;32m   2547\u001b[0m     \u001b[1;32mif\u001b[0m \u001b[0mfilename\u001b[0m\u001b[1;33m:\u001b[0m\u001b[1;33m\u001b[0m\u001b[0m\n\u001b[1;32m-> 2548\u001b[1;33m         \u001b[0mfp\u001b[0m \u001b[1;33m=\u001b[0m \u001b[0mbuiltins\u001b[0m\u001b[1;33m.\u001b[0m\u001b[0mopen\u001b[0m\u001b[1;33m(\u001b[0m\u001b[0mfilename\u001b[0m\u001b[1;33m,\u001b[0m \u001b[1;34m\"rb\"\u001b[0m\u001b[1;33m)\u001b[0m\u001b[1;33m\u001b[0m\u001b[0m\n\u001b[0m\u001b[0;32m   2549\u001b[0m         \u001b[0mexclusive_fp\u001b[0m \u001b[1;33m=\u001b[0m \u001b[1;32mTrue\u001b[0m\u001b[1;33m\u001b[0m\u001b[0m\n\u001b[0;32m   2550\u001b[0m \u001b[1;33m\u001b[0m\u001b[0m\n",
      "\u001b[1;31mFileNotFoundError\u001b[0m: [Errno 2] No such file or directory: 'C:\\\\Users\\\\NitishTalekar\\\\Desktop\\\\DBMS BLOG\\\\BG.gif'"
     ]
    }
   ],
   "source": [
    "import tkinter \n",
    "from PIL import ImageTk\n",
    "from PIL import Image as II\n",
    "tk=tkinter.Tk()\n",
    "tk.title(\"SIGN IN\")\n",
    "tk.geometry('300x300+80+80')\n",
    "tk.configure(background='lightskyblue')\n",
    "\n",
    "from tkinter import *\n",
    "\n",
    " \n",
    "#img = PhotoImage(file=r\"C:\\Users\\NitishTalekar\\Desktop\\DBMS BLOG\\BG.gif\")\n",
    "\n",
    "img1 = ImageTk.PhotoImage(II.open(r\"C:\\Users\\NitishTalekar\\Desktop\\DBMS BLOG\\BG.gif\")) \n",
    "\n",
    "lf=Label(tk,text=\"NAME\",image=img)\n",
    "lf.place(x=50,y=100)\n",
    "\n",
    "\n",
    "tk.mainloop()\n"
   ]
  },
  {
   "cell_type": "code",
   "execution_count": null,
   "metadata": {},
   "outputs": [],
   "source": []
  },
  {
   "cell_type": "code",
   "execution_count": 7,
   "metadata": {},
   "outputs": [
    {
     "ename": "NameError",
     "evalue": "name 'nm' is not defined",
     "output_type": "error",
     "traceback": [
      "\u001b[1;31m---------------------------------------------------------------------------\u001b[0m",
      "\u001b[1;31mNameError\u001b[0m                                 Traceback (most recent call last)",
      "\u001b[1;32m<ipython-input-7-e7492b8c79ad>\u001b[0m in \u001b[0;36m<module>\u001b[1;34m()\u001b[0m\n\u001b[0;32m     24\u001b[0m \u001b[0mlf\u001b[0m\u001b[1;33m.\u001b[0m\u001b[0mplace\u001b[0m\u001b[1;33m(\u001b[0m\u001b[0mx\u001b[0m\u001b[1;33m=\u001b[0m\u001b[1;36m50\u001b[0m\u001b[1;33m,\u001b[0m\u001b[0my\u001b[0m\u001b[1;33m=\u001b[0m\u001b[1;36m100\u001b[0m\u001b[1;33m)\u001b[0m\u001b[1;33m\u001b[0m\u001b[0m\n\u001b[0;32m     25\u001b[0m \u001b[1;33m\u001b[0m\u001b[0m\n\u001b[1;32m---> 26\u001b[1;33m \u001b[0mtextbox\u001b[0m\u001b[1;33m=\u001b[0m\u001b[0mEntry\u001b[0m\u001b[1;33m(\u001b[0m\u001b[0mtk\u001b[0m\u001b[1;33m,\u001b[0m\u001b[0mtextvariable\u001b[0m\u001b[1;33m=\u001b[0m\u001b[0mnm\u001b[0m\u001b[1;33m)\u001b[0m\u001b[1;33m\u001b[0m\u001b[0m\n\u001b[0m\u001b[0;32m     27\u001b[0m \u001b[0mtextbox\u001b[0m\u001b[1;33m.\u001b[0m\u001b[0mplace\u001b[0m\u001b[1;33m(\u001b[0m\u001b[0mx\u001b[0m\u001b[1;33m=\u001b[0m\u001b[1;36m120\u001b[0m\u001b[1;33m,\u001b[0m\u001b[0my\u001b[0m\u001b[1;33m=\u001b[0m\u001b[1;36m100\u001b[0m\u001b[1;33m)\u001b[0m\u001b[1;33m\u001b[0m\u001b[0m\n\u001b[0;32m     28\u001b[0m \u001b[1;33m\u001b[0m\u001b[0m\n",
      "\u001b[1;31mNameError\u001b[0m: name 'nm' is not defined"
     ]
    }
   ],
   "source": [
    "n=StringVar()\n",
    "p=StringVar()\n",
    "rp=StringVar()\n",
    "\n",
    "def funct1():\n",
    "    name = nm.get()\n",
    "    uname = unm.get()\n",
    "    passw = pw.get()\n",
    "    rpass = rpw.get()\n",
    "    if passw == rpass and passw!=\"\":\n",
    "        try:\n",
    "            st = \"insert into users(uid,name,uname,pwd) values (NULL,%s,%s,%s);\"\n",
    "            cur.execute(st,(name,uname,passw))\n",
    "            conn.commit()\n",
    "            lf2=Label(tk,text=\"SUBMITTED\")\n",
    "            lf2.place(x=80,y=250)\n",
    "        except Exception as e:\n",
    "            lf2=Label(tk,text=\"UNAME TAKEN\")\n",
    "            lf2.place(x=80,y=250)\n",
    "\n",
    "        \n",
    "            \n",
    "lf=Label(tk,text=\"NAME\")\n",
    "lf.place(x=50,y=100)\n",
    "\n",
    "textbox=Entry(tk,textvariable=nm)\n",
    "textbox.place(x=120,y=100)\n",
    "\n",
    "lf=Label(tk,text=\"USERNAME\")\n",
    "lf.place(x=50,y=130)\n",
    "\n",
    "textbox=Entry(tk,textvariable=nm)\n",
    "textbox.place(x=120,y=130)\n",
    "\n",
    "lf1=Label(tk,text=\"PASSWORD\")\n",
    "lf1.place(x=50,y=160)\n",
    "\n",
    "textbox1=Entry(tk,textvariable=p)\n",
    "textbox1.place(x=150,y=160)\n",
    "\n",
    "lf2=Label(tk,text=\"REPASSWORD\")\n",
    "lf2.place(x=50,y=190)\n",
    "\n",
    "textbox2=Entry(tk,textvariable=rp)\n",
    "textbox2.place(x=150,y=190)"
   ]
  },
  {
   "cell_type": "code",
   "execution_count": null,
   "metadata": {},
   "outputs": [],
   "source": []
  },
  {
   "cell_type": "code",
   "execution_count": null,
   "metadata": {},
   "outputs": [],
   "source": []
  }
 ],
 "metadata": {
  "kernelspec": {
   "display_name": "Python 3",
   "language": "python",
   "name": "python3"
  },
  "language_info": {
   "codemirror_mode": {
    "name": "ipython",
    "version": 3
   },
   "file_extension": ".py",
   "mimetype": "text/x-python",
   "name": "python",
   "nbconvert_exporter": "python",
   "pygments_lexer": "ipython3",
   "version": "3.6.5"
  }
 },
 "nbformat": 4,
 "nbformat_minor": 2
}
