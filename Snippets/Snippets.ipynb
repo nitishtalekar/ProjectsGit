{
 "cells": [
  {
   "cell_type": "markdown",
   "metadata": {},
   "source": [
    "# DATABASE CONNECTION"
   ]
  },
  {
   "cell_type": "code",
   "execution_count": null,
   "metadata": {},
   "outputs": [],
   "source": [
    "import pymysql\n",
    "conn = pymysql.connect(host=\"localhost\",user=\"root\",passwd=\"\",db=\"namangel\")\n",
    "cur = conn.cursor()\n",
    "\n",
    "try:\n",
    "    d = \"select * from userinv\"\n",
    "    cur.execute(d)\n",
    "    data = cur.fetchall()\n",
    "    print(data)\n",
    "except Exception as e:\n",
    "    print(\"ERROR=\",e)"
   ]
  },
  {
   "cell_type": "markdown",
   "metadata": {},
   "source": [
    "# PERMUTATION"
   ]
  },
  {
   "cell_type": "code",
   "execution_count": null,
   "metadata": {},
   "outputs": [],
   "source": [
    "s = \"aeiou\"\n",
    "def per(x,data,l,ind):\n",
    "    a = []\n",
    "    leng = len(x)\n",
    "    for i in range(leng):\n",
    "        data[ind] = x[i]\n",
    "        if ind == l:\n",
    "            a.append(data.copy())\n",
    "        else:\n",
    "            a = a + per(x,data,l,ind+1)\n",
    "    return a\n",
    "\n",
    "n = int(input(\"ENTER LENGTH=\"))\n",
    "data = [\"\" for i in range(n)]\n",
    "ans = per(s,data,n-1,0)\n",
    "p = [\"\".join(i) for i in ans]\n",
    "\n",
    "print(p)\n",
    "print(len(p))\n",
    "print(5**n)"
   ]
  },
  {
   "cell_type": "markdown",
   "metadata": {},
   "source": [
    "# TIME"
   ]
  },
  {
   "cell_type": "code",
   "execution_count": 2,
   "metadata": {},
   "outputs": [
    {
     "name": "stdout",
     "output_type": "stream",
     "text": [
      "123456\n",
      "2\n",
      "3\n",
      "4\n",
      "5\n",
      "6\n",
      "7\n",
      "Wall time: 2.43 s\n"
     ]
    }
   ],
   "source": [
    "%%time\n",
    "\n",
    "n = input()\n",
    "p = [int(i) for i in list(n)]\n",
    "k=[]\n",
    "\n",
    "for i in p:\n",
    "    k.append(i+1)\n",
    "\n",
    "for i in k:\n",
    "    print(i)"
   ]
  },
  {
   "cell_type": "markdown",
   "metadata": {},
   "source": [
    "# FPDF"
   ]
  },
  {
   "cell_type": "code",
   "execution_count": 47,
   "metadata": {
    "scrolled": true
   },
   "outputs": [],
   "source": [
    "# PDF\n",
    "import fpdf\n",
    "from fpdf import FPDF\n",
    "\n",
    "\n",
    "tab = \"\\t\\t\\t\\t\\t\\t\\t\\t\\t\\t\\t\\t\\t\\t\"    \n",
    "pdf = FPDF()\n",
    "pdf.add_page()\n",
    "pdf.set_margins(15.0,0,20.0)\n",
    "pdf.set_font(\"Times\", size=14)\n",
    "pdf.cell(0,50,txt=\"\",ln=1)\n",
    "pdf.cell(0,8,txt=\"DATE:  \"+dt,ln=1,align=\"R\")\n",
    "pdf.write(8,txt=\"To,\\nThe \"+to+\",\\nRGIT.\\n\")\n",
    "pdf.cell(0,8,txt=\"Subject : \"+sub,ln=1,align=\"C\")\n",
    "pdf.cell(0,8,txt=\"\",ln=1)\n",
    "pdf.cell(0,8,txt=\"Respected Sir,\",ln=1,align=\"L\")\n",
    "\n",
    "# PATH\n",
    "k = pdf.output(\"C:\\\\Users\\\\NitishTalekar\\\\Desktop\\\\pdf\\\\abc.pdf\")"
   ]
  },
  {
   "cell_type": "markdown",
   "metadata": {},
   "source": [
    "# TKINTER"
   ]
  },
  {
   "cell_type": "code",
   "execution_count": 3,
   "metadata": {},
   "outputs": [],
   "source": [
    "import tkinter \n",
    "tk=tkinter.Tk()\n",
    "tk.title(\"TKINTER\")\n",
    "tk.geometry('400x400+80+80')\n",
    "# tk.configure(background='black')\n",
    "from tkinter import *\n",
    "from tkinter import filedialog\n",
    "\n",
    "tk.resizable(width=False, height=False)\n",
    "\n",
    "def browsefunc():\n",
    "    filename = filedialog.askopenfilename()\n",
    "    pathlabel.config(text=filename)\n",
    "\n",
    "browsebutton = Button(tk, text=\"Browse\", command=browsefunc)\n",
    "browsebutton.pack()\n",
    "\n",
    "label = Label(tk,text=\"LABEL\")\n",
    "label.pack()\n",
    "\n",
    "val = StringVar()\n",
    "text = Entry(tk,text=val)\n",
    "text.pack()\n",
    "\n",
    "pathlabel = Label(tk)\n",
    "pathlabel.pack()\n",
    "\n",
    "tk.mainloop()\n",
    "\n",
    "# from tkinter import messagebox\n",
    "# messagebox.showinfo(\"X\",\"Y\")"
   ]
  },
  {
   "cell_type": "markdown",
   "metadata": {},
   "source": [
    "# ABSOLUTE PATH OF FILE"
   ]
  },
  {
   "cell_type": "code",
   "execution_count": 1,
   "metadata": {},
   "outputs": [
    {
     "name": "stdout",
     "output_type": "stream",
     "text": [
      "C:\\Users\\NitishTalekar\\Desktop\\Projects\\TestProjects\\Python\\FILE\n"
     ]
    }
   ],
   "source": [
    "import os\n",
    "path = os.path.abspath(\"FILE\")\n",
    "print(path)"
   ]
  },
  {
   "cell_type": "code",
   "execution_count": null,
   "metadata": {},
   "outputs": [],
   "source": []
  }
 ],
 "metadata": {
  "kernelspec": {
   "display_name": "Python 3",
   "language": "python",
   "name": "python3"
  },
  "language_info": {
   "codemirror_mode": {
    "name": "ipython",
    "version": 3
   },
   "file_extension": ".py",
   "mimetype": "text/x-python",
   "name": "python",
   "nbconvert_exporter": "python",
   "pygments_lexer": "ipython3",
   "version": "3.6.5"
  }
 },
 "nbformat": 4,
 "nbformat_minor": 2
}
