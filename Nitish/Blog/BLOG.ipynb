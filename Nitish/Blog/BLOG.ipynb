{
 "cells": [
  {
   "cell_type": "code",
   "execution_count": 1,
   "metadata": {},
   "outputs": [],
   "source": [
    "import pymysql"
   ]
  },
  {
   "cell_type": "code",
   "execution_count": 2,
   "metadata": {},
   "outputs": [],
   "source": [
    "conn = pymysql.connect(host=\"localhost\",user=\"root\",passwd=\"nitish503\",db=\"Bexp\")\n",
    "cur = conn.cursor()"
   ]
  },
  {
   "cell_type": "code",
   "execution_count": 3,
   "metadata": {},
   "outputs": [
    {
     "name": "stdout",
     "output_type": "stream",
     "text": [
      "DONE\n"
     ]
    }
   ],
   "source": [
    "import tkinter \n",
    "tk=tkinter.Tk()\n",
    "tk.title(\"SIGN IN\")\n",
    "tk.geometry('300x300+80+80')\n",
    "tk.configure(background='lightskyblue')\n",
    "\n",
    "from tkinter import *\n",
    "\n",
    "n=StringVar()\n",
    "p=StringVar()\n",
    "rp=StringVar()\n",
    "\n",
    "def funct1():\n",
    "    name = n.get()\n",
    "    passw = p.get()\n",
    "    rpass = rp.get()\n",
    "    if passw == rpass and passw!=\"\":\n",
    "        try:\n",
    "            s = \"insert into users(id,un,pass) values (NULL,%s,%s);\"\n",
    "            cur.execute(s,(name,passw))\n",
    "            conn.commit()\n",
    "            lf2=Label(tk,text=\"SUBMITTED\")\n",
    "            lf2.place(x=80,y=250)\n",
    "            print(\"DONE\")  \n",
    "        except Exception as e:\n",
    "            print(\"ERROR=\",e)\n",
    "\n",
    "        \n",
    "            \n",
    "lf=Label(tk,text=\"NAME\")\n",
    "lf.place(x=50,y=100)\n",
    "\n",
    "textbox=Entry(tk,textvariable=n)\n",
    "textbox.place(x=120,y=100)\n",
    "\n",
    "lf1=Label(tk,text=\"PASSWORD\")\n",
    "lf1.place(x=50,y=130)\n",
    "\n",
    "textbox1=Entry(tk,textvariable=p)\n",
    "textbox1.place(x=150,y=130)\n",
    "\n",
    "lf2=Label(tk,text=\"REPASSWORD\")\n",
    "lf2.place(x=50,y=160)\n",
    "\n",
    "textbox2=Entry(tk,textvariable=rp)\n",
    "textbox2.place(x=150,y=160)\n",
    "\n",
    "SubmitButton=Button(tk,text=\"SUBMIT\",fg=\"Red\",font=16)\n",
    "SubmitButton.place(x=50,y=200)\n",
    "SubmitButton.config(command=funct1)\n",
    "\n",
    "\n",
    "tk.mainloop()"
   ]
  },
  {
   "cell_type": "code",
   "execution_count": 4,
   "metadata": {},
   "outputs": [
    {
     "name": "stdout",
     "output_type": "stream",
     "text": [
      "abc123\n",
      "OKAY\n",
      "DONE\n"
     ]
    }
   ],
   "source": [
    "import tkinter \n",
    "tk=tkinter.Tk()\n",
    "tk.title(\"SIGN IN\")\n",
    "tk.geometry('300x300+80+80')\n",
    "tk.configure(background='lightskyblue')\n",
    "\n",
    "from tkinter import *\n",
    "\n",
    "n=StringVar()\n",
    "p=StringVar()\n",
    "\n",
    "def funct1():\n",
    "    name = n.get()\n",
    "    passw = p.get()\n",
    "    \n",
    "    try:\n",
    "        d = \"select pass from users where un = %s\"\n",
    "        cur.execute(d,(name))\n",
    "        data = cur.fetchone()\n",
    "        print(data[0])\n",
    "        if data[0] == passw:\n",
    "            lf2=Label(tk,text=\"WELCOME\")\n",
    "            lf2.place(x=50,y=250)\n",
    "            print(\"OKAY\")\n",
    "            print(\"DONE\")\n",
    "    except Exception as e:\n",
    "        print(\"ERROR=\",e)\n",
    "    \n",
    "lf=Label(tk,text=\"NAME\")\n",
    "lf.place(x=50,y=100)\n",
    "\n",
    "textbox=Entry(tk,textvariable=n)\n",
    "textbox.place(x=120,y=100)\n",
    "\n",
    "lf1=Label(tk,text=\"PASSWORD\")\n",
    "lf1.place(x=50,y=130)\n",
    "\n",
    "textbox1=Entry(tk,textvariable=p)\n",
    "textbox1.place(x=150,y=130)\n",
    "\n",
    "\n",
    "SubmitButton=Button(tk,text=\"LOGIN\",fg=\"Red\",font=16)\n",
    "SubmitButton.place(x=50,y=200)\n",
    "SubmitButton.config(command=funct1)\n",
    "\n",
    "\n",
    "tk.mainloop()"
   ]
  },
  {
   "cell_type": "code",
   "execution_count": 28,
   "metadata": {},
   "outputs": [
    {
     "ename": "TclError",
     "evalue": "image \"pyimage14\" doesn't exist",
     "output_type": "error",
     "traceback": [
      "\u001b[1;31m---------------------------------------------------------------------------\u001b[0m",
      "\u001b[1;31mTclError\u001b[0m                                  Traceback (most recent call last)",
      "\u001b[1;32m<ipython-input-28-26b78ec90b03>\u001b[0m in \u001b[0;36m<module>\u001b[1;34m()\u001b[0m\n\u001b[0;32m     14\u001b[0m \u001b[0mimg1\u001b[0m \u001b[1;33m=\u001b[0m \u001b[0mImageTk\u001b[0m\u001b[1;33m.\u001b[0m\u001b[0mPhotoImage\u001b[0m\u001b[1;33m(\u001b[0m\u001b[0mII\u001b[0m\u001b[1;33m.\u001b[0m\u001b[0mopen\u001b[0m\u001b[1;33m(\u001b[0m\u001b[1;34mr\"C:\\Users\\NitishTalekar\\Desktop\\DBMS BLOG\\BG.gif\"\u001b[0m\u001b[1;33m)\u001b[0m\u001b[1;33m)\u001b[0m\u001b[1;33m\u001b[0m\u001b[0m\n\u001b[0;32m     15\u001b[0m \u001b[1;33m\u001b[0m\u001b[0m\n\u001b[1;32m---> 16\u001b[1;33m \u001b[0mlf\u001b[0m\u001b[1;33m=\u001b[0m\u001b[0mLabel\u001b[0m\u001b[1;33m(\u001b[0m\u001b[0mtk\u001b[0m\u001b[1;33m,\u001b[0m\u001b[0mtext\u001b[0m\u001b[1;33m=\u001b[0m\u001b[1;34m\"NAME\"\u001b[0m\u001b[1;33m,\u001b[0m\u001b[0mimage\u001b[0m\u001b[1;33m=\u001b[0m\u001b[0mimg\u001b[0m\u001b[1;33m)\u001b[0m\u001b[1;33m\u001b[0m\u001b[0m\n\u001b[0m\u001b[0;32m     17\u001b[0m \u001b[0mlf\u001b[0m\u001b[1;33m.\u001b[0m\u001b[0mplace\u001b[0m\u001b[1;33m(\u001b[0m\u001b[0mx\u001b[0m\u001b[1;33m=\u001b[0m\u001b[1;36m50\u001b[0m\u001b[1;33m,\u001b[0m\u001b[0my\u001b[0m\u001b[1;33m=\u001b[0m\u001b[1;36m100\u001b[0m\u001b[1;33m)\u001b[0m\u001b[1;33m\u001b[0m\u001b[0m\n\u001b[0;32m     18\u001b[0m \u001b[1;33m\u001b[0m\u001b[0m\n",
      "\u001b[1;32m~\\Applictions\\Anaconda3\\lib\\tkinter\\__init__.py\u001b[0m in \u001b[0;36m__init__\u001b[1;34m(self, master, cnf, **kw)\u001b[0m\n\u001b[0;32m   2761\u001b[0m \u001b[1;33m\u001b[0m\u001b[0m\n\u001b[0;32m   2762\u001b[0m         \"\"\"\n\u001b[1;32m-> 2763\u001b[1;33m         \u001b[0mWidget\u001b[0m\u001b[1;33m.\u001b[0m\u001b[0m__init__\u001b[0m\u001b[1;33m(\u001b[0m\u001b[0mself\u001b[0m\u001b[1;33m,\u001b[0m \u001b[0mmaster\u001b[0m\u001b[1;33m,\u001b[0m \u001b[1;34m'label'\u001b[0m\u001b[1;33m,\u001b[0m \u001b[0mcnf\u001b[0m\u001b[1;33m,\u001b[0m \u001b[0mkw\u001b[0m\u001b[1;33m)\u001b[0m\u001b[1;33m\u001b[0m\u001b[0m\n\u001b[0m\u001b[0;32m   2764\u001b[0m \u001b[1;33m\u001b[0m\u001b[0m\n\u001b[0;32m   2765\u001b[0m \u001b[1;32mclass\u001b[0m \u001b[0mListbox\u001b[0m\u001b[1;33m(\u001b[0m\u001b[0mWidget\u001b[0m\u001b[1;33m,\u001b[0m \u001b[0mXView\u001b[0m\u001b[1;33m,\u001b[0m \u001b[0mYView\u001b[0m\u001b[1;33m)\u001b[0m\u001b[1;33m:\u001b[0m\u001b[1;33m\u001b[0m\u001b[0m\n",
      "\u001b[1;32m~\\Applictions\\Anaconda3\\lib\\tkinter\\__init__.py\u001b[0m in \u001b[0;36m__init__\u001b[1;34m(self, master, widgetName, cnf, kw, extra)\u001b[0m\n\u001b[0;32m   2294\u001b[0m             \u001b[1;32mdel\u001b[0m \u001b[0mcnf\u001b[0m\u001b[1;33m[\u001b[0m\u001b[0mk\u001b[0m\u001b[1;33m]\u001b[0m\u001b[1;33m\u001b[0m\u001b[0m\n\u001b[0;32m   2295\u001b[0m         self.tk.call(\n\u001b[1;32m-> 2296\u001b[1;33m             (widgetName, self._w) + extra + self._options(cnf))\n\u001b[0m\u001b[0;32m   2297\u001b[0m         \u001b[1;32mfor\u001b[0m \u001b[0mk\u001b[0m\u001b[1;33m,\u001b[0m \u001b[0mv\u001b[0m \u001b[1;32min\u001b[0m \u001b[0mclasses\u001b[0m\u001b[1;33m:\u001b[0m\u001b[1;33m\u001b[0m\u001b[0m\n\u001b[0;32m   2298\u001b[0m             \u001b[0mk\u001b[0m\u001b[1;33m.\u001b[0m\u001b[0mconfigure\u001b[0m\u001b[1;33m(\u001b[0m\u001b[0mself\u001b[0m\u001b[1;33m,\u001b[0m \u001b[0mv\u001b[0m\u001b[1;33m)\u001b[0m\u001b[1;33m\u001b[0m\u001b[0m\n",
      "\u001b[1;31mTclError\u001b[0m: image \"pyimage14\" doesn't exist"
     ]
    }
   ],
   "source": [
    "import tkinter \n",
    "from PIL import ImageTk\n",
    "from PIL import Image as II\n",
    "tk=tkinter.Tk()\n",
    "tk.title(\"SIGN IN\")\n",
    "tk.geometry('300x300+80+80')\n",
    "tk.configure(background='lightskyblue')\n",
    "\n",
    "from tkinter import *\n",
    "\n",
    " \n",
    "#img = PhotoImage(file=r\"C:\\Users\\NitishTalekar\\Desktop\\DBMS BLOG\\BG.gif\")\n",
    "\n",
    "img1 = ImageTk.PhotoImage(II.open(r\"C:\\Users\\NitishTalekar\\Desktop\\DBMS BLOG\\BG.gif\")) \n",
    "\n",
    "lf=Label(tk,text=\"NAME\",image=img)\n",
    "lf.place(x=50,y=100)\n",
    "\n",
    "\n",
    "tk.mainloop()\n"
   ]
  },
  {
   "cell_type": "code",
   "execution_count": null,
   "metadata": {},
   "outputs": [],
   "source": []
  },
  {
   "cell_type": "code",
   "execution_count": null,
   "metadata": {},
   "outputs": [],
   "source": [
    "n=StringVar()\n",
    "p=StringVar()\n",
    "rp=StringVar()\n",
    "\n",
    "def funct1():\n",
    "    name = nm.get()\n",
    "    uname = unm.get()\n",
    "    passw = pw.get()\n",
    "    rpass = rpw.get()\n",
    "    if passw == rpass and passw!=\"\":\n",
    "        try:\n",
    "            st = \"insert into users(uid,name,uname,pwd) values (NULL,%s,%s,%s);\"\n",
    "            cur.execute(st,(name,uname,passw))\n",
    "            conn.commit()\n",
    "            lf2=Label(tk,text=\"SUBMITTED\")\n",
    "            lf2.place(x=80,y=250)\n",
    "        except Exception as e:\n",
    "            lf2=Label(tk,text=\"UNAME TAKEN\")\n",
    "            lf2.place(x=80,y=250)\n",
    "\n",
    "        \n",
    "            \n",
    "lf=Label(tk,text=\"NAME\")\n",
    "lf.place(x=50,y=100)\n",
    "\n",
    "textbox=Entry(tk,textvariable=nm)\n",
    "textbox.place(x=120,y=100)\n",
    "\n",
    "lf=Label(tk,text=\"USERNAME\")\n",
    "lf.place(x=50,y=130)\n",
    "\n",
    "textbox=Entry(tk,textvariable=nm)\n",
    "textbox.place(x=120,y=130)\n",
    "\n",
    "lf1=Label(tk,text=\"PASSWORD\")\n",
    "lf1.place(x=50,y=160)\n",
    "\n",
    "textbox1=Entry(tk,textvariable=p)\n",
    "textbox1.place(x=150,y=160)\n",
    "\n",
    "lf2=Label(tk,text=\"REPASSWORD\")\n",
    "lf2.place(x=50,y=190)\n",
    "\n",
    "textbox2=Entry(tk,textvariable=rp)\n",
    "textbox2.place(x=150,y=190)"
   ]
  }
 ],
 "metadata": {
  "kernelspec": {
   "display_name": "Python 3",
   "language": "python",
   "name": "python3"
  },
  "language_info": {
   "codemirror_mode": {
    "name": "ipython",
    "version": 3
   },
   "file_extension": ".py",
   "mimetype": "text/x-python",
   "name": "python",
   "nbconvert_exporter": "python",
   "pygments_lexer": "ipython3",
   "version": "3.6.5"
  }
 },
 "nbformat": 4,
 "nbformat_minor": 2
}
