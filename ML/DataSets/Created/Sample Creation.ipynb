{
 "cells": [
  {
   "cell_type": "code",
   "execution_count": 2,
   "metadata": {},
   "outputs": [],
   "source": [
    "import csv\n",
    "import random"
   ]
  },
  {
   "cell_type": "markdown",
   "metadata": {},
   "source": [
    "# IMPORTING"
   ]
  },
  {
   "cell_type": "code",
   "execution_count": 7,
   "metadata": {},
   "outputs": [
    {
     "name": "stdout",
     "output_type": "stream",
     "text": [
      "((68, 'M', 'yes'), (16, 'M', 'yes'), (80, 'F', 'yes'), (16, 'M', 'no'), (7, 'M', 'yes'), (66, 'M', 'yes'), (27, 'M', 'yes'), (10, 'M', 'no'), (7, 'F', 'yes'), (59, 'M', 'yes'), (30, 'M', 'yes'), (74, 'M', 'yes'), (9, 'F', 'yes'), (49, 'F', 'yes'), (79, 'F', 'no'), (71, 'M', 'no'), (12, 'F', 'yes'), (57, 'F', 'yes'), (29, 'M', 'no'), (9, 'F', 'no'), (9, 'F', 'no'), (22, 'M', 'no'), (17, 'F', 'no'), (14, 'F', 'no'), (70, 'M', 'yes'))\n"
     ]
    }
   ],
   "source": [
    "age = [random.randint(5,80) for i in range(25)]\n",
    "# print(age)\n",
    "\n",
    "gen = [random.choice([\"M\",\"F\"]) for i in range(25)]\n",
    "# print(gen)\n",
    "\n",
    "sur = [random.choice([\"yes\",\"no\"]) for i in range(25)]\n",
    "# print(sur)\n",
    "\n",
    "d = []\n",
    "for i in range(25):\n",
    "    k = (age[i],gen[i],sur[i])\n",
    "    d.append(k)\n",
    "data = tuple(d)\n",
    "print(data)"
   ]
  },
  {
   "cell_type": "code",
   "execution_count": 8,
   "metadata": {},
   "outputs": [
    {
     "name": "stdout",
     "output_type": "stream",
     "text": [
      "(('Rain', 'High', 'Strong', 'no'), ('Sunny', 'Normal', 'Weak', 'yes'), ('Rain', 'Normal', 'Weak', 'yes'), ('Over', 'Normal', 'Weak', 'yes'), ('Over', 'High', 'Strong', 'yes'), ('Sunny', 'High', 'Strong', 'no'), ('Rain', 'Normal', 'Weak', 'yes'), ('Over', 'High', 'Strong', 'yes'), ('Over', 'High', 'Strong', 'yes'), ('Over', 'High', 'Strong', 'yes'), ('Over', 'Normal', 'Strong', 'yes'), ('Over', 'High', 'Weak', 'yes'), ('Rain', 'High', 'Weak', 'yes'), ('Sunny', 'High', 'Strong', 'no'), ('Rain', 'Normal', 'Weak', 'yes'), ('Rain', 'High', 'Strong', 'no'), ('Sunny', 'High', 'Strong', 'no'), ('Sunny', 'Normal', 'Strong', 'yes'), ('Sunny', 'Normal', 'Weak', 'yes'), ('Rain', 'High', 'Weak', 'yes'), ('Sunny', 'Normal', 'Strong', 'yes'), ('Over', 'Normal', 'Strong', 'yes'), ('Sunny', 'High', 'Weak', 'no'), ('Rain', 'High', 'Strong', 'no'), ('Over', 'High', 'Weak', 'yes'), ('Rain', 'High', 'Strong', 'no'), ('Rain', 'High', 'Weak', 'yes'), ('Sunny', 'High', 'Strong', 'no'), ('Over', 'Normal', 'Strong', 'yes'), ('Rain', 'High', 'Strong', 'no'), ('Rain', 'High', 'Strong', 'no'), ('Rain', 'High', 'Weak', 'yes'), ('Over', 'High', 'Strong', 'yes'), ('Rain', 'High', 'Strong', 'no'), ('Sunny', 'Normal', 'Strong', 'yes'), ('Rain', 'High', 'Strong', 'no'), ('Rain', 'High', 'Strong', 'no'), ('Over', 'Normal', 'Weak', 'yes'), ('Rain', 'High', 'Strong', 'no'), ('Rain', 'Normal', 'Weak', 'yes'), ('Over', 'High', 'Weak', 'yes'), ('Sunny', 'Normal', 'Weak', 'yes'), ('Over', 'Normal', 'Strong', 'yes'), ('Sunny', 'High', 'Weak', 'no'), ('Sunny', 'High', 'Strong', 'no'), ('Sunny', 'High', 'Strong', 'no'), ('Over', 'Normal', 'Weak', 'yes'), ('Rain', 'High', 'Weak', 'yes'), ('Rain', 'Normal', 'Strong', 'no'), ('Rain', 'Normal', 'Strong', 'no'))\n"
     ]
    }
   ],
   "source": [
    "ov = [random.choice([\"Sunny\",\"Over\",\"Rain\"]) for i in range(50)]\n",
    "# print(ov)\n",
    "hum = [random.choice([\"High\",\"Normal\"]) for i in range(50)]\n",
    "# print(hum)\n",
    "win = [random.choice([\"Strong\",\"Weak\"]) for i in range(50)]\n",
    "# print(win)\n",
    "\n",
    "play = []\n",
    "for i in range(50):\n",
    "    if ov[i] == \"Over\":\n",
    "        p = \"yes\"\n",
    "    elif ov[i] == \"Sunny\":\n",
    "        if hum[i] == \"High\":\n",
    "            p = \"no\"\n",
    "        else:\n",
    "            p = \"yes\"\n",
    "    else:\n",
    "        if win[i] == \"Strong\":\n",
    "            p = \"no\"\n",
    "        else:\n",
    "            p = \"yes\"\n",
    "    play.append(p)\n",
    "d = []\n",
    "for i in range(50):\n",
    "    k = (ov[i],hum[i],win[i],play[i])\n",
    "    d.append(k)\n",
    "data = tuple(d)\n",
    "print(data)"
   ]
  },
  {
   "cell_type": "code",
   "execution_count": 9,
   "metadata": {},
   "outputs": [
    {
     "name": "stdout",
     "output_type": "stream",
     "text": [
      "((153, 48, 'F'), (160, 67, 'M'), (146, 58, 'F'), (179, 89, 'M'), (150, 51, 'F'), (136, 62, 'F'), (155, 43, 'F'), (164, 68, 'F'), (137, 47, 'F'), (155, 92, 'M'), (168, 86, 'M'), (155, 49, 'F'), (173, 87, 'M'), (157, 72, 'M'), (145, 54, 'F'), (158, 58, 'F'), (155, 70, 'F'), (164, 79, 'M'), (166, 63, 'F'), (179, 99, 'M'), (163, 80, 'M'), (155, 82, 'M'), (148, 80, 'F'), (161, 60, 'M'), (180, 81, 'M'), (163, 62, 'F'), (135, 79, 'F'), (172, 79, 'M'), (185, 76, 'M'), (188, 95, 'M'), (150, 70, 'M'), (142, 66, 'F'), (137, 60, 'F'), (177, 75, 'M'), (189, 62, 'M'), (170, 74, 'M'), (164, 45, 'F'), (137, 79, 'F'), (175, 75, 'M'), (167, 77, 'M'), (157, 52, 'F'), (167, 64, 'F'), (175, 66, 'M'), (170, 66, 'F'), (150, 82, 'M'), (160, 71, 'M'), (137, 74, 'F'), (154, 96, 'M'), (161, 64, 'M'), (145, 62, 'F'), (150, 78, 'F'), (157, 98, 'M'), (155, 85, 'M'), (150, 87, 'M'), (160, 47, 'F'), (162, 89, 'M'), (152, 55, 'F'), (155, 92, 'M'), (164, 66, 'F'), (160, 80, 'F'), (159, 56, 'F'), (152, 79, 'F'), (163, 79, 'M'), (179, 65, 'M'), (152, 88, 'M'), (170, 65, 'M'), (139, 57, 'F'), (159, 85, 'M'), (155, 68, 'F'), (170, 45, 'F'), (161, 64, 'M'), (176, 60, 'M'), (159, 62, 'F'), (180, 61, 'M'), (160, 79, 'M'), (186, 87, 'M'), (164, 51, 'F'), (144, 62, 'F'), (154, 90, 'M'), (142, 59, 'F'), (153, 68, 'F'), (152, 45, 'F'), (153, 56, 'F'), (187, 71, 'M'), (146, 68, 'F'), (156, 64, 'F'), (152, 60, 'M'), (161, 78, 'F'), (135, 65, 'F'), (160, 52, 'F'), (148, 62, 'F'), (168, 85, 'M'), (160, 64, 'M'), (153, 96, 'M'), (151, 74, 'M'), (150, 65, 'F'), (155, 55, 'F'), (145, 62, 'F'), (154, 73, 'M'), (154, 71, 'M'))\n"
     ]
    }
   ],
   "source": [
    "hgm = [random.randint(150,190) for i in range(50)]\n",
    "hgf = [random.randint(135,170) for i in range(50)]\n",
    "\n",
    "wgm = [random.randint(60,100) for i in range(50)]\n",
    "wgf = [random.randint(40,80) for i in range(50)]\n",
    "\n",
    "Ml = [(hgm[i],wgm[i],\"M\") for i in range(50)]\n",
    "Fl = [(hgf[i],wgf[i],\"F\") for i in range(50)]\n",
    "MFdat = Ml+Fl\n",
    "random.shuffle(MFdat)\n",
    "data = tuple(MFdat)\n",
    "print(data)"
   ]
  },
  {
   "cell_type": "markdown",
   "metadata": {},
   "source": [
    "# CREATE"
   ]
  },
  {
   "cell_type": "code",
   "execution_count": 16,
   "metadata": {},
   "outputs": [],
   "source": [
    "with open(\"hightweight.csv\",'w') as w:\n",
    "    wr = csv.writer(w)\n",
    "    wr.writerows(data)"
   ]
  },
  {
   "cell_type": "code",
   "execution_count": null,
   "metadata": {},
   "outputs": [],
   "source": []
  }
 ],
 "metadata": {
  "kernelspec": {
   "display_name": "Python 3",
   "language": "python",
   "name": "python3"
  },
  "language_info": {
   "codemirror_mode": {
    "name": "ipython",
    "version": 3
   },
   "file_extension": ".py",
   "mimetype": "text/x-python",
   "name": "python",
   "nbconvert_exporter": "python",
   "pygments_lexer": "ipython3",
   "version": "3.6.5"
  }
 },
 "nbformat": 4,
 "nbformat_minor": 2
}
