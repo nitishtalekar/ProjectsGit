{
 "cells": [
  {
   "cell_type": "code",
   "execution_count": 2,
   "metadata": {},
   "outputs": [],
   "source": [
    "import csv\n",
    "import random"
   ]
  },
  {
   "cell_type": "markdown",
   "metadata": {},
   "source": [
    "# IMPORTING"
   ]
  },
  {
   "cell_type": "code",
   "execution_count": 11,
   "metadata": {},
   "outputs": [
    {
     "name": "stdout",
     "output_type": "stream",
     "text": [
      "[39, 24, 77, 36, 14, 60, 20, 17, 35, 61, 68, 47, 63, 26, 51, 75, 21, 79, 6, 66, 73, 61, 48, 42, 73]\n",
      "['M', 'M', 'M', 'F', 'M', 'F', 'F', 'M', 'F', 'M', 'F', 'M', 'M', 'F', 'M', 'F', 'F', 'M', 'M', 'F', 'F', 'M', 'F', 'F', 'M']\n",
      "['yes', 'no', 'yes', 'no', 'no', 'no', 'yes', 'no', 'no', 'yes', 'yes', 'no', 'yes', 'yes', 'yes', 'yes', 'yes', 'no', 'yes', 'yes', 'no', 'no', 'yes', 'yes', 'yes']\n",
      "((39, 'M', 'yes'), (24, 'M', 'no'), (77, 'M', 'yes'), (36, 'F', 'no'), (14, 'M', 'no'), (60, 'F', 'no'), (20, 'F', 'yes'), (17, 'M', 'no'), (35, 'F', 'no'), (61, 'M', 'yes'), (68, 'F', 'yes'), (47, 'M', 'no'), (63, 'M', 'yes'), (26, 'F', 'yes'), (51, 'M', 'yes'), (75, 'F', 'yes'), (21, 'F', 'yes'), (79, 'M', 'no'), (6, 'M', 'yes'), (66, 'F', 'yes'), (73, 'F', 'no'), (61, 'M', 'no'), (48, 'F', 'yes'), (42, 'F', 'yes'), (73, 'M', 'yes'))\n"
     ]
    }
   ],
   "source": [
    "age = [random.randint(5,80) for i in range(25)]\n",
    "print(age)\n",
    "\n",
    "gen = [random.choice([\"M\",\"F\"]) for i in range(25)]\n",
    "print(gen)\n",
    "\n",
    "sur = [random.choice([\"yes\",\"no\"]) for i in range(25)]\n",
    "print(sur)\n",
    "\n",
    "d = []\n",
    "for i in range(25):\n",
    "    k = (age[i],gen[i],sur[i])\n",
    "    d.append(k)\n",
    "\n",
    "# print(tuple(d))\n",
    "\n",
    "data = tuple(d)\n",
    "print(data)"
   ]
  },
  {
   "cell_type": "code",
   "execution_count": 12,
   "metadata": {},
   "outputs": [
    {
     "name": "stdout",
     "output_type": "stream",
     "text": [
      "(('Over', 'High', 'Weak', 'yes'), ('Over', 'Normal', 'Weak', 'yes'), ('Rain', 'High', 'Weak', 'yes'), ('Over', 'High', 'Strong', 'yes'), ('Over', 'Normal', 'Strong', 'yes'), ('Rain', 'Normal', 'Strong', 'no'), ('Over', 'Normal', 'Weak', 'yes'), ('Rain', 'High', 'Weak', 'yes'), ('Over', 'High', 'Strong', 'yes'), ('Over', 'Normal', 'Weak', 'yes'), ('Over', 'Normal', 'Strong', 'yes'), ('Over', 'High', 'Strong', 'yes'), ('Over', 'High', 'Strong', 'yes'), ('Rain', 'Normal', 'Weak', 'yes'), ('Over', 'High', 'Strong', 'yes'), ('Sunny', 'Normal', 'Strong', 'yes'), ('Rain', 'Normal', 'Strong', 'no'), ('Sunny', 'Normal', 'Weak', 'yes'), ('Rain', 'Normal', 'Weak', 'yes'), ('Rain', 'High', 'Strong', 'no'), ('Over', 'Normal', 'Weak', 'yes'), ('Sunny', 'Normal', 'Weak', 'yes'), ('Rain', 'High', 'Strong', 'no'), ('Over', 'Normal', 'Strong', 'yes'), ('Over', 'High', 'Strong', 'yes'), ('Sunny', 'Normal', 'Weak', 'yes'), ('Sunny', 'Normal', 'Strong', 'yes'), ('Rain', 'Normal', 'Weak', 'yes'), ('Rain', 'Normal', 'Weak', 'yes'), ('Rain', 'Normal', 'Strong', 'no'), ('Over', 'High', 'Weak', 'yes'), ('Over', 'High', 'Strong', 'yes'), ('Sunny', 'High', 'Weak', 'no'), ('Rain', 'High', 'Weak', 'yes'), ('Over', 'Normal', 'Strong', 'yes'), ('Sunny', 'High', 'Strong', 'no'), ('Rain', 'High', 'Strong', 'no'), ('Over', 'High', 'Strong', 'yes'), ('Sunny', 'Normal', 'Strong', 'yes'), ('Rain', 'High', 'Strong', 'no'), ('Over', 'Normal', 'Strong', 'yes'), ('Over', 'Normal', 'Weak', 'yes'), ('Sunny', 'Normal', 'Weak', 'yes'), ('Rain', 'Normal', 'Weak', 'yes'), ('Sunny', 'High', 'Strong', 'no'), ('Sunny', 'High', 'Weak', 'no'), ('Rain', 'High', 'Weak', 'yes'), ('Over', 'High', 'Strong', 'yes'), ('Rain', 'High', 'Strong', 'no'), ('Sunny', 'High', 'Strong', 'no'))\n"
     ]
    }
   ],
   "source": [
    "ov = [random.choice([\"Sunny\",\"Over\",\"Rain\"]) for i in range(50)]\n",
    "hum = [random.choice([\"High\",\"Normal\"]) for i in range(50)]\n",
    "win = [random.choice([\"Strong\",\"Weak\"]) for i in range(50)]\n",
    "\n",
    "play = []\n",
    "for i in range(50):\n",
    "    if ov[i] == \"Over\":\n",
    "        p = \"yes\"\n",
    "    elif ov[i] == \"Sunny\":\n",
    "        if hum[i] == \"High\":\n",
    "            p = \"no\"\n",
    "        else:\n",
    "            p = \"yes\"\n",
    "    else:\n",
    "        if win[i] == \"Strong\":\n",
    "            p = \"no\"\n",
    "        else:\n",
    "            p = \"yes\"\n",
    "    play.append(p)\n",
    "    \n",
    "d = []\n",
    "for i in range(50):\n",
    "    k = (ov[i],hum[i],win[i],play[i])\n",
    "    d.append(k)\n",
    "\n",
    "# print(tuple(d))\n",
    "\n",
    "data = tuple(d)\n",
    "print(data)"
   ]
  },
  {
   "cell_type": "code",
   "execution_count": 13,
   "metadata": {},
   "outputs": [
    {
     "name": "stdout",
     "output_type": "stream",
     "text": [
      "((160, 71, 'F'), (158, 65, 'M'), (170, 85, 'M'), (180, 89, 'M'), (158, 50, 'F'), (153, 77, 'M'), (159, 87, 'M'), (149, 59, 'F'), (147, 74, 'F'), (153, 70, 'F'), (171, 94, 'M'), (169, 100, 'M'), (145, 63, 'F'), (148, 55, 'F'), (188, 69, 'M'), (157, 45, 'F'), (150, 59, 'F'), (146, 52, 'F'), (165, 78, 'F'), (181, 73, 'M'), (155, 92, 'M'), (150, 71, 'F'), (157, 94, 'M'), (167, 60, 'M'), (167, 41, 'F'), (186, 81, 'M'), (140, 76, 'F'), (167, 72, 'M'), (165, 64, 'M'), (142, 51, 'F'), (142, 70, 'F'), (171, 97, 'M'), (176, 75, 'M'), (137, 60, 'F'), (154, 47, 'F'), (159, 64, 'M'), (156, 61, 'M'), (140, 80, 'F'), (151, 48, 'F'), (153, 46, 'F'), (168, 80, 'M'), (150, 85, 'M'), (152, 41, 'F'), (169, 67, 'M'), (151, 87, 'M'), (161, 40, 'F'), (156, 98, 'M'), (140, 50, 'F'), (167, 80, 'M'), (166, 93, 'M'), (160, 78, 'M'), (143, 43, 'F'), (166, 66, 'F'), (179, 99, 'M'), (139, 49, 'F'), (156, 72, 'M'), (174, 64, 'M'), (160, 81, 'M'), (150, 76, 'M'), (141, 47, 'F'), (153, 68, 'M'), (167, 77, 'M'), (183, 82, 'M'), (170, 61, 'F'), (158, 66, 'F'), (167, 75, 'F'), (190, 78, 'M'), (143, 49, 'F'), (182, 65, 'M'), (175, 79, 'M'), (178, 78, 'M'), (185, 71, 'M'), (181, 97, 'M'), (163, 65, 'F'), (158, 73, 'F'), (135, 57, 'F'), (166, 75, 'F'), (155, 89, 'M'), (151, 93, 'M'), (162, 68, 'F'), (160, 91, 'M'), (146, 44, 'F'), (163, 65, 'F'), (161, 79, 'F'), (172, 84, 'M'), (162, 71, 'F'), (164, 47, 'F'), (164, 40, 'F'), (152, 55, 'F'), (173, 95, 'M'), (153, 87, 'M'), (143, 57, 'F'), (188, 80, 'M'), (146, 51, 'F'), (156, 96, 'M'), (155, 54, 'F'), (165, 73, 'F'), (143, 51, 'F'), (154, 69, 'F'), (189, 92, 'M'))\n"
     ]
    }
   ],
   "source": [
    "hgm = [random.randint(150,190) for i in range(50)]\n",
    "hgf = [random.randint(135,170) for i in range(50)]\n",
    "\n",
    "wgm = [random.randint(60,100) for i in range(50)]\n",
    "wgf = [random.randint(40,80) for i in range(50)]\n",
    "\n",
    "Ml = [(hgm[i],wgm[i],\"M\") for i in range(50)]\n",
    "Fl = [(hgf[i],wgf[i],\"F\") for i in range(50)]\n",
    "MFdat = Ml+Fl\n",
    "random.shuffle(MFdat)\n",
    "data = tuple(MFdat)\n",
    "print(data)"
   ]
  },
  {
   "cell_type": "code",
   "execution_count": 4,
   "metadata": {},
   "outputs": [
    {
     "data": {
      "text/plain": [
       "((50, 104),\n",
       " (51, 105),\n",
       " (52, 105),\n",
       " (52, 107),\n",
       " (54, 109),\n",
       " (54, 111),\n",
       " (55, 111),\n",
       " (55, 113),\n",
       " (56, 114),\n",
       " (57, 115),\n",
       " (57, 116),\n",
       " (58, 121),\n",
       " (58, 122),\n",
       " (58, 124),\n",
       " (59, 127),\n",
       " (59, 129),\n",
       " (61, 129),\n",
       " (61, 131),\n",
       " (61, 134),\n",
       " (62, 140),\n",
       " (66, 141),\n",
       " (67, 143),\n",
       " (68, 143),\n",
       " (69, 144),\n",
       " (69, 145),\n",
       " (71, 148),\n",
       " (72, 149),\n",
       " (72, 151),\n",
       " (75, 151),\n",
       " (76, 154),\n",
       " (77, 154),\n",
       " (80, 156),\n",
       " (81, 157),\n",
       " (83, 161),\n",
       " (84, 163),\n",
       " (85, 164),\n",
       " (86, 164),\n",
       " (86, 168),\n",
       " (87, 169),\n",
       " (87, 173),\n",
       " (88, 174),\n",
       " (89, 176),\n",
       " (90, 176),\n",
       " (91, 179),\n",
       " (91, 181),\n",
       " (92, 182),\n",
       " (94, 182),\n",
       " (94, 183),\n",
       " (95, 189),\n",
       " (95, 191))"
      ]
     },
     "execution_count": 4,
     "metadata": {},
     "output_type": "execute_result"
    }
   ],
   "source": [
    "speed = [random.randint(50,100) for i in range(50)]\n",
    "speed.sort()\n",
    "dist = [random.randint(100,200) for i in range(50)]\n",
    "dist.sort()\n",
    "\n",
    "sd = [(speed[i],dist[i]) for i in range(50)]\n",
    "sdata = tuple(sd)\n",
    "\n",
    "sdata"
   ]
  },
  {
   "cell_type": "markdown",
   "metadata": {},
   "source": [
    "# CREATE"
   ]
  },
  {
   "cell_type": "code",
   "execution_count": 16,
   "metadata": {},
   "outputs": [],
   "source": [
    "with open(\"spdist.csv\",'w') as w:\n",
    "    wr = csv.writer(w)\n",
    "    wr.writerows(data)"
   ]
  },
  {
   "cell_type": "code",
   "execution_count": null,
   "metadata": {},
   "outputs": [],
   "source": []
  }
 ],
 "metadata": {
  "kernelspec": {
   "display_name": "Python 3",
   "language": "python",
   "name": "python3"
  },
  "language_info": {
   "codemirror_mode": {
    "name": "ipython",
    "version": 3
   },
   "file_extension": ".py",
   "mimetype": "text/x-python",
   "name": "python",
   "nbconvert_exporter": "python",
   "pygments_lexer": "ipython3",
   "version": "3.6.5"
  }
 },
 "nbformat": 4,
 "nbformat_minor": 2
}
