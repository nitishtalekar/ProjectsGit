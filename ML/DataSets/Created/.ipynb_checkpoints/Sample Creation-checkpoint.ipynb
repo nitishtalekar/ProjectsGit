{
 "cells": [
  {
   "cell_type": "code",
   "execution_count": 2,
   "metadata": {},
   "outputs": [],
   "source": [
    "import csv\n",
    "import random"
   ]
  },
  {
   "cell_type": "markdown",
   "metadata": {},
   "source": [
    "# IMPORTING"
   ]
  },
  {
   "cell_type": "code",
   "execution_count": 3,
   "metadata": {},
   "outputs": [
    {
     "name": "stdout",
     "output_type": "stream",
     "text": [
      "[21, 45, 57, 55, 29, 32, 30, 72, 51, 48, 47, 49, 33, 57, 12, 80, 26, 44, 41, 69, 24, 58, 8, 58, 73]\n",
      "['M', 'F', 'F', 'F', 'F', 'M', 'M', 'F', 'M', 'M', 'M', 'F', 'M', 'F', 'F', 'M', 'M', 'M', 'F', 'F', 'F', 'F', 'F', 'F', 'M']\n",
      "['yes', 'yes', 'no', 'yes', 'yes', 'yes', 'no', 'yes', 'no', 'no', 'yes', 'no', 'yes', 'no', 'no', 'no', 'no', 'yes', 'yes', 'no', 'yes', 'yes', 'no', 'yes', 'yes']\n",
      "((21, 'M', 'yes'), (45, 'F', 'yes'), (57, 'F', 'no'), (55, 'F', 'yes'), (29, 'F', 'yes'), (32, 'M', 'yes'), (30, 'M', 'no'), (72, 'F', 'yes'), (51, 'M', 'no'), (48, 'M', 'no'), (47, 'M', 'yes'), (49, 'F', 'no'), (33, 'M', 'yes'), (57, 'F', 'no'), (12, 'F', 'no'), (80, 'M', 'no'), (26, 'M', 'no'), (44, 'M', 'yes'), (41, 'F', 'yes'), (69, 'F', 'no'), (24, 'F', 'yes'), (58, 'F', 'yes'), (8, 'F', 'no'), (58, 'F', 'yes'), (73, 'M', 'yes'))\n"
     ]
    }
   ],
   "source": [
    "age = [random.randint(5,80) for i in range(25)]\n",
    "print(age)\n",
    "\n",
    "gen = [random.choice([\"M\",\"F\"]) for i in range(25)]\n",
    "print(gen)\n",
    "\n",
    "sur = [random.choice([\"yes\",\"no\"]) for i in range(25)]\n",
    "print(sur)\n",
    "\n",
    "d = []\n",
    "for i in range(25):\n",
    "    k = (age[i],gen[i],sur[i])\n",
    "    d.append(k)\n",
    "\n",
    "# print(tuple(d))\n",
    "\n",
    "data = tuple(d)\n",
    "print(data)"
   ]
  },
  {
   "cell_type": "code",
   "execution_count": 4,
   "metadata": {},
   "outputs": [
    {
     "name": "stdout",
     "output_type": "stream",
     "text": [
      "['Rain', 'Rain', 'Sunny', 'Sunny', 'Sunny', 'Sunny', 'Sunny', 'Sunny', 'Rain', 'Rain', 'Over', 'Over', 'Sunny', 'Sunny', 'Over', 'Over', 'Rain', 'Over', 'Rain', 'Rain', 'Rain', 'Sunny', 'Sunny', 'Over', 'Over', 'Sunny', 'Over', 'Sunny', 'Sunny', 'Over', 'Rain', 'Over', 'Sunny', 'Sunny', 'Rain', 'Sunny', 'Over', 'Rain', 'Sunny', 'Sunny', 'Sunny', 'Rain', 'Over', 'Over', 'Rain', 'Over', 'Rain', 'Sunny', 'Rain', 'Over']\n",
      "['High', 'Normal', 'High', 'High', 'Normal', 'Normal', 'High', 'High', 'Normal', 'High', 'High', 'High', 'High', 'High', 'Normal', 'Normal', 'Normal', 'High', 'High', 'Normal', 'High', 'Normal', 'High', 'High', 'High', 'Normal', 'High', 'Normal', 'High', 'High', 'Normal', 'Normal', 'High', 'High', 'High', 'High', 'Normal', 'Normal', 'High', 'High', 'Normal', 'High', 'High', 'High', 'Normal', 'Normal', 'Normal', 'Normal', 'High', 'High']\n",
      "['Strong', 'Strong', 'Weak', 'Strong', 'Strong', 'Strong', 'Weak', 'Weak', 'Weak', 'Strong', 'Strong', 'Strong', 'Weak', 'Strong', 'Strong', 'Strong', 'Weak', 'Strong', 'Weak', 'Strong', 'Strong', 'Weak', 'Weak', 'Weak', 'Weak', 'Strong', 'Weak', 'Weak', 'Strong', 'Strong', 'Strong', 'Strong', 'Strong', 'Weak', 'Weak', 'Weak', 'Strong', 'Strong', 'Weak', 'Weak', 'Weak', 'Strong', 'Strong', 'Strong', 'Strong', 'Weak', 'Weak', 'Strong', 'Weak', 'Strong']\n",
      "['no', 'no', 'no', 'no', 'yes', 'yes', 'no', 'no', 'yes', 'no', 'yes', 'yes', 'no', 'no', 'yes', 'yes', 'yes', 'yes', 'yes', 'no', 'no', 'yes', 'no', 'yes', 'yes', 'yes', 'yes', 'yes', 'no', 'yes', 'no', 'yes', 'no', 'no', 'yes', 'no', 'yes', 'no', 'no', 'no', 'yes', 'no', 'yes', 'yes', 'no', 'yes', 'yes', 'yes', 'yes', 'yes']\n",
      "(('Rain', 'High', 'Strong', 'no'), ('Rain', 'Normal', 'Strong', 'no'), ('Sunny', 'High', 'Weak', 'no'), ('Sunny', 'High', 'Strong', 'no'), ('Sunny', 'Normal', 'Strong', 'yes'), ('Sunny', 'Normal', 'Strong', 'yes'), ('Sunny', 'High', 'Weak', 'no'), ('Sunny', 'High', 'Weak', 'no'), ('Rain', 'Normal', 'Weak', 'yes'), ('Rain', 'High', 'Strong', 'no'), ('Over', 'High', 'Strong', 'yes'), ('Over', 'High', 'Strong', 'yes'), ('Sunny', 'High', 'Weak', 'no'), ('Sunny', 'High', 'Strong', 'no'), ('Over', 'Normal', 'Strong', 'yes'), ('Over', 'Normal', 'Strong', 'yes'), ('Rain', 'Normal', 'Weak', 'yes'), ('Over', 'High', 'Strong', 'yes'), ('Rain', 'High', 'Weak', 'yes'), ('Rain', 'Normal', 'Strong', 'no'), ('Rain', 'High', 'Strong', 'no'), ('Sunny', 'Normal', 'Weak', 'yes'), ('Sunny', 'High', 'Weak', 'no'), ('Over', 'High', 'Weak', 'yes'), ('Over', 'High', 'Weak', 'yes'), ('Sunny', 'Normal', 'Strong', 'yes'), ('Over', 'High', 'Weak', 'yes'), ('Sunny', 'Normal', 'Weak', 'yes'), ('Sunny', 'High', 'Strong', 'no'), ('Over', 'High', 'Strong', 'yes'), ('Rain', 'Normal', 'Strong', 'no'), ('Over', 'Normal', 'Strong', 'yes'), ('Sunny', 'High', 'Strong', 'no'), ('Sunny', 'High', 'Weak', 'no'), ('Rain', 'High', 'Weak', 'yes'), ('Sunny', 'High', 'Weak', 'no'), ('Over', 'Normal', 'Strong', 'yes'), ('Rain', 'Normal', 'Strong', 'no'), ('Sunny', 'High', 'Weak', 'no'), ('Sunny', 'High', 'Weak', 'no'), ('Sunny', 'Normal', 'Weak', 'yes'), ('Rain', 'High', 'Strong', 'no'), ('Over', 'High', 'Strong', 'yes'), ('Over', 'High', 'Strong', 'yes'), ('Rain', 'Normal', 'Strong', 'no'), ('Over', 'Normal', 'Weak', 'yes'), ('Rain', 'Normal', 'Weak', 'yes'), ('Sunny', 'Normal', 'Strong', 'yes'), ('Rain', 'High', 'Weak', 'yes'), ('Over', 'High', 'Strong', 'yes'))\n"
     ]
    }
   ],
   "source": [
    "ov = [random.choice([\"Sunny\",\"Over\",\"Rain\"]) for i in range(50)]\n",
    "# print(ov)\n",
    "hum = [random.choice([\"High\",\"Normal\"]) for i in range(50)]\n",
    "# print(hum)\n",
    "win = [random.choice([\"Strong\",\"Weak\"]) for i in range(50)]\n",
    "# print(win)\n",
    "\n",
    "play = []\n",
    "for i in range(50):\n",
    "    if ov[i] == \"Over\":\n",
    "        p = \"yes\"\n",
    "    elif ov[i] == \"Sunny\":\n",
    "        if hum[i] == \"High\":\n",
    "            p = \"no\"\n",
    "        else:\n",
    "            p = \"yes\"\n",
    "    else:\n",
    "        if win[i] == \"Strong\":\n",
    "            p = \"no\"\n",
    "        else:\n",
    "            p = \"yes\"\n",
    "    play.append(p)\n",
    "d = []\n",
    "for i in range(50):\n",
    "    k = (ov[i],hum[i],win[i],play[i])\n",
    "    d.append(k)\n",
    "data = tuple(d)\n",
    "print(data)"
   ]
  },
  {
   "cell_type": "code",
   "execution_count": 6,
   "metadata": {},
   "outputs": [
    {
     "name": "stdout",
     "output_type": "stream",
     "text": [
      "((150, 44, 'F'), (141, 75, 'F'), (150, 82, 'M'), (172, 62, 'M'), (174, 60, 'M'), (156, 69, 'F'), (161, 61, 'F'), (139, 68, 'F'), (154, 63, 'F'), (141, 55, 'F'), (149, 48, 'F'), (155, 98, 'M'), (148, 44, 'F'), (152, 41, 'F'), (143, 80, 'F'), (178, 69, 'M'), (179, 67, 'M'), (148, 46, 'F'), (160, 86, 'M'), (139, 60, 'F'), (174, 78, 'M'), (149, 43, 'F'), (179, 98, 'M'), (152, 62, 'F'), (153, 41, 'F'), (155, 67, 'M'), (160, 80, 'M'), (150, 50, 'F'), (153, 88, 'M'), (169, 51, 'F'), (166, 76, 'F'), (188, 65, 'M'), (152, 69, 'M'), (158, 51, 'F'), (155, 77, 'F'), (167, 76, 'M'), (170, 99, 'M'), (139, 79, 'F'), (157, 85, 'M'), (151, 55, 'F'), (153, 71, 'F'), (150, 75, 'M'), (189, 94, 'M'), (170, 47, 'F'), (166, 57, 'F'), (136, 78, 'F'), (170, 68, 'F'), (182, 98, 'M'), (164, 70, 'F'), (189, 91, 'M'), (165, 47, 'F'), (153, 74, 'M'), (158, 60, 'F'), (151, 97, 'M'), (152, 96, 'M'), (184, 81, 'M'), (178, 63, 'M'), (157, 93, 'M'), (147, 41, 'F'), (154, 41, 'F'), (166, 77, 'M'), (156, 63, 'F'), (185, 86, 'M'), (167, 60, 'M'), (189, 63, 'M'), (155, 90, 'M'), (146, 42, 'F'), (166, 82, 'M'), (169, 61, 'M'), (164, 76, 'M'), (163, 94, 'M'), (159, 91, 'M'), (163, 58, 'F'), (158, 67, 'F'), (170, 72, 'M'), (137, 69, 'F'), (175, 61, 'M'), (188, 95, 'M'), (173, 82, 'M'), (156, 40, 'F'), (148, 64, 'F'), (138, 69, 'F'), (159, 55, 'F'), (152, 62, 'F'), (173, 99, 'M'), (159, 62, 'M'), (176, 60, 'M'), (164, 46, 'F'), (170, 70, 'F'), (170, 60, 'F'), (152, 80, 'F'), (173, 62, 'M'), (167, 79, 'M'), (163, 66, 'F'), (157, 49, 'F'), (188, 70, 'M'), (167, 75, 'M'), (157, 99, 'M'), (147, 63, 'F'), (161, 73, 'M'))\n"
     ]
    }
   ],
   "source": [
    "hgm = [random.randint(150,190) for i in range(50)]\n",
    "hgf = [random.randint(135,170) for i in range(50)]\n",
    "\n",
    "wgm = [random.randint(60,100) for i in range(50)]\n",
    "wgf = [random.randint(40,80) for i in range(50)]\n",
    "\n",
    "Ml = [(hgm[i],wgm[i],\"M\") for i in range(50)]\n",
    "Fl = [(hgf[i],wgf[i],\"F\") for i in range(50)]\n",
    "MFdat = Ml+Fl\n",
    "random.shuffle(MFdat)\n",
    "data = tuple(MFdat)\n",
    "print(data)"
   ]
  },
  {
   "cell_type": "markdown",
   "metadata": {},
   "source": [
    "# CREATE"
   ]
  },
  {
   "cell_type": "code",
   "execution_count": 16,
   "metadata": {},
   "outputs": [],
   "source": [
    "with open(\"hightweight.csv\",'w') as w:\n",
    "    wr = csv.writer(w)\n",
    "    wr.writerows(data)"
   ]
  },
  {
   "cell_type": "code",
   "execution_count": null,
   "metadata": {},
   "outputs": [],
   "source": []
  }
 ],
 "metadata": {
  "kernelspec": {
   "display_name": "Python 3",
   "language": "python",
   "name": "python3"
  },
  "language_info": {
   "codemirror_mode": {
    "name": "ipython",
    "version": 3
   },
   "file_extension": ".py",
   "mimetype": "text/x-python",
   "name": "python",
   "nbconvert_exporter": "python",
   "pygments_lexer": "ipython3",
   "version": "3.6.5"
  }
 },
 "nbformat": 4,
 "nbformat_minor": 2
}
