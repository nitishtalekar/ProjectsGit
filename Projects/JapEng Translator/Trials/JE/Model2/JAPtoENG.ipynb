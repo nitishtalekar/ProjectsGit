{
 "cells": [
  {
   "cell_type": "code",
   "execution_count": 44,
   "metadata": {},
   "outputs": [],
   "source": [
    "import string\n",
    "import re\n",
    "from numpy import array, argmax, random, take\n",
    "import pandas as pd\n",
    "import numpy as np\n",
    "from keras.models import Sequential\n",
    "from keras.layers import Dense, LSTM, Embedding, RepeatVector\n",
    "from keras.preprocessing.text import Tokenizer\n",
    "from keras.callbacks import ModelCheckpoint\n",
    "from keras.preprocessing.sequence import pad_sequences\n",
    "from keras.models import load_model\n",
    "from keras import optimizers\n",
    "import matplotlib.pyplot as plt\n",
    "from pickle import dump\n",
    "from unicodedata import normalize\n",
    "import tinysegmenter\n",
    "%matplotlib inline\n",
    "pd.set_option('display.max_colwidth', 200)"
   ]
  },
  {
   "cell_type": "code",
   "execution_count": 45,
   "metadata": {},
   "outputs": [
    {
     "data": {
      "text/plain": [
       "array([['Go.', '行け。'],\n",
       "       ['Go.', '行きなさい。'],\n",
       "       ['Hi.', 'こんにちは。'],\n",
       "       ...,\n",
       "       ['Tom kept his promise.', 'トムは約束を守った。'],\n",
       "       ['Tom kicked Mary hard.', 'トムはメアリーを強く蹴った。'],\n",
       "       ['Tom knocked him down.', 'トムは彼を殴り倒した。']], dtype='<U192')"
      ]
     },
     "execution_count": 45,
     "metadata": {},
     "output_type": "execute_result"
    }
   ],
   "source": [
    "def read_text(filename):\n",
    "    # open the file\n",
    "    file = open(filename, mode='rt', encoding='utf-8')\n",
    "\n",
    "    # read all text\n",
    "    text = file.read()\n",
    "    file.close()\n",
    "    return text\n",
    "\n",
    "def to_lines(text):\n",
    "    sents = text.strip().split('\\n')\n",
    "    sents = [i.split('\\t') for i in sents]\n",
    "    return sents\n",
    "\n",
    "data = read_text(\"jpn.txt\")\n",
    "jpn_eng = to_lines(data)\n",
    "jpn_eng = array(jpn_eng)\n",
    "jpn_eng = jpn_eng[:10000,:]\n",
    "\n",
    "jpn_eng"
   ]
  },
  {
   "cell_type": "code",
   "execution_count": 46,
   "metadata": {},
   "outputs": [
    {
     "data": {
      "text/plain": [
       "array([['go', '行け。'],\n",
       "       ['go', '行きなさい。'],\n",
       "       ['hi', 'こんにちは。'],\n",
       "       ...,\n",
       "       ['tom kept his promise', 'トムは約束を守った。'],\n",
       "       ['tom kicked mary hard', 'トムはメアリーを強く蹴った。'],\n",
       "       ['tom knocked him down', 'トムは彼を殴り倒した。']], dtype='<U192')"
      ]
     },
     "execution_count": 46,
     "metadata": {},
     "output_type": "execute_result"
    }
   ],
   "source": [
    "jpn_eng[:,0] = [s.translate(str.maketrans('', '', string.punctuation)) for s in jpn_eng[:,0]]\n",
    "jpn_eng[:,0] = [jpn_eng[i,0].lower() for i in range(len(jpn_eng[:,0]))] \n",
    "jpn_eng"
   ]
  },
  {
   "cell_type": "code",
   "execution_count": 47,
   "metadata": {},
   "outputs": [
    {
     "data": {
      "text/plain": [
       "array([['go', '行け'],\n",
       "       ['go', '行き なさい'],\n",
       "       ['hi', 'こん にち は'],\n",
       "       ...,\n",
       "       ['tom kept his promise', 'トム は 約束 を 守っ た'],\n",
       "       ['tom kicked mary hard', 'トム は メアリー を 強く 蹴っ た'],\n",
       "       ['tom knocked him down', 'トム は 彼 を 殴り倒し た']], dtype='<U192')"
      ]
     },
     "execution_count": 47,
     "metadata": {},
     "output_type": "execute_result"
    }
   ],
   "source": [
    "jpn_eng[:,1] = [\" \".join(tinysegmenter.tokenize(i)[:-1]) for i in jpn_eng[:,1]]\n",
    "jpn_eng"
   ]
  },
  {
   "cell_type": "code",
   "execution_count": 48,
   "metadata": {},
   "outputs": [
    {
     "data": {
      "text/plain": [
       "array([['dont look at me', 'こっち 見 ない でく ださい'],\n",
       "       ['it seems probable', 'それ が 起こり そう だ'],\n",
       "       ['they won the day', '彼ら は 勝っ た'],\n",
       "       ...,\n",
       "       ['ill give you a ride', '車 で 送っ て いっ て あげる よ'],\n",
       "       ['stop gambling', '賭け事 は やめ なさい'],\n",
       "       ['calm down', '落ち着け']], dtype='<U192')"
      ]
     },
     "execution_count": 48,
     "metadata": {},
     "output_type": "execute_result"
    }
   ],
   "source": [
    "np.random.shuffle(jpn_eng)\n",
    "jpn_eng"
   ]
  },
  {
   "cell_type": "code",
   "execution_count": 49,
   "metadata": {},
   "outputs": [
    {
     "data": {
      "image/png": "[encoded data removed]",
      "text/plain": [
       "<Figure size 432x288 with 2 Axes>"
      ]
     },
     "metadata": {},
     "output_type": "display_data"
    }
   ],
   "source": [
    "eng_l = []\n",
    "jpn_l = []\n",
    "\n",
    "# populate the lists with sentence lengths\n",
    "for i in jpn_eng[:,0]:\n",
    "      eng_l.append(len(i.split()))\n",
    "\n",
    "for i in jpn_eng[:,1]:\n",
    "      jpn_l.append(len(i.split()))\n",
    "\n",
    "length_df = pd.DataFrame({'eng':eng_l, 'jpn':jpn_l})\n",
    "# print(length_df)\n",
    "\n",
    "length_df.hist(bins = 30)\n",
    "plt.show()"
   ]
  },
  {
   "cell_type": "code",
   "execution_count": 50,
   "metadata": {},
   "outputs": [],
   "source": [
    "def tokenization(lines):\n",
    "    tokenizer = Tokenizer()\n",
    "    tokenizer.fit_on_texts(lines)\n",
    "    return tokenizer"
   ]
  },
  {
   "cell_type": "code",
   "execution_count": 51,
   "metadata": {},
   "outputs": [],
   "source": [
    "def max_length(lines):\n",
    "    return max(len(line.split()) for line in lines)"
   ]
  },
  {
   "cell_type": "code",
   "execution_count": 52,
   "metadata": {},
   "outputs": [
    {
     "name": "stdout",
     "output_type": "stream",
     "text": [
      "English Vocabulary Size: 2760\n"
     ]
    }
   ],
   "source": [
    "eng_tokenizer = tokenization(jpn_eng[:, 0])\n",
    "eng_vocab_size = len(eng_tokenizer.word_index) + 1\n",
    "\n",
    "eng_length = max_length(jpn_eng[:, 0])\n",
    "print('English Vocabulary Size: %d' % eng_vocab_size)"
   ]
  },
  {
   "cell_type": "code",
   "execution_count": 53,
   "metadata": {},
   "outputs": [
    {
     "name": "stdout",
     "output_type": "stream",
     "text": [
      "Japanese Vocabulary Size: 4723\n"
     ]
    }
   ],
   "source": [
    "jpn_tokenizer = tokenization(jpn_eng[:, 1])\n",
    "jpn_vocab_size = len(jpn_tokenizer.word_index) + 1\n",
    "\n",
    "jpn_length = max_length(jpn_eng[:, 1])\n",
    "print('Japanese Vocabulary Size: %d' % jpn_vocab_size)"
   ]
  },
  {
   "cell_type": "code",
   "execution_count": 54,
   "metadata": {},
   "outputs": [],
   "source": [
    "def encode_sequences(tokenizer, length, lines):\n",
    "    # integer encode sequences\n",
    "    seq = tokenizer.texts_to_sequences(lines)\n",
    "    # pad sequences with 0 values\n",
    "    seq = pad_sequences(seq, maxlen=length, padding='post')\n",
    "    return seq"
   ]
  },
  {
   "cell_type": "code",
   "execution_count": 55,
   "metadata": {},
   "outputs": [],
   "source": [
    "from sklearn.model_selection import train_test_split\n",
    "\n",
    "# split data into train and test set\n",
    "train, test = train_test_split(jpn_eng, test_size=0.2, random_state = 12)"
   ]
  },
  {
   "cell_type": "code",
   "execution_count": 56,
   "metadata": {},
   "outputs": [],
   "source": [
    "# prepare training data\n",
    "trainX = encode_sequences(jpn_tokenizer, jpn_length, train[:, 1])\n",
    "trainY = encode_sequences(eng_tokenizer, eng_length, train[:, 0])\n",
    "\n",
    "# prepare validation data\n",
    "testX = encode_sequences(jpn_tokenizer, jpn_length, test[:, 1])\n",
    "testY = encode_sequences(eng_tokenizer, eng_length, test[:, 0])"
   ]
  },
  {
   "cell_type": "code",
   "execution_count": 57,
   "metadata": {},
   "outputs": [],
   "source": [
    "def define_model(in_vocab,out_vocab, in_timesteps,out_timesteps,units):\n",
    "    model = Sequential()\n",
    "    model.add(Embedding(in_vocab, units, input_length=in_timesteps, mask_zero=True))\n",
    "    model.add(LSTM(units))\n",
    "    model.add(RepeatVector(out_timesteps))\n",
    "    model.add(LSTM(units, return_sequences=True))\n",
    "    model.add(Dense(out_vocab, activation='softmax'))\n",
    "    return model"
   ]
  },
  {
   "cell_type": "code",
   "execution_count": 58,
   "metadata": {},
   "outputs": [],
   "source": [
    "model = define_model(jpn_vocab_size, eng_vocab_size, jpn_length, eng_length, 512)\n",
    "rms = optimizers.RMSprop(lr=0.001)\n",
    "model.compile(optimizer='adam', loss='sparse_categorical_crossentropy')"
   ]
  },
  {
   "cell_type": "code",
   "execution_count": 59,
   "metadata": {},
   "outputs": [
    {
     "name": "stdout",
     "output_type": "stream",
     "text": [
      "Train on 6400 samples, validate on 1600 samples\n",
      "Epoch 1/10\n",
      "6400/6400 [==============================] - 86s 13ms/step - loss: 6.4905 - val_loss: 4.2466\n",
      "\n",
      "Epoch 00001: val_loss improved from inf to 4.24657, saving model to jpn_model2.h5\n",
      "Epoch 2/10\n",
      "6400/6400 [==============================] - 87s 14ms/step - loss: 3.8290 - val_loss: 3.7389\n",
      "\n",
      "Epoch 00002: val_loss improved from 4.24657 to 3.73888, saving model to jpn_model2.h5\n",
      "Epoch 3/10\n",
      "6400/6400 [==============================] - 87s 14ms/step - loss: 3.5343 - val_loss: 3.4995\n",
      "\n",
      "Epoch 00003: val_loss improved from 3.73888 to 3.49948, saving model to jpn_model2.h5\n",
      "Epoch 4/10\n",
      "6400/6400 [==============================] - 84s 13ms/step - loss: 3.3205 - val_loss: 3.3113\n",
      "\n",
      "Epoch 00004: val_loss improved from 3.49948 to 3.31128, saving model to jpn_model2.h5\n",
      "Epoch 5/10\n",
      "6400/6400 [==============================] - 88s 14ms/step - loss: 3.1560 - val_loss: 3.2131\n",
      "\n",
      "Epoch 00005: val_loss improved from 3.31128 to 3.21306, saving model to jpn_model2.h5\n",
      "Epoch 6/10\n",
      "6400/6400 [==============================] - 94s 15ms/step - loss: 3.0722 - val_loss: 3.1764\n",
      "\n",
      "Epoch 00006: val_loss improved from 3.21306 to 3.17639, saving model to jpn_model2.h5\n",
      "Epoch 7/10\n",
      "6400/6400 [==============================] - 91s 14ms/step - loss: 3.0324 - val_loss: 3.1606\n",
      "\n",
      "Epoch 00007: val_loss improved from 3.17639 to 3.16058, saving model to jpn_model2.h5\n",
      "Epoch 8/10\n",
      "6400/6400 [==============================] - 90s 14ms/step - loss: 3.0168 - val_loss: 3.1525\n",
      "\n",
      "Epoch 00008: val_loss improved from 3.16058 to 3.15249, saving model to jpn_model2.h5\n",
      "Epoch 9/10\n",
      "6400/6400 [==============================] - 91s 14ms/step - loss: 3.0069 - val_loss: 3.1287\n",
      "\n",
      "Epoch 00009: val_loss improved from 3.15249 to 3.12873, saving model to jpn_model2.h5\n",
      "Epoch 10/10\n",
      "6400/6400 [==============================] - 90s 14ms/step - loss: 2.9692 - val_loss: 3.1234\n",
      "\n",
      "Epoch 00010: val_loss improved from 3.12873 to 3.12339, saving model to jpn_model2.h5\n"
     ]
    }
   ],
   "source": [
    "filename = 'jpn_model2.h5'\n",
    "checkpoint = ModelCheckpoint(filename, monitor='val_loss', verbose=1, save_best_only=True, mode='min')\n",
    "\n",
    "# train model\n",
    "history = model.fit(trainX, trainY.reshape(trainY.shape[0], trainY.shape[1], 1),\n",
    "                    epochs=10, batch_size=512, validation_split = 0.2,callbacks=[checkpoint], \n",
    "                    verbose=1)"
   ]
  },
  {
   "cell_type": "code",
   "execution_count": 60,
   "metadata": {},
   "outputs": [
    {
     "data": {
      "image/png": "[encoded data removed]",
      "text/plain": [
       "<Figure size 432x288 with 1 Axes>"
      ]
     },
     "metadata": {},
     "output_type": "display_data"
    }
   ],
   "source": [
    "plt.plot(history.history['loss'])\n",
    "plt.plot(history.history['val_loss'])\n",
    "plt.legend(['train','validation'])\n",
    "plt.show()"
   ]
  },
  {
   "cell_type": "code",
   "execution_count": 61,
   "metadata": {},
   "outputs": [],
   "source": [
    "model = load_model('jpn_model2.h5')\n",
    "preds = model.predict_classes(testX.reshape((testX.shape[0],testX.shape[1])))"
   ]
  },
  {
   "cell_type": "code",
   "execution_count": 62,
   "metadata": {},
   "outputs": [],
   "source": [
    "def get_word(n, tokenizer):\n",
    "    for word, index in tokenizer.word_index.items():\n",
    "        if index == n:\n",
    "            return word\n",
    "    return None"
   ]
  },
  {
   "cell_type": "code",
   "execution_count": 63,
   "metadata": {},
   "outputs": [],
   "source": [
    "preds_text = []\n",
    "for i in preds:\n",
    "    temp = []\n",
    "    for j in range(len(i)):\n",
    "        t = get_word(i[j], eng_tokenizer)\n",
    "        if j > 0:\n",
    "            if (t == get_word(i[j-1], eng_tokenizer)) or (t == None):\n",
    "                temp.append('')\n",
    "            else:\n",
    "                temp.append(t)\n",
    "        else:\n",
    "            if(t == None):\n",
    "                temp.append('')\n",
    "            else:\n",
    "                temp.append(t) \n",
    "\n",
    "    preds_text.append(' '.join(temp))"
   ]
  },
  {
   "cell_type": "code",
   "execution_count": 64,
   "metadata": {},
   "outputs": [],
   "source": [
    "pred_df = pd.DataFrame({'jap':test[:,1],'actual' : test[:,0], 'predicted' : preds_text})"
   ]
  },
  {
   "cell_type": "code",
   "execution_count": 65,
   "metadata": {},
   "outputs": [
    {
     "data": {
      "text/html": [
       "<div>\n",
       "<style scoped>\n",
       "    .dataframe tbody tr th:only-of-type {\n",
       "        vertical-align: middle;\n",
       "    }\n",
       "\n",
       "    .dataframe tbody tr th {\n",
       "        vertical-align: top;\n",
       "    }\n",
       "\n",
       "    .dataframe thead th {\n",
       "        text-align: right;\n",
       "    }\n",
       "</style>\n",
       "<table border=\"1\" class=\"dataframe\">\n",
       "  <thead>\n",
       "    <tr style=\"text-align: right;\">\n",
       "      <th></th>\n",
       "      <th>jap</th>\n",
       "      <th>actual</th>\n",
       "      <th>predicted</th>\n",
       "    </tr>\n",
       "  </thead>\n",
       "  <tbody>\n",
       "    <tr>\n",
       "      <th>1905</th>\n",
       "      <td>私 の 工具 箱 を 持っ て き て</td>\n",
       "      <td>get my tool box</td>\n",
       "      <td>i is</td>\n",
       "    </tr>\n",
       "    <tr>\n",
       "      <th>354</th>\n",
       "      <td>リラックス し て いい よ</td>\n",
       "      <td>you can relax</td>\n",
       "      <td>i is</td>\n",
       "    </tr>\n",
       "    <tr>\n",
       "      <th>1419</th>\n",
       "      <td>弟 の です</td>\n",
       "      <td>its my brothers</td>\n",
       "      <td>i is</td>\n",
       "    </tr>\n",
       "    <tr>\n",
       "      <th>731</th>\n",
       "      <td>僕 は 黙ら ない ぞ</td>\n",
       "      <td>i wont be quiet</td>\n",
       "      <td>i is</td>\n",
       "    </tr>\n",
       "    <tr>\n",
       "      <th>770</th>\n",
       "      <td>少々 お 待ち下さい</td>\n",
       "      <td>please wait a minute</td>\n",
       "      <td>i is</td>\n",
       "    </tr>\n",
       "    <tr>\n",
       "      <th>1672</th>\n",
       "      <td>あなた の 友達っ て 誰</td>\n",
       "      <td>whos your friend</td>\n",
       "      <td>i is</td>\n",
       "    </tr>\n",
       "    <tr>\n",
       "      <th>407</th>\n",
       "      <td>ドア を 閉め て</td>\n",
       "      <td>shut the door</td>\n",
       "      <td>i is</td>\n",
       "    </tr>\n",
       "    <tr>\n",
       "      <th>1325</th>\n",
       "      <td>トム は おしゃべり だ</td>\n",
       "      <td>tom is talkative</td>\n",
       "      <td>i is</td>\n",
       "    </tr>\n",
       "    <tr>\n",
       "      <th>616</th>\n",
       "      <td>夏 は どう だっ た</td>\n",
       "      <td>how was your summer</td>\n",
       "      <td>i is</td>\n",
       "    </tr>\n",
       "    <tr>\n",
       "      <th>1397</th>\n",
       "      <td>もう １ 度 やっ て み なさい</td>\n",
       "      <td>try it again</td>\n",
       "      <td>i is</td>\n",
       "    </tr>\n",
       "    <tr>\n",
       "      <th>939</th>\n",
       "      <td>僕 の おごり です よ</td>\n",
       "      <td>its my treat</td>\n",
       "      <td>i is</td>\n",
       "    </tr>\n",
       "    <tr>\n",
       "      <th>1814</th>\n",
       "      <td>トム は 決心 し た</td>\n",
       "      <td>tom made a decision</td>\n",
       "      <td>i is</td>\n",
       "    </tr>\n",
       "    <tr>\n",
       "      <th>231</th>\n",
       "      <td>トム は 良い ゴルファー です</td>\n",
       "      <td>tom is a good golfer</td>\n",
       "      <td>i is</td>\n",
       "    </tr>\n",
       "    <tr>\n",
       "      <th>1228</th>\n",
       "      <td>どこ へ 行く の</td>\n",
       "      <td>where are you going</td>\n",
       "      <td>i is</td>\n",
       "    </tr>\n",
       "    <tr>\n",
       "      <th>1098</th>\n",
       "      <td>ばか な こと 言う んじゃ ない よ</td>\n",
       "      <td>dont make me laugh</td>\n",
       "      <td>i is</td>\n",
       "    </tr>\n",
       "  </tbody>\n",
       "</table>\n",
       "</div>"
      ],
      "text/plain": [
       "                      jap                actual  predicted\n",
       "1905  私 の 工具 箱 を 持っ て き て       get my tool box  i is     \n",
       "354        リラックス し て いい よ         you can relax  i is     \n",
       "1419               弟 の です       its my brothers  i is     \n",
       "731           僕 は 黙ら ない ぞ       i wont be quiet  i is     \n",
       "770            少々 お 待ち下さい  please wait a minute  i is     \n",
       "1672        あなた の 友達っ て 誰      whos your friend  i is     \n",
       "407             ドア を 閉め て         shut the door  i is     \n",
       "1325         トム は おしゃべり だ      tom is talkative  i is     \n",
       "616           夏 は どう だっ た   how was your summer  i is     \n",
       "1397    もう １ 度 やっ て み なさい          try it again  i is     \n",
       "939          僕 の おごり です よ          its my treat  i is     \n",
       "1814          トム は 決心 し た   tom made a decision  i is     \n",
       "231      トム は 良い ゴルファー です  tom is a good golfer  i is     \n",
       "1228            どこ へ 行く の   where are you going  i is     \n",
       "1098  ばか な こと 言う んじゃ ない よ    dont make me laugh  i is     "
      ]
     },
     "execution_count": 65,
     "metadata": {},
     "output_type": "execute_result"
    }
   ],
   "source": [
    "pred_df.sample(15)"
   ]
  },
  {
   "cell_type": "code",
   "execution_count": null,
   "metadata": {},
   "outputs": [],
   "source": [
    "model = load_model('jpn_model1.h5')\n",
    "preds = model.predict_classes(testX.reshape((testX.shape[0],testX.shape[1])))\n",
    "\n",
    "def get_word(n, tokenizer):\n",
    "    for word, index in tokenizer.word_index.items():\n",
    "        if index == n:\n",
    "            return word\n",
    "    return None\n",
    "\n",
    "preds_text = []\n",
    "for i in preds:\n",
    "    temp = []\n",
    "    for j in range(len(i)):\n",
    "        t = get_word(i[j], eng_tokenizer)\n",
    "        if j > 0:\n",
    "            if (t == get_word(i[j-1], eng_tokenizer)) or (t == None):\n",
    "                temp.append('')\n",
    "            else:\n",
    "                temp.append(t)\n",
    "        else:\n",
    "            if(t == None):\n",
    "                temp.append('')\n",
    "            else:\n",
    "                temp.append(t) \n",
    "\n",
    "    preds_text.append(' '.join(temp))\n",
    "    \n",
    "pred_df = pd.DataFrame({'jap':test[:,1],'actual' : test[:,0], 'predicted' : preds_text})\n",
    "pred_df.sample(15)"
   ]
  },
  {
   "cell_type": "code",
   "execution_count": 48,
   "metadata": {},
   "outputs": [
    {
     "data": {
      "text/plain": [
       "array([[1417,    7,  104, ...,   18,    0,    0],\n",
       "       [ 443,    1, 2925, ...,    3,   20,   17],\n",
       "       [  20,  418,    1, ...,   37,   17,   14],\n",
       "       ...,\n",
       "       [3551, 3552,    7, ...,    3,   20,   17],\n",
       "       [2353,    7,  273, ...,    0,    0,    0],\n",
       "       [   8,    1, 2602, ...,    0,    0,    0]])"
      ]
     },
     "execution_count": 48,
     "metadata": {},
     "output_type": "execute_result"
    }
   ],
   "source": [
    "testX"
   ]
  },
  {
   "cell_type": "code",
   "execution_count": null,
   "metadata": {},
   "outputs": [],
   "source": []
  }
 ],
 "metadata": {
  "kernelspec": {
   "display_name": "Python 3",
   "language": "python",
   "name": "python3"
  },
  "language_info": {
   "codemirror_mode": {
    "name": "ipython",
    "version": 3
   },
   "file_extension": ".py",
   "mimetype": "text/x-python",
   "name": "python",
   "nbconvert_exporter": "python",
   "pygments_lexer": "ipython3",
   "version": "3.6.5"
  }
 },
 "nbformat": 4,
 "nbformat_minor": 2
}
