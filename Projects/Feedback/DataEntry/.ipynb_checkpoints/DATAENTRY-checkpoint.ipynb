{
 "cells": [
  {
   "cell_type": "code",
   "execution_count": 1,
   "metadata": {},
   "outputs": [
    {
     "name": "stdout",
     "output_type": "stream",
     "text": [
      "[('Prof. Chhaya Hinge', 'Applied Sciences'), ('Dr. Y.S. Patil ', 'Applied Sciences'), ('Prof. N. S. Chame', 'Applied Sciences'), ('Prof.Shashikant Patil', 'Applied Sciences'), ('Prof. Shashank Gothankar', 'Applied Sciences'), ('Prof. Shalini Sharma', 'Applied Sciences'), ('Prof. Prasad Soman', 'Applied Sciences'), ('Prof. Rohini Ghule', 'Applied Sciences'), ('Prof. Chetan Rane', 'Applied Sciences'), ('Dr. Mala Chatterjee', 'Applied Sciences'), ('Prof. A.G.Ingole', 'Applied Sciences'), ('Prof. Rahul Chaurasiya', 'Applied Sciences'), ('Dr. Neeta Kapse ', 'Applied Sciences'), ('Prof. B. B. Sawant', 'Applied Sciences'), ('Dr. Pallavi Mahalle', 'Applied Sciences'), ('Prof. Nikhil V S', 'Applied Sciences'), ('Prof. Sanjana Repal', 'Applied Sciences'), ('Prof. R.N.Shanmukha', 'Applied Sciences'), ('Dr. S. K. Chaudhari', 'Applied Sciences'), ('Prof.Priyanka Deshmukh', 'Applied Sciences'), ('Prof.Suresh Mestry\\t', 'Computer Engineering'), ('Prof. Priya Parate', 'Computer Engineering'), ('Prof.Naina Kaushik', 'Computer Engineering'), ('Prof. B.M. Patil', 'Computer Engineering'), ('Prof.A.Lahane', 'Computer Engineering'), ('Prof.Priyanka Bhilare', 'Computer Engineering'), ('Prof.Dnyaneshwar Kapse', 'Computer Engineering'), ('Prof. Kaajal Sharma', 'Computer Engineering'), ('Prof.Sharmila S. Gaikwad', 'Computer Engineering'), ('Prof.Dipak Gaikar', 'Computer Engineering'), ('Prof.Dyaneshwar Dhanagar', 'Computer Engineering'), ('Prof.Savita Lade', 'Computer Engineering'), ('Prof. Bhavesh Panchal', 'Computer Engineering'), ('Prof.Sumitra Sadhukhan', 'Computer Engineering'), ('Prof.D.S.Kale', 'Computer Engineering'), ('Prof.J.Deshmukh', 'Computer Engineering'), ('Prof.S.P.Khachane', 'Computer Engineering'), ('Prof. Dilip Dalgade', 'Computer Engineering'), ('Prof.Preeti Satao', 'Computer Engineering'), ('Prof. N. B. Shahapure', 'Mechanical Engineering'), ('Prof. M. R. Valse', 'Mechanical Engineering'), ('Dr. S. U. Bokade', 'Mechanical Engineering'), ('Prof N.J. Panaskar', 'Mechanical Engineering'), ('Prof. A. V. Gotmare', 'Mechanical Engineering'), ('Prof. A. V.Gotmare', 'Mechanical Engineering'), ('Prof. A.L.Mangrulkar', 'Mechanical Engineering'), ('Prof. R Gujar', 'Mechanical Engineering'), ('Prof. D. K. Chakradev', 'Mechanical Engineering'), ('Prof. R. R. Gujar', 'Mechanical Engineering'), ('Dr. R. V. Kale', 'Mechanical Engineering'), ('Prof. D.S. Pandey', 'Mechanical Engineering'), ('Prof. Nikhil.S', 'Mechanical Engineering'), ('Prof. N.J. Panaskar', 'Mechanical Engineering'), ('Prof. D. S. Pandey', 'Mechanical Engineering'), ('Prof. P. R. Paul', 'Mechanical Engineering'), ('Prof. C. R. Rane', 'Mechanical Engineering'), ('Prof. R. M. Siddiqui', 'Mechanical Engineering'), ('Prof. N. N. Bhostekar', 'Mechanical Engineering'), ('Prof. R. Y. Kurane', 'Mechanical Engineering'), ('Prof. R.Y. Kurane', 'Mechanical Engineering'), ('Prof. P. R. Potdar', 'Mechanical Engineering'), ('Prof. S. D. Gaikwad', 'Mechanical Engineering'), ('Dr. K. M. Chaudhari', 'Mechanical Engineering'), ('Prof. V. B. Sawant', 'Mechanical Engineering'), ('Prof. A. L. Mangrulkar', 'Mechanical Engineering'), ('Prof. N. K. Deshmukh', 'Mechanical Engineering'), ('Dr. A. G. Londhekar', 'Mechanical Engineering'), ('Prof. S. R. Sharma', 'Mechanical Engineering'), ('Prof.S.K.Gabhane', 'Electronics and Telecommunication'), ('Prof.P.A.Rokde', 'Electronics and Telecommunication'), ('Prof.S.S. Repal', 'Electronics and Telecommunication'), ('Prof.S.T.Sutar', 'Electronics and Telecommunication'), ('Prof.Rahul Chaurasiya', 'Electronics and Telecommunication'), ('Prof.M.U.Mokashi', 'Electronics and Telecommunication'), ('Prof.S.D.Patil', 'Electronics and Telecommunication'), ('Prof. S.D.Patil', 'Electronics and Telecommunication'), ('Prof.M.K.Ahirrao ', 'Electronics and Telecommunication'), ('Prof.P.N.Sonar', 'Electronics and Telecommunication'), ('Prof. P.N.Dave', 'Electronics and Telecommunication'), ('Prof.J.R.Mahajan', 'Electronics and Telecommunication'), ('Prof.A.R.Sagale', 'Electronics and Telecommunication'), ('Dr.S.D.Deshmukh', 'Electronics and Telecommunication'), ('Prof.S.S.Repal', 'Electronics and Telecommunication'), ('Prof.Ganesh Tilve', 'Electronics and Telecommunication'), ('Prof.P.G.Pawar', 'Electronics and Telecommunication'), ('Prof.P.S.Patil', 'Electronics and Telecommunication'), ('Prof.S.R.Bhoyar', 'Electronics and Telecommunication'), ('Prof. P.A.Rokde', 'Electronics and Telecommunication'), ('Prof.S.V.Kulkarni', 'Electronics and Telecommunication'), ('Prof. S.K.Gabhane', 'Electronics and Telecommunication'), ('Prof.N.J.Balur', 'Electronics and Telecommunication'), ('Prof.S.Y.Gothankar', 'Electronics and Telecommunication'), ('Prof.K.G.Sawarkar', 'Electronics and Telecommunication'), ('Prof.P.N.Dave', 'Electronics and Telecommunication'), ('Prof.N.S.Chame', 'Instumentation Engineering'), ('Prof.S.D.Sadala', 'Instumentation Engineering'), ('Prof.G.K.Shende', 'Instumentation Engineering'), ('Prof. Vinita Vartak', 'Instumentation Engineering'), ('Prof.V.Kamalakar', 'Instumentation Engineering'), ('Prof.Anuja Kadam', 'Instumentation Engineering'), ('Dr. Rinku Sharma', 'Instumentation Engineering'), ('Prof. Tidve', 'Instumentation Engineering'), ('Prof.P.B. Gawande', 'Instumentation Engineering'), ('Prof.S.P.Sadala', 'Instumentation Engineering'), ('Prof.D.Joshi Jain', 'Instumentation Engineering'), ('Prof.A.B.Bedke', 'Instumentation Engineering'), ('Prof.R.G.Sharma', 'Instumentation Engineering'), ('Prof.V.V.Kamankar', 'Instumentation Engineering'), ('Prof. S.K.Sabnis', 'Information Technology'), ('Dr. S.B.Wankhade', 'Information Technology'), ('Prof. Anushree Deshmukh', 'Information Technology'), ('Prof. Swapnil Gharat', 'Information Technology'), ('Prof. A.E.Patil', 'Information Technology'), ('Prof. Ankit Malhotra', 'Information Technology'), ('Prof. Rinku Sharma', 'Information Technology'), ('Prof. Yogita Ganage', 'Information Technology'), ('Prof. Govind Wakure', 'Information Technology'), ('Prof. Ankush Hutke', 'Information Technology'), ('Prof. Nilesh Rathod', 'Information Technology'), ('Prof. Ganesh Tilave', 'Information Technology'), ('Prof. Minal Wadekar', 'Information Technology'), ('Prof. Yogita Ganag', 'Information Technology')]\n"
     ]
    }
   ],
   "source": [
    "f = open(r\"Teachers.txt\")\n",
    "x = f.readlines()\n",
    "# print(x)\n",
    "x.append(\"XX\")\n",
    "i = 1\n",
    "fe = []\n",
    "while x[i]!='COMPS\\n':\n",
    "    fe.append(x[i])\n",
    "    i = i+1\n",
    "i = i+1\n",
    "c = []\n",
    "while x[i]!='MECH\\n':\n",
    "    c.append(x[i])\n",
    "    i = i+1\n",
    "i = i+1\n",
    "m = []\n",
    "while x[i]!='EXTC\\n':\n",
    "    m.append(x[i])\n",
    "    i = i+1\n",
    "i = i+1\n",
    "ex = []\n",
    "while x[i]!='INSTRU\\n':\n",
    "    ex.append(x[i])\n",
    "    i = i+1\n",
    "i = i+1\n",
    "ins = []\n",
    "while x[i]!='IT\\n':\n",
    "    ins.append(x[i])\n",
    "    i = i+1\n",
    "i = i+1\n",
    "it = []\n",
    "while x[i]!='XX':\n",
    "    it.append(x[i])\n",
    "    i = i+1\n",
    "\n",
    "fe = set(fe)\n",
    "c = set(c)\n",
    "m = set(m)\n",
    "ex = set(ex)\n",
    "ins = set(ins)\n",
    "it = set(it)\n",
    "\n",
    "ap = [(\"\".join(list(i)[:-1]),'Applied Sciences') for i in fe]\n",
    "com = [(\"\".join(list(i)[:-1]),'Computer Engineering') for i in c]\n",
    "mech = [(\"\".join(list(i)[:-1]),'Mechanical Engineering') for i in m]\n",
    "extc = [(\"\".join(list(i)[:-1]),'Electronics and Telecommunication') for i in ex]\n",
    "instr= [(\"\".join(list(i)[:-1]),'Instumentation Engineering') for i in ins]\n",
    "itech = [(\"\".join(list(i)[:-1]),'Information Technology') for i in it]\n",
    "\n",
    "final = ap+com+mech+extc+instr+itech\n",
    "\n",
    "print(final)\n",
    "\n",
    "\n",
    "            \n",
    "        "
   ]
  },
  {
   "cell_type": "code",
   "execution_count": 2,
   "metadata": {},
   "outputs": [],
   "source": [
    "import pymysql\n",
    "\n",
    "db = pymysql.connect(\"localhost\",\"root\",\"\",\"feedback_rgit\" )\n",
    "\n",
    "cursor = db.cursor()\n",
    "\n",
    "sql = \"INSERT INTO teacher (teacher_name, teacher_dept) VALUES (%s, %s)\"\n",
    "cursor.executemany(sql, final)\n",
    "\n",
    "db.commit()\n",
    "\n",
    "db.close()"
   ]
  },
  {
   "cell_type": "code",
   "execution_count": 5,
   "metadata": {},
   "outputs": [
    {
     "name": "stdout",
     "output_type": "stream",
     "text": [
      "[('Engineering Maths - 1', '1', 'Applied Sciences'), ('Engineering Physics - 1', '1', 'Applied Sciences'), ('Engineering Chemistry - 1', '1', 'Applied Sciences'), ('Engineering Mechanics', '1', 'Applied Sciences'), ('BEE', '1', 'Applied Sciences'), ('Applied Mathematics', '', 'Computer Engineering'), ('Object Oriented Programming Methodology', '3', 'Computer Engineering'), ('Data Structures', '3', 'Computer Engineering'), ('Digital Logic Desing & Analysis', '3', 'Computer Engineering'), ('Discrete Mathematics', '3 ', 'Computer Engineering'), ('Electronic Ckts', '3', 'Computer Engineering'), ('Business Communication & Ethics', '5', 'Computer Engineering'), ('Computer Network', '', 'Computer Engineering'), ('Database Management System', '5', 'Computer Engineering'), ('Microprocessor', '5', 'Computer Engineering'), ('Theory Of Computer Science', '5', 'Computer Engineering'), ('Web Design (Lab)', '5', 'Computer Engineering'), ('Advanced Algorithms', '5', 'Computer Engineering'), ('Multimedia Systems', '5', 'Computer Engineering'), ('Artificial Intelligence And Soft Computing', '7', 'Computer Engineering'), ('Digital Signal And Image Processing', '7', 'Computer Engineering'), ('Mobile Communication And Computation', '7', 'Computer Engineering'), ('Big Data Analytics', '7', 'Computer Engineering'), ('Management Information Systems', '7', 'Computer Engineering'), ('Cyber Security Laws', '7', 'Computer Engineering'), ('Thermodynamics', '3', 'Mechanical Engineering'), ('Strength Of Material', '3', 'Mechanical Engineering'), ('Computer Aided Machine Drawing', '3', 'Mechanical Engineering'), ('Production Process', '3', 'Mechanical Engineering'), ('Material Technology', '3', 'Mechanical Engineering'), ('Applied Mathematics', '3', 'Mechanical Engineering'), ('Internal Combustion Engines', '5', 'Mechanical Engineering'), ('Heat Transfer', '5', 'Mechanical Engineering'), ('Dynamics Of Machinery', '5', 'Mechanical Engineering'), ('Mechanical Measurements & Control', '5', 'Mechanical Engineering'), ('Design Of Jigs & Fixtures', '5', 'Mechanical Engineering'), ('Press Tool Design', '5', 'Mechanical Engineering'), ('Manufacturing Science Lab', '5', 'Mechanical Engineering'), ('Business Communication And Ethics', '5', 'Mechanical Engineering'), ('Production, Planning Control', '7', 'Mechanical Engineering'), ('Cad/Cam/Cae', '7', 'Mechanical Engineering'), ('Vii Machine Design-I', '7', 'Mechanical Engineering'), ('Automobile Engineering', '7', 'Mechanical Engineering'), ('Energy Audit & Management', '7', 'Mechanical Engineering'), ('Operation Research', '7', 'Mechanical Engineering'), ('Digital System Design', '3', 'Electronics and Telecommunication'), ('Circuit Theory and Networks', '3', 'Electronics and Telecommunication'), ('Electronic Instrumentation and Control', '3', 'Electronics and Telecommunication'), ('OOP using JAVA Laboratory', '3', 'Electronics and Telecommunication'), ('Applied Mathematics', '3', 'Electronics and Telecommunication'), ('Electronic Devices and Circuits-I', '3', 'Electronics and Telecommunication'), ('Digital System Design', '3', 'Electronics and Telecommunication'), ('Circuit Theory and Networks', '3', 'Electronics and Telecommunication'), ('Electronic Instrumentation and Control', '3', 'Electronics and Telecommunication'), ('Microprocessor & Peripherals Interfacing', '5', 'Electronics and Telecommunication'), ('Digital Communication', '5', 'Electronics and Telecommunication'), ('Electromagnetic Engineering', '5 ', 'Electronics and Telecommunication'), ('Discrete Time Signal Processing', '5', 'Electronics and Telecommunication'), ('Microelectronics', '5', 'Electronics and Telecommunication'), ('Data Compression and Encryption', '5', 'Electronics and Telecommunication'), ('Business Communication & Ethics', '5', 'Electronics and Telecommunication'), ('Discrete Time Signal Processing', '5', 'Electronics and Telecommunication'), ('Mobile Communication System', '7', 'Electronics and Telecommunication'), ('Optical Communication', '7', 'Electronics and Telecommunication'), ('Microwave Engineering', '7', 'Electronics and Telecommunication'), ('Cyber Security and Laws', '7', 'Electronics and Telecommunication'), ('Big Data Analytics', '7', 'Electronics and Telecommunication'), ('Embedded System', '7', 'Electronics and Telecommunication'), ('Analog Electronics', '3', 'Instumentation Engineering'), ('Transducers', '3', 'Instumentation Engineering'), ('Electrical Networks', '3', 'Instumentation Engineering'), ('Digital Electronics', '3', 'Instumentation Engineering'), ('OOPM', '3', 'Instumentation Engineering'), ('Applied Maths', '3', 'Instumentation Engineering'), ('Application of microprocessors', '5', 'Instumentation Engineering'), ('Signal System', '5', 'Instumentation Engineering'), ('Control System Design', '5', 'Instumentation Engineering'), ('Control System Components', '5', 'Instumentation Engineering'), ('Business Communication and Ethics', '5', 'Instumentation Engineering'), ('Advanced Sensors', '5', 'Instumentation Engineering'), ('FOI', '5', 'Instumentation Engineering'), ('Biomedical Instrumentation', '7', 'Instumentation Engineering'), ('Industrial Automation', '7', 'Instumentation Engineering'), ('Reliability Engineering', '7', 'Instumentation Engineering'), ('Industrial Process Control', '7', 'Instumentation Engineering'), ('Image Processing', '7', 'Instumentation Engineering'), ('Data Structures & Analysis', '3', 'Information Technology'), ('Database Management System', '3', 'Information Technology'), ('Applied Mathematics-', '3', 'Information Technology'), ('Logic Design', '3', 'Information Technology'), ('Java Programming', '3', 'Information Technology'), ('Principles of Communications', '3', 'Information Technology'), ('Microcontroller & Embedded Programming', '5', 'Information Technology'), ('E-Commerce & E-Business', '5', 'Information Technology'), ('Advanced Database Management Technology', '5', 'Information Technology'), ('Internet Programming', '5', 'Information Technology'), ('Business Communication and Ethics', '5', 'Information Technology'), ('Cryptography & Network Security', '5', 'Information Technology'), ('Management Information System', '7', 'Information Technology'), ('Artificial Intelligence', '7', 'Information Technology'), ('Infrastructure Security', '7', 'Information Technology'), ('Soft Computing', '7', 'Information Technology'), ('Enterprise Network Design', '7', 'Information Technology'), ('Software Testing Quality Assurance', '', 'Information Technology')]\n"
     ]
    }
   ],
   "source": [
    "f2 = open(r\"Subjects.txt\")\n",
    "x = f2.readlines()\n",
    "# print(x)\n",
    "x.append(\"XX\")\n",
    "i = 1\n",
    "fe = []\n",
    "while x[i]!='COMPS\\n':\n",
    "    k = x[i].split(\":\")\n",
    "    fe.append((k[0],k[1][:-1],'Applied Sciences'))\n",
    "    i = i+1\n",
    "i = i+1\n",
    "c = []\n",
    "while x[i]!='MECH\\n':\n",
    "    k = x[i].split(\":\")\n",
    "    c.append((k[0],k[1][:-1],'Computer Engineering'))\n",
    "    i = i+1\n",
    "i = i+1\n",
    "m = []\n",
    "while x[i]!='EXTC\\n':\n",
    "    k = x[i].split(\":\")\n",
    "    m.append((k[0],k[1][:-1],'Mechanical Engineering'))\n",
    "    i=i+1\n",
    "i = i+1\n",
    "ex = []\n",
    "while x[i]!='INSTRU\\n':\n",
    "    k = x[i].split(\":\")\n",
    "    ex.append((k[0],k[1][:-1],'Electronics and Telecommunication'))\n",
    "    i = i+1\n",
    "i = i+1\n",
    "ins = []\n",
    "while x[i]!='IT\\n':\n",
    "    k = x[i].split(\":\")\n",
    "    ins.append((k[0],k[1][:-1],'Instumentation Engineering'))\n",
    "    i = i+1\n",
    "i = i+1\n",
    "its = []\n",
    "while x[i]!='XX':\n",
    "    k = x[i].split(\":\")\n",
    "    its.append((k[0],k[1][:-1],'Information Technology'))\n",
    "    i = i+1\n",
    "\n",
    "final = fe+c+m+ex+ins+its\n",
    "\n",
    "print(final)\n",
    "\n",
    "\n",
    "            \n",
    "        "
   ]
  },
  {
   "cell_type": "code",
   "execution_count": 6,
   "metadata": {},
   "outputs": [],
   "source": [
    "import pymysql\n",
    "\n",
    "db = pymysql.connect(\"localhost\",\"root\",\"\",\"feedback_rgit\" )\n",
    "\n",
    "cursor = db.cursor()\n",
    "\n",
    "sql = \"INSERT INTO subject (sub_name,sub_sem,sub_dept ) VALUES (%s, %s, %s)\"\n",
    "\n",
    "cursor.executemany(sql, final)\n",
    "\n",
    "db.commit()\n",
    "\n",
    "db.close()"
   ]
  },
  {
   "cell_type": "code",
   "execution_count": 1,
   "metadata": {},
   "outputs": [],
   "source": [
    "import pymysql\n",
    "import random as r\n",
    "\n",
    "li = ['1','2','3','4','5']\n",
    "\n",
    "db = pymysql.connect(\"localhost\",\"root\",\"\",\"feedback_rgit\" )\n",
    "\n",
    "cursor = db.cursor()\n",
    "\n",
    "sql = \"INSERT INTO feedback_temp(teacher_id, sub_id, ques1, ques2, ques3, ques4, ques5, ques6, ques7, ques8, ques9, ques10, ques11, ques12, remark) VALUES (%s, %s, %s,%s, %s, %s,%s, %s, %s,%s, %s, %s,%s, %s, %s)\"\n",
    "\n",
    "tid = ['4','20','16','17','2']\n",
    "sid = ['1','2','3','4','5']\n",
    "for j in range(5):\n",
    "    feed = []\n",
    "    for i in range(5):\n",
    "        a = (tid[i],sid[i],r.choice(li),r.choice(li),r.choice(li),r.choice(li),r.choice(li),r.choice(li),r.choice(li),r.choice(li),r.choice(li),r.choice(li),r.choice(li),r.choice(li),r.choice(li))\n",
    "        feed.append(a)\n",
    "    cursor.executemany(sql, feed)\n",
    "    db.commit()\n",
    "\n",
    "db.close()"
   ]
  },
  {
   "cell_type": "code",
   "execution_count": null,
   "metadata": {},
   "outputs": [],
   "source": [
    "lazyass log,,, sab chiz python se karna hai\n",
    "\n",
    "c me fft karo in nxn times\n",
    "\n"
   ]
  }
 ],
 "metadata": {
  "kernelspec": {
   "display_name": "Python 3",
   "language": "python",
   "name": "python3"
  },
  "language_info": {
   "codemirror_mode": {
    "name": "ipython",
    "version": 3
   },
   "file_extension": ".py",
   "mimetype": "text/x-python",
   "name": "python",
   "nbconvert_exporter": "python",
   "pygments_lexer": "ipython3",
   "version": "3.6.5"
  }
 },
 "nbformat": 4,
 "nbformat_minor": 2
}
