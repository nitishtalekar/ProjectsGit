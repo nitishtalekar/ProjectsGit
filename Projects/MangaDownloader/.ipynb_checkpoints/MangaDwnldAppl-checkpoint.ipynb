{
 "cells": [
  {
   "cell_type": "code",
   "execution_count": 10,
   "metadata": {},
   "outputs": [],
   "source": [
    "import requests\n",
    "from PIL import Image\n",
    "import io"
   ]
  },
  {
   "cell_type": "code",
   "execution_count": 11,
   "metadata": {},
   "outputs": [
    {
     "name": "stdout",
     "output_type": "stream",
     "text": [
      "17 links found\n"
     ]
    }
   ],
   "source": [
    "manga_link = \"https://mangafast.net/bleach-chapter-644/\"\n",
    "manga_name = manga_link.split(\"/\")[-2]\n",
    "manga_site = requests.get(manga_link).text\n",
    "manga = manga_site.split(' ')\n",
    "image_links = []\n",
    "for i in manga:\n",
    "    if \"jpg\" in i and \"src\" in i and \"cdn\" in i:\n",
    "        image_links.append(i[5:-1])\n",
    "print(str(len(image_links)) + \" links found\")"
   ]
  },
  {
   "cell_type": "code",
   "execution_count": 12,
   "metadata": {},
   "outputs": [
    {
     "name": "stdout",
     "output_type": "stream",
     "text": [
      "1 / 17\n",
      "2 / 17\n",
      "3 / 17\n",
      "4 / 17\n",
      "5 / 17\n",
      "6 / 17\n",
      "7 / 17\n",
      "8 / 17\n",
      "9 / 17\n",
      "10 / 17\n",
      "11 / 17\n",
      "12 / 17\n",
      "13 / 17\n",
      "14 / 17\n",
      "15 / 17\n",
      "16 / 17\n",
      "17 / 17\n",
      "Done\n"
     ]
    }
   ],
   "source": [
    "page_list = []\n",
    "for page in range(len(image_links)):\n",
    "    image_data = requests.get(image_links[page]).content\n",
    "    image = Image.open(io.BytesIO(image_data))\n",
    "    page_list.append(image)\n",
    "    print(str(page+1) + \" / \" + str(len(image_links)))\n",
    "\n",
    "cover = Image.open(\"cover.jpg\")\n",
    "pdf_filename = \"CC-\" + manga_name + \".pdf\"\n",
    "cover.save(pdf_filename, \"PDF\" ,resolution=100.0, save_all=True, append_images=page_list)\n",
    "print(\"Done\")"
   ]
  },
  {
   "cell_type": "code",
   "execution_count": 9,
   "metadata": {},
   "outputs": [
    {
     "data": {
      "text/plain": [
       "'bleach-chapter-643'"
      ]
     },
     "execution_count": 9,
     "metadata": {},
     "output_type": "execute_result"
    }
   ],
   "source": [
    "manga_link = \"https://mangafast.net/bleach-chapter-643/\"\n",
    "manga_name = manga_link.split(\"/\")[-2]\n",
    "manga_name"
   ]
  },
  {
   "cell_type": "code",
   "execution_count": 22,
   "metadata": {},
   "outputs": [],
   "source": []
  },
  {
   "cell_type": "code",
   "execution_count": 23,
   "metadata": {},
   "outputs": [],
   "source": []
  },
  {
   "cell_type": "code",
   "execution_count": null,
   "metadata": {},
   "outputs": [],
   "source": []
  }
 ],
 "metadata": {
  "kernelspec": {
   "display_name": "Python 3",
   "language": "python",
   "name": "python3"
  },
  "language_info": {
   "codemirror_mode": {
    "name": "ipython",
    "version": 3
   },
   "file_extension": ".py",
   "mimetype": "text/x-python",
   "name": "python",
   "nbconvert_exporter": "python",
   "pygments_lexer": "ipython3",
   "version": "3.6.5"
  }
 },
 "nbformat": 4,
 "nbformat_minor": 2
}
