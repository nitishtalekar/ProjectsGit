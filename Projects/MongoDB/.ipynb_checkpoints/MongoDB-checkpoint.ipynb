{
 "cells": [
  {
   "cell_type": "code",
   "execution_count": 1,
   "metadata": {},
   "outputs": [],
   "source": [
    "import pymongo"
   ]
  },
  {
   "cell_type": "code",
   "execution_count": 2,
   "metadata": {},
   "outputs": [],
   "source": [
    "from pymongo import MongoClient"
   ]
  },
  {
   "cell_type": "code",
   "execution_count": 3,
   "metadata": {},
   "outputs": [
    {
     "name": "stdout",
     "output_type": "stream",
     "text": [
      "MongoClient(host=['localhost:27017'], document_class=dict, tz_aware=False, connect=True)\n"
     ]
    }
   ],
   "source": [
    "client = MongoClient()\n",
    "print(client)"
   ]
  },
  {
   "cell_type": "code",
   "execution_count": 5,
   "metadata": {},
   "outputs": [
    {
     "name": "stdout",
     "output_type": "stream",
     "text": [
      "Database(MongoClient(host=['localhost:27017'], document_class=dict, tz_aware=False, connect=True), 'testdb')\n"
     ]
    }
   ],
   "source": [
    "db = client.testdb\n",
    "print(db)"
   ]
  },
  {
   "cell_type": "code",
   "execution_count": 7,
   "metadata": {},
   "outputs": [
    {
     "name": "stdout",
     "output_type": "stream",
     "text": [
      "Collection(Database(MongoClient(host=['localhost:27017'], document_class=dict, tz_aware=False, connect=True), 'testdb'), 'testing')\n"
     ]
    }
   ],
   "source": [
    "test1 = db.testing\n",
    "print(test1)"
   ]
  },
  {
   "cell_type": "code",
   "execution_count": 12,
   "metadata": {},
   "outputs": [
    {
     "name": "stdout",
     "output_type": "stream",
     "text": [
      "{'name': 'Luffy', 'power': 'GumGum', 'post': 'Captian'}\n",
      "{'name': 'Zoro', 'power': '3Sword', 'post': 'First Mate'}\n"
     ]
    }
   ],
   "source": [
    "testdict = {'name':'Luffy','power':'GumGum','post':'Captian'}\n",
    "print(testdict)\n",
    "testdict2 = {'name':'Zoro','power':'3Sword','post':'First Mate'}\n",
    "print(testdict2)"
   ]
  },
  {
   "cell_type": "code",
   "execution_count": 13,
   "metadata": {},
   "outputs": [
    {
     "name": "stdout",
     "output_type": "stream",
     "text": [
      "<pymongo.results.InsertOneResult object at 0x0000028F9FD76E48>\n"
     ]
    }
   ],
   "source": [
    "res = test1.insert_one(testdict2)\n",
    "print(res)"
   ]
  },
  {
   "cell_type": "code",
   "execution_count": 14,
   "metadata": {},
   "outputs": [
    {
     "data": {
      "text/plain": [
       "ObjectId('5d9a3586ca1592d1c088e9cb')"
      ]
     },
     "execution_count": 14,
     "metadata": {},
     "output_type": "execute_result"
    }
   ],
   "source": [
    "res.inserted_id"
   ]
  },
  {
   "cell_type": "code",
   "execution_count": 15,
   "metadata": {},
   "outputs": [
    {
     "data": {
      "text/plain": [
       "ObjectId('5d9a3785ca1592d1c088e9cc')"
      ]
     },
     "execution_count": 15,
     "metadata": {},
     "output_type": "execute_result"
    }
   ],
   "source": [
    "db.testing.insert_one({'name':'Nami','power':'Climatact','post':'Navigator'}).inserted_id"
   ]
  },
  {
   "cell_type": "code",
   "execution_count": 20,
   "metadata": {},
   "outputs": [
    {
     "name": "stdout",
     "output_type": "stream",
     "text": [
      "[ObjectId('5d9a39f8ca1592d1c088e9d9'), ObjectId('5d9a39f8ca1592d1c088e9da'), ObjectId('5d9a39f8ca1592d1c088e9db')]\n"
     ]
    }
   ],
   "source": [
    "pirates = [{'name':'Ussop','power':'God','post':'Sniper'}]\n",
    "pirates.append({'name':'Sanji','power':'BlackLeg','post':'Cook'})\n",
    "pirates.append({'name':'Chopper','power':'HumanHuman','post':'Doctor'})\n",
    "\n",
    "print(db.testing.insert_many(pirates).inserted_ids)"
   ]
  },
  {
   "cell_type": "code",
   "execution_count": 27,
   "metadata": {},
   "outputs": [
    {
     "data": {
      "text/plain": [
       "[{'_id': ObjectId('5d9a352aca1592d1c088e9ca'),\n",
       "  'name': 'Luffy',\n",
       "  'power': 'GumGum',\n",
       "  'post': 'Captian'},\n",
       " {'_id': ObjectId('5d9a3586ca1592d1c088e9cb'),\n",
       "  'name': 'Zoro',\n",
       "  'power': '3Sword',\n",
       "  'post': 'First Mate'},\n",
       " {'_id': ObjectId('5d9a3785ca1592d1c088e9cc'),\n",
       "  'name': 'Nami',\n",
       "  'power': 'Climatact',\n",
       "  'post': 'Navigator'},\n",
       " {'_id': ObjectId('5d9a39f8ca1592d1c088e9d9'),\n",
       "  'name': 'Ussop',\n",
       "  'power': 'God',\n",
       "  'post': 'Sniper'},\n",
       " {'_id': ObjectId('5d9a39f8ca1592d1c088e9da'),\n",
       "  'name': 'Sanji',\n",
       "  'power': 'BlackLeg',\n",
       "  'post': 'Cook'},\n",
       " {'_id': ObjectId('5d9a39f8ca1592d1c088e9db'),\n",
       "  'name': 'Chopper',\n",
       "  'power': 'HumanHuman',\n",
       "  'post': 'Doctor'}]"
      ]
     },
     "execution_count": 27,
     "metadata": {},
     "output_type": "execute_result"
    }
   ],
   "source": [
    "cur = test1.find()\n",
    "curs = [i for i in cur]\n",
    "curs"
   ]
  },
  {
   "cell_type": "code",
   "execution_count": 28,
   "metadata": {},
   "outputs": [
    {
     "data": {
      "text/plain": [
       "ObjectId('5d9a3bd1ca1592d1c088e9dc')"
      ]
     },
     "execution_count": 28,
     "metadata": {},
     "output_type": "execute_result"
    }
   ],
   "source": [
    "db.testing.insert_one({'name':'Robin','power':'Flower','post':'Archeologist','crew':'Strawhats'}).inserted_id"
   ]
  },
  {
   "cell_type": "code",
   "execution_count": 29,
   "metadata": {},
   "outputs": [
    {
     "name": "stderr",
     "output_type": "stream",
     "text": [
      "C:\\Users\\NitishTalekar\\Applictions\\Anaconda3\\lib\\site-packages\\ipykernel_launcher.py:1: DeprecationWarning: update is deprecated. Use replace_one, update_one or update_many instead.\n",
      "  \"\"\"Entry point for launching an IPython kernel.\n"
     ]
    },
    {
     "data": {
      "text/plain": [
       "{'n': 1, 'nModified': 1, 'ok': 1.0, 'updatedExisting': True}"
      ]
     },
     "execution_count": 29,
     "metadata": {},
     "output_type": "execute_result"
    }
   ],
   "source": [
    "test1.update({'name':'Chopper'},{'$set':{'crew':'Strawhats'}},multi = False)"
   ]
  },
  {
   "cell_type": "code",
   "execution_count": 30,
   "metadata": {},
   "outputs": [
    {
     "data": {
      "text/plain": [
       "ObjectId('5d9a3cb8ca1592d1c088e9dd')"
      ]
     },
     "execution_count": 30,
     "metadata": {},
     "output_type": "execute_result"
    }
   ],
   "source": [
    "db.testing.insert_one({'name':'Law','power':'OpeOpe','post':'Doctor','crew':'HeartPirats'}).inserted_id"
   ]
  },
  {
   "cell_type": "code",
   "execution_count": 32,
   "metadata": {},
   "outputs": [
    {
     "data": {
      "text/plain": [
       "[{'_id': ObjectId('5d9a352aca1592d1c088e9ca'),\n",
       "  'name': 'Luffy',\n",
       "  'power': 'GumGum',\n",
       "  'post': 'Captian',\n",
       "  'crew': 'Strawhats'},\n",
       " {'_id': ObjectId('5d9a3586ca1592d1c088e9cb'),\n",
       "  'name': 'Zoro',\n",
       "  'power': '3Sword',\n",
       "  'post': 'First Mate',\n",
       "  'crew': 'Strawhats'},\n",
       " {'_id': ObjectId('5d9a3785ca1592d1c088e9cc'),\n",
       "  'name': 'Nami',\n",
       "  'power': 'Climatact',\n",
       "  'post': 'Navigator',\n",
       "  'crew': 'Strawhats'},\n",
       " {'_id': ObjectId('5d9a39f8ca1592d1c088e9d9'),\n",
       "  'name': 'Ussop',\n",
       "  'power': 'God',\n",
       "  'post': 'Sniper',\n",
       "  'crew': 'Strawhats'},\n",
       " {'_id': ObjectId('5d9a39f8ca1592d1c088e9da'),\n",
       "  'name': 'Sanji',\n",
       "  'power': 'BlackLeg',\n",
       "  'post': 'Cook',\n",
       "  'crew': 'Strawhats'},\n",
       " {'_id': ObjectId('5d9a39f8ca1592d1c088e9db'),\n",
       "  'name': 'Chopper',\n",
       "  'power': 'HumanHuman',\n",
       "  'post': 'Doctor',\n",
       "  'crew': 'Strawhats'},\n",
       " {'_id': ObjectId('5d9a3bd1ca1592d1c088e9dc'),\n",
       "  'name': 'Robin',\n",
       "  'power': 'Flower',\n",
       "  'post': 'Archeologist',\n",
       "  'crew': 'Strawhats'}]"
      ]
     },
     "execution_count": 32,
     "metadata": {},
     "output_type": "execute_result"
    }
   ],
   "source": [
    "x = test1.find({'crew':'Strawhats'})\n",
    "x1 = [i for i in x]\n",
    "x1"
   ]
  },
  {
   "cell_type": "code",
   "execution_count": 33,
   "metadata": {},
   "outputs": [
    {
     "data": {
      "text/plain": [
       "ObjectId('5d9a3d00ca1592d1c088e9de')"
      ]
     },
     "execution_count": 33,
     "metadata": {},
     "output_type": "execute_result"
    }
   ],
   "source": [
    "db.testing.insert_one({'name':'Beppo','power':'Mink','post':'Pet','crew':'HeartPirats'}).inserted_id"
   ]
  },
  {
   "cell_type": "code",
   "execution_count": null,
   "metadata": {},
   "outputs": [],
   "source": [
    "xx = test1.find({'crew':'Strawhats'})\n",
    "x1 = [i for i in xx]\n",
    "x1\n",
    "print(\"=========================\")\n",
    "xy = test1.find({'crew':'HeartPirats'})\n",
    "x2 = [i for i in xy]\n",
    "x2"
   ]
  }
 ],
 "metadata": {
  "kernelspec": {
   "display_name": "Python 3",
   "language": "python",
   "name": "python3"
  },
  "language_info": {
   "codemirror_mode": {
    "name": "ipython",
    "version": 3
   },
   "file_extension": ".py",
   "mimetype": "text/x-python",
   "name": "python",
   "nbconvert_exporter": "python",
   "pygments_lexer": "ipython3",
   "version": "3.6.5"
  }
 },
 "nbformat": 4,
 "nbformat_minor": 2
}
